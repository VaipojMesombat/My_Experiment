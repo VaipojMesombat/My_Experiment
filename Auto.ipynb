{
  "cells": [
    {
      "cell_type": "code",
      "execution_count": null,
      "metadata": {
        "id": "f9GTSLUGfcz9"
      },
      "outputs": [],
      "source": [
        "import pandas as pd\n",
        "import numpy as np\n",
        "import matplotlib as plt\n",
        "from matplotlib import pyplot"
      ]
    },
    {
      "cell_type": "code",
      "execution_count": null,
      "metadata": {
        "id": "Gyhs8R3_gCJP"
      },
      "outputs": [],
      "source": [
        "headers = [\"symboling\",\"normalized-losses\",\"make\",\"fuel-type\",\"aspiration\", \"num-of-doors\",\"body-style\",\n",
        "         \"drive-wheels\",\"engine-location\",\"wheel-base\", \"length\",\"width\",\"height\",\"curb-weight\",\"engine-type\",\n",
        "         \"num-of-cylinders\", \"engine-size\",\"fuel-system\",\"bore\",\"stroke\",\"compression-ratio\",\"horsepower\",\n",
        "         \"peak-rpm\",\"city-mpg\",\"highway-mpg\",\"price\"]"
      ]
    },
    {
      "cell_type": "code",
      "execution_count": null,
      "metadata": {
        "id": "qQTJ7ag5gDOT"
      },
      "outputs": [],
      "source": [
        "df = pd.read_csv(\"/content/auto.csv\",names=headers)"
      ]
    },
    {
      "cell_type": "code",
      "execution_count": null,
      "metadata": {
        "id": "-7jHHSZFgLY4"
      },
      "outputs": [],
      "source": [
        "df.shape"
      ]
    },
    {
      "cell_type": "code",
      "execution_count": null,
      "metadata": {
        "id": "nur7RAF1gREF"
      },
      "outputs": [],
      "source": [
        "df.head(5)"
      ]
    },
    {
      "cell_type": "code",
      "execution_count": null,
      "metadata": {
        "id": "GcDc0OJLgWvD"
      },
      "outputs": [],
      "source": [
        "df.columns"
      ]
    },
    {
      "cell_type": "code",
      "execution_count": null,
      "metadata": {
        "id": "IGJqbD8DgbZN"
      },
      "outputs": [],
      "source": [
        "df.replace(\"?\",np.nan,inplace=True)"
      ]
    },
    {
      "cell_type": "code",
      "execution_count": null,
      "metadata": {
        "id": "nb4B4AnMgkyE"
      },
      "outputs": [],
      "source": [
        "df.isnull().sum()"
      ]
    },
    {
      "cell_type": "markdown",
      "metadata": {
        "id": "iMUZTzWxmAxH"
      },
      "source": [
        "Missing value"
      ]
    },
    {
      "cell_type": "code",
      "execution_count": null,
      "metadata": {
        "id": "Rs6jcAE2gnMJ"
      },
      "outputs": [],
      "source": [
        "avg_loss = df ['normalized-losses'].astype('float').mean(axis=0)"
      ]
    },
    {
      "cell_type": "code",
      "execution_count": null,
      "metadata": {
        "id": "v_TwHTqIhHz5"
      },
      "outputs": [],
      "source": [
        "avg_bore = df ['bore'].astype('float').mean(axis=0)"
      ]
    },
    {
      "cell_type": "code",
      "execution_count": null,
      "metadata": {
        "id": "IFMAs2JfhQff"
      },
      "outputs": [],
      "source": [
        "avg_stroke = df ['stroke'].astype('float').mean(axis=0)"
      ]
    },
    {
      "cell_type": "code",
      "execution_count": null,
      "metadata": {
        "id": "YLRbEDxkhV56"
      },
      "outputs": [],
      "source": [
        "avg_horsepower = df ['horsepower'].astype('float').mean(axis=0)"
      ]
    },
    {
      "cell_type": "code",
      "execution_count": null,
      "metadata": {
        "id": "9KSEki_qhhj5"
      },
      "outputs": [],
      "source": [
        "avg_peak_rpm = df ['peak-rpm'].astype('float').mean(axis=0)"
      ]
    },
    {
      "cell_type": "code",
      "execution_count": null,
      "metadata": {
        "id": "zB5Dn_a1hp6D"
      },
      "outputs": [],
      "source": [
        "df['normalized-losses'].replace(np.nan,avg_loss,inplace=True)"
      ]
    },
    {
      "cell_type": "code",
      "execution_count": null,
      "metadata": {
        "id": "K2sctLCtiA1g"
      },
      "outputs": [],
      "source": [
        "df['bore'].replace(np.nan,avg_bore,inplace=True)"
      ]
    },
    {
      "cell_type": "code",
      "execution_count": null,
      "metadata": {
        "id": "jmwJ_HKgiMEY"
      },
      "outputs": [],
      "source": [
        "df['stroke'].replace(np.nan,avg_stroke,inplace=True)"
      ]
    },
    {
      "cell_type": "code",
      "execution_count": null,
      "metadata": {
        "id": "AHXKfPvSiUcu"
      },
      "outputs": [],
      "source": [
        "df['horsepower'].replace(np.nan,avg_horsepower,inplace=True)"
      ]
    },
    {
      "cell_type": "code",
      "execution_count": null,
      "metadata": {
        "id": "jFDX7VoxidfN"
      },
      "outputs": [],
      "source": [
        "df['peak-rpm'].replace(np.nan,avg_peak_rpm,inplace=True)"
      ]
    },
    {
      "cell_type": "code",
      "execution_count": null,
      "metadata": {
        "id": "3-HeFSTYimAy"
      },
      "outputs": [],
      "source": [
        "df.isnull().sum()"
      ]
    },
    {
      "cell_type": "code",
      "execution_count": null,
      "metadata": {
        "id": "eeE-65JIiqL7"
      },
      "outputs": [],
      "source": [
        "df['num-of-doors'].value_counts().idxmax()"
      ]
    },
    {
      "cell_type": "code",
      "execution_count": null,
      "metadata": {
        "id": "_fvrLc39izH7"
      },
      "outputs": [],
      "source": [
        "df['num-of-doors'].replace (np.nan,'four',inplace=True)"
      ]
    },
    {
      "cell_type": "code",
      "execution_count": null,
      "metadata": {
        "id": "_ZS_V8s_i-fP"
      },
      "outputs": [],
      "source": [
        "df.dropna (subset=['price'],axis=0,inplace=True)"
      ]
    },
    {
      "cell_type": "code",
      "execution_count": null,
      "metadata": {
        "id": "LolLfq85jKCU"
      },
      "outputs": [],
      "source": [
        "df.reset_index(drop=True,inplace=True)"
      ]
    },
    {
      "cell_type": "code",
      "execution_count": null,
      "metadata": {
        "id": "sIyaHyD2jUpK"
      },
      "outputs": [],
      "source": [
        "df.isnull().sum()"
      ]
    },
    {
      "cell_type": "markdown",
      "metadata": {
        "id": "EYrI8uPYjhJx"
      },
      "source": [
        "Standardization"
      ]
    },
    {
      "cell_type": "code",
      "execution_count": null,
      "metadata": {
        "id": "41uaHIdAjYLm"
      },
      "outputs": [],
      "source": [
        "df ['City-L/100KM'] = 235/df['city-mpg']\n",
        "df[['City-L/100KM','city-mpg']]"
      ]
    },
    {
      "cell_type": "code",
      "execution_count": null,
      "metadata": {
        "id": "er61YUNWjv03"
      },
      "outputs": [],
      "source": [
        "df ['highway-L/100KM'] = 235/df['highway-mpg']"
      ]
    },
    {
      "cell_type": "code",
      "execution_count": null,
      "metadata": {
        "id": "oJd9W51ukBea"
      },
      "outputs": [],
      "source": [
        "df [['highway-L/100KM','highway-mpg']]"
      ]
    },
    {
      "cell_type": "code",
      "execution_count": null,
      "metadata": {
        "id": "HXyZyjnzkcVn"
      },
      "outputs": [],
      "source": [
        "df.head(5)"
      ]
    },
    {
      "cell_type": "code",
      "execution_count": null,
      "metadata": {
        "id": "ub1uEGZ6lxQQ"
      },
      "outputs": [],
      "source": [
        "df.columns"
      ]
    },
    {
      "cell_type": "code",
      "execution_count": null,
      "metadata": {
        "id": "yFBbfJJNkunr"
      },
      "outputs": [],
      "source": [
        "df['length']=df['length']/df['length'].max()"
      ]
    },
    {
      "cell_type": "code",
      "execution_count": null,
      "metadata": {
        "id": "TbRLDdw9mfr8"
      },
      "outputs": [],
      "source": [
        "df['width']=df['width']/df['width'].max()"
      ]
    },
    {
      "cell_type": "code",
      "execution_count": null,
      "metadata": {
        "id": "vZoZG0N1mmpl"
      },
      "outputs": [],
      "source": [
        "df['height']=df['height']/df['height'].max()"
      ]
    },
    {
      "cell_type": "code",
      "execution_count": null,
      "metadata": {
        "id": "6gEuPlzKmuln"
      },
      "outputs": [],
      "source": [
        "df.head()"
      ]
    },
    {
      "cell_type": "code",
      "execution_count": null,
      "metadata": {
        "id": "3hqMglpXmv8H"
      },
      "outputs": [],
      "source": [
        "df.dtypes"
      ]
    },
    {
      "cell_type": "markdown",
      "metadata": {
        "id": "RnNrtDIVn4Ki"
      },
      "source": [
        "Correct Data Type"
      ]
    },
    {
      "cell_type": "code",
      "execution_count": null,
      "metadata": {
        "id": "dOxDNS5km4Oj"
      },
      "outputs": [],
      "source": [
        "df['normalized-losses'] = df ['normalized-losses'].astype('int')\n",
        "df['bore']=df['bore'].astype('float')\n",
        "df['stroke']=df['stroke'].astype('float')\n",
        "df['horsepower']=df['horsepower'].astype('float')\n",
        "df['peak-rpm']=df['peak-rpm'].astype('float')"
      ]
    },
    {
      "cell_type": "code",
      "execution_count": null,
      "metadata": {
        "id": "cMh33rnznrFP"
      },
      "outputs": [],
      "source": [
        "df.dtypes"
      ]
    },
    {
      "cell_type": "markdown",
      "metadata": {
        "id": "dAQr0GmloGK5"
      },
      "source": [
        "Normalization"
      ]
    },
    {
      "cell_type": "code",
      "execution_count": null,
      "metadata": {
        "id": "6WATou4xnskJ"
      },
      "outputs": [],
      "source": [
        "df ['horsepower'] = df ['horsepower'].astype('int',copy=True)"
      ]
    },
    {
      "cell_type": "code",
      "execution_count": null,
      "metadata": {
        "id": "NpzJGbzSokHm"
      },
      "outputs": [],
      "source": [
        "plt.pyplot.hist (df['horsepower'])\n",
        "plt.pyplot.xlabel(\"horespower\")\n",
        "plt.pyplot.ylabel(\"count\")\n",
        "plt.pyplot.title (\"Horsepower\")"
      ]
    },
    {
      "cell_type": "code",
      "execution_count": null,
      "metadata": {
        "id": "5jgtImw1o6iF"
      },
      "outputs": [],
      "source": [
        "bins = np.linspace (min(df['horsepower']),max(df['horsepower']),4)\n",
        "bins"
      ]
    },
    {
      "cell_type": "code",
      "execution_count": null,
      "metadata": {
        "id": "qqmc-Ex6p791"
      },
      "outputs": [],
      "source": [
        "group_names=[\"Low\",\"Medium\",\"High\"]"
      ]
    },
    {
      "cell_type": "code",
      "execution_count": null,
      "metadata": {
        "id": "lFLHy8Hqpgkw"
      },
      "outputs": [],
      "source": [
        "df['horsepower-bined'] = pd.cut (df['horsepower'],bins,labels=group_names,include_lowest=True)"
      ]
    },
    {
      "cell_type": "code",
      "execution_count": null,
      "metadata": {
        "id": "PDAvkzxCqEma"
      },
      "outputs": [],
      "source": [
        "plt.pyplot.bar (group_names, df['horsepower-bined'].value_counts())\n",
        "plt.pyplot.xlabel(\"horespower\")\n",
        "plt.pyplot.ylabel(\"count\")\n",
        "plt.pyplot.title (\"Horsepower bined\")"
      ]
    },
    {
      "cell_type": "code",
      "execution_count": null,
      "metadata": {
        "id": "OkcmFd3GqmEW"
      },
      "outputs": [],
      "source": [
        "df.head(5)"
      ]
    },
    {
      "cell_type": "code",
      "execution_count": null,
      "metadata": {
        "id": "eMet9SzNrFm3"
      },
      "outputs": [],
      "source": [
        "df ['aspiration'].value_counts()"
      ]
    },
    {
      "cell_type": "code",
      "execution_count": null,
      "metadata": {
        "id": "cDKLivM2rSUc"
      },
      "outputs": [],
      "source": [
        "dummy1 = pd.get_dummies (df['aspiration'])\n",
        "dummy1.head(2)"
      ]
    },
    {
      "cell_type": "code",
      "execution_count": null,
      "metadata": {
        "id": "nBPFiIfUty-H"
      },
      "outputs": [],
      "source": [
        "dummy1.rename(columns={'std':'aspiration-std','turbo':'aspiration-turbo'},inplace=True)\n",
        "dummy1.head(2)"
      ]
    },
    {
      "cell_type": "code",
      "execution_count": null,
      "metadata": {
        "id": "brgCI1Zzrsug"
      },
      "outputs": [],
      "source": [
        "dummy2 = pd.get_dummies (df['fuel-type'])\n",
        "dummy2.head(2)"
      ]
    },
    {
      "cell_type": "code",
      "execution_count": null,
      "metadata": {
        "id": "xzKvJjckr6Vo"
      },
      "outputs": [],
      "source": [
        "dummy2.rename(columns={'diesel':'fuel-type-diesel','gas':'fuel-type-gas'},inplace=True)"
      ]
    },
    {
      "cell_type": "code",
      "execution_count": null,
      "metadata": {
        "id": "kgwGGdIMuvTZ"
      },
      "outputs": [],
      "source": [
        "dummy2.head(2)"
      ]
    },
    {
      "cell_type": "code",
      "execution_count": null,
      "metadata": {
        "id": "BaIdlwZfu4sE"
      },
      "outputs": [],
      "source": [
        "df = pd.concat([df,dummy1,dummy2],axis=1)"
      ]
    },
    {
      "cell_type": "code",
      "execution_count": null,
      "metadata": {
        "id": "P0yZsaXvvCVs"
      },
      "outputs": [],
      "source": [
        "df.head(2)"
      ]
    },
    {
      "cell_type": "code",
      "execution_count": null,
      "metadata": {
        "id": "-ymYpJP_vPMy"
      },
      "outputs": [],
      "source": [
        "df.drop(['aspiration','fuel-type'],axis=1,inplace=True)"
      ]
    },
    {
      "cell_type": "code",
      "execution_count": null,
      "metadata": {
        "id": "f6EKizA9vn_x"
      },
      "outputs": [],
      "source": [
        "df.head(2)"
      ]
    },
    {
      "cell_type": "code",
      "execution_count": null,
      "metadata": {
        "id": "7ADKaoP-vy3E"
      },
      "outputs": [],
      "source": [
        "#df.drop(['highway-mpg','city-mpg','City-L@KM'],axis=1,inplace=True)"
      ]
    },
    {
      "cell_type": "code",
      "execution_count": null,
      "metadata": {
        "id": "46TiB3U9wGni"
      },
      "outputs": [],
      "source": [
        "df.head(2)"
      ]
    },
    {
      "cell_type": "code",
      "execution_count": null,
      "metadata": {
        "id": "qmQehIELwKoN"
      },
      "outputs": [],
      "source": [
        "df['price'].dtypes"
      ]
    },
    {
      "cell_type": "code",
      "execution_count": null,
      "metadata": {
        "id": "5hhACESPwWKY"
      },
      "outputs": [],
      "source": [
        "df['price'] = df['price'].astype('float')"
      ]
    },
    {
      "cell_type": "code",
      "execution_count": null,
      "metadata": {
        "id": "Hmm2YK_9wi8V"
      },
      "outputs": [],
      "source": [
        "df['price'].dtypes"
      ]
    },
    {
      "cell_type": "code",
      "execution_count": null,
      "metadata": {
        "id": "mpYfYaqswqxz"
      },
      "outputs": [],
      "source": [
        "df.head(2)"
      ]
    },
    {
      "cell_type": "code",
      "execution_count": null,
      "metadata": {
        "id": "NZ8yRVaYwszA"
      },
      "outputs": [],
      "source": [
        "%pip install -U dataprep"
      ]
    },
    {
      "cell_type": "code",
      "execution_count": null,
      "metadata": {
        "id": "hklOIeoExQQd"
      },
      "outputs": [],
      "source": [
        "from dataprep.eda import plot\n",
        "from dataprep.eda import plot_missing"
      ]
    },
    {
      "cell_type": "code",
      "execution_count": null,
      "metadata": {
        "id": "wYgxSvAkxk7p"
      },
      "outputs": [],
      "source": [
        "plot(df)"
      ]
    },
    {
      "cell_type": "code",
      "execution_count": null,
      "metadata": {
        "id": "dhjoeGw3xmbT"
      },
      "outputs": [],
      "source": [
        "from dataprep.eda import plot_missing"
      ]
    },
    {
      "cell_type": "code",
      "execution_count": null,
      "metadata": {
        "id": "Gb0X9uDo0L6S"
      },
      "outputs": [],
      "source": [
        "plot_missing(df)"
      ]
    },
    {
      "cell_type": "code",
      "execution_count": null,
      "metadata": {
        "id": "5dbV6-FB0Xpw"
      },
      "outputs": [],
      "source": [
        "df.columns"
      ]
    },
    {
      "cell_type": "code",
      "execution_count": null,
      "metadata": {
        "id": "mYWFGyni0ozD"
      },
      "outputs": [],
      "source": [
        "df ['horsepower-bined'].isnull().sum()"
      ]
    },
    {
      "cell_type": "code",
      "execution_count": null,
      "metadata": {
        "id": "hd94xChW0tOh"
      },
      "outputs": [],
      "source": [
        "df.columns"
      ]
    },
    {
      "cell_type": "code",
      "execution_count": null,
      "metadata": {
        "id": "ETrYIAqS1dbg"
      },
      "outputs": [],
      "source": [
        "from dataprep.eda import plot_correlation"
      ]
    },
    {
      "cell_type": "code",
      "execution_count": null,
      "metadata": {
        "id": "F45LXhXP1qNp"
      },
      "outputs": [],
      "source": [
        "plot_correlation(df)"
      ]
    },
    {
      "cell_type": "code",
      "execution_count": null,
      "metadata": {
        "id": "_tLm9Azr1xGt"
      },
      "outputs": [],
      "source": [
        "from dataprep.eda import create_report"
      ]
    },
    {
      "cell_type": "code",
      "execution_count": null,
      "metadata": {
        "id": "S533srqW2cLX"
      },
      "outputs": [],
      "source": [
        "report=create_report(df)"
      ]
    },
    {
      "cell_type": "code",
      "execution_count": null,
      "metadata": {
        "colab": {
          "base_uri": "https://localhost:8080/",
          "height": 1000
        },
        "id": "R_f24VVZ2lrf",
        "outputId": "0d2f72cf-3dce-4014-d837-54fda370ddd7"
      },
      "outputs": [],
      "source": [
        "report.show()"
      ]
    },
    {
      "cell_type": "code",
      "execution_count": null,
      "metadata": {
        "id": "_pnnxYT33UxC"
      },
      "outputs": [],
      "source": []
    }
  ],
  "metadata": {
    "colab": {
      "collapsed_sections": [],
      "name": "Auto.ipynb",
      "provenance": []
    },
    "kernelspec": {
      "display_name": "Python 3",
      "name": "python3"
    },
    "language_info": {
      "name": "python"
    }
  },
  "nbformat": 4,
  "nbformat_minor": 0
}
