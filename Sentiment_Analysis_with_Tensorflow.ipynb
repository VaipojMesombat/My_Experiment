{
  "cells": [
    {
      "cell_type": "markdown",
      "metadata": {
        "id": "CQH9LcjC0nQ8"
      },
      "source": [
        "<p> IDE: Colab </p>"
      ]
    },
    {
      "cell_type": "code",
      "execution_count": 8,
      "metadata": {
        "id": "wQiDXUx1lG09"
      },
      "outputs": [],
      "source": [
        "import io,sys\n",
        "import tensorflow as tf\n",
        "import tensorflow.keras as keras\n",
        "import tensorflow_datasets as tfds\n",
        "from keras import layers\n",
        "import numpy as np\n",
        "import pandas as pd\n",
        "import matplotlib.pyplot as plt\n",
        "import tensorflow_datasets as tfds\n",
        "import warnings; warnings.simplefilter('ignore')"
      ]
    },
    {
      "cell_type": "code",
      "execution_count": 9,
      "metadata": {
        "id": "S5UTNdzwlKlf"
      },
      "outputs": [],
      "source": [
        "def get_batch_data ():\n",
        "\n",
        "  (train_data,test_data),info = tfds.load ('imdb_reviews/subwords8k',split=(tfds.Split.TRAIN,tfds.Split.TEST),with_info=True,as_supervised=True)\n",
        "  encoder = info.features['text'].encoder\n",
        "  padded_shapes = ([None],())\n",
        "  train_batches = train_data.shuffle(1000).padded_batch(10, padded_shapes = padded_shapes)\n",
        "  test_batches = test_data.shuffle(1000).padded_batch(10, padded_shapes = padded_shapes)\n",
        "\n",
        "  return train_batches,test_batches,encoder\n"
      ]
    },
    {
      "cell_type": "code",
      "execution_count": 10,
      "metadata": {
        "id": "ynw_hchvJ2WD"
      },
      "outputs": [],
      "source": [
        "def get_model (encoder, embedding_dim = 16):\n",
        "  \n",
        "  model = keras.Sequential ([layers.Embedding(encoder.vocab_size,embedding_dim),\n",
        "                           layers.GlobalAveragePooling1D(),\n",
        "                           layers.Dense(1,activation = 'sigmoid') ])\n",
        "  model.compile(optimizer = 'adam',loss='binary_crossentropy',metrics=['accuracy'])\n",
        "  history = model.fit(train_batches,epochs=10, validation_data=test_batches,validation_steps=20)  \n",
        "  return model\n"
      ]
    },
    {
      "cell_type": "code",
      "execution_count": 11,
      "metadata": {
        "id": "2mXhSchIUGXl"
      },
      "outputs": [],
      "source": [
        "def plot_data (history) :\n",
        "  \n",
        "  history_dict = history.history\n",
        "  acc = history_dict['accuracy']\n",
        "  val_acc = history_dict ['accuracy']\n",
        "  epochs = range (1,len (acc) + 1)\n",
        "  plt.figure (figsize=(12,9))\n",
        "  plt.figure (figsize=(12,9))\n",
        "  plt.plot (epochs,acc,'bo',label='train acc')\n",
        "  plt.plot (epochs, val_acc,'b', label = 'Validation acc')\n",
        "  plt.title ('Training and validation accuracy')\n",
        "  plt.xlabel('Epochs')\n",
        "  plt.ylabel ('Accuracy')\n",
        "  plt.legend (loc='lower right')\n",
        "  plt.ylim ((0.5,1))\n",
        "  plt.show ()\n",
        "\n",
        "  return "
      ]
    },
    {
      "cell_type": "code",
      "execution_count": 12,
      "metadata": {
        "id": "GRzfmwpONIP4"
      },
      "outputs": [],
      "source": [
        "def retrieve_embeddings (model,encoder):\n",
        "  out_vectors = io.open ('vecs.tsv','w',encoding = 'UTF-8')\n",
        "  out_metadata =  io.open ('meta.tsv','w',encoding = 'UTF-8')\n",
        "  weights = model.layers[0].get_weights()[0]\n",
        "\n",
        "  for num,word in enumerate (encoder.subwords):\n",
        "    vec = weights[num+1]\n",
        "    out_metadata.write(word +'\\n')\n",
        "    out_vectors.write ('\\t'.join([str(x) for x in vec ]) + '\\n')\n",
        "  out_metadata.close()\n",
        "  out_vectors.close()\n",
        "  \n",
        "  return\n",
        "  "
      ]
    },
    {
      "cell_type": "code",
      "execution_count": 13,
      "metadata": {
        "colab": {
          "base_uri": "https://localhost:8080/"
        },
        "id": "ydhjkeQ9gagX",
        "outputId": "9819cb5b-90e3-4cd5-a999-8ccc1193f858"
      },
      "outputs": [
        {
          "output_type": "stream",
          "name": "stderr",
          "text": [
            "WARNING:absl:TFDS datasets with text encoding are deprecated and will be removed in a future version. Instead, you should use the plain text version and tokenize the text using `tensorflow_text` (See: https://www.tensorflow.org/tutorials/tensorflow_text/intro#tfdata_example)\n"
          ]
        },
        {
          "output_type": "stream",
          "name": "stdout",
          "text": [
            "Epoch 1/10\n",
            "2500/2500 [==============================] - 13s 5ms/step - loss: 0.6313 - accuracy: 0.7012 - val_loss: 0.5650 - val_accuracy: 0.7600\n",
            "Epoch 2/10\n",
            "2500/2500 [==============================] - 13s 5ms/step - loss: 0.4587 - accuracy: 0.8437 - val_loss: 0.4544 - val_accuracy: 0.8400\n",
            "Epoch 3/10\n",
            "2500/2500 [==============================] - 13s 5ms/step - loss: 0.3591 - accuracy: 0.8802 - val_loss: 0.3423 - val_accuracy: 0.8550\n",
            "Epoch 4/10\n",
            "2500/2500 [==============================] - 13s 5ms/step - loss: 0.3033 - accuracy: 0.8984 - val_loss: 0.3215 - val_accuracy: 0.8800\n",
            "Epoch 5/10\n",
            "2500/2500 [==============================] - 13s 5ms/step - loss: 0.2719 - accuracy: 0.9098 - val_loss: 0.3374 - val_accuracy: 0.8550\n",
            "Epoch 6/10\n",
            "2500/2500 [==============================] - 13s 5ms/step - loss: 0.2486 - accuracy: 0.9168 - val_loss: 0.3950 - val_accuracy: 0.8400\n",
            "Epoch 7/10\n",
            "2500/2500 [==============================] - 13s 5ms/step - loss: 0.2286 - accuracy: 0.9233 - val_loss: 0.3711 - val_accuracy: 0.9000\n",
            "Epoch 8/10\n",
            "2500/2500 [==============================] - 13s 5ms/step - loss: 0.2126 - accuracy: 0.9298 - val_loss: 0.3473 - val_accuracy: 0.8800\n",
            "Epoch 9/10\n",
            "2500/2500 [==============================] - 13s 5ms/step - loss: 0.1992 - accuracy: 0.9349 - val_loss: 0.3010 - val_accuracy: 0.9050\n",
            "Epoch 10/10\n",
            "2500/2500 [==============================] - 13s 5ms/step - loss: 0.1866 - accuracy: 0.9386 - val_loss: 0.3956 - val_accuracy: 0.8600\n",
            "Epoch 1/10\n",
            "2500/2500 [==============================] - 13s 5ms/step - loss: 0.1750 - accuracy: 0.9428 - val_loss: 0.4349 - val_accuracy: 0.8750\n",
            "Epoch 2/10\n",
            "2500/2500 [==============================] - 13s 5ms/step - loss: 0.1671 - accuracy: 0.9464 - val_loss: 0.2518 - val_accuracy: 0.8850\n",
            "Epoch 3/10\n",
            "2500/2500 [==============================] - 13s 5ms/step - loss: 0.1578 - accuracy: 0.9503 - val_loss: 0.3238 - val_accuracy: 0.8900\n",
            "Epoch 4/10\n",
            "2500/2500 [==============================] - 13s 5ms/step - loss: 0.1515 - accuracy: 0.9515 - val_loss: 0.4019 - val_accuracy: 0.8300\n",
            "Epoch 5/10\n",
            "2500/2500 [==============================] - 13s 5ms/step - loss: 0.1446 - accuracy: 0.9556 - val_loss: 0.6795 - val_accuracy: 0.8300\n",
            "Epoch 6/10\n",
            "2500/2500 [==============================] - 13s 5ms/step - loss: 0.1379 - accuracy: 0.9576 - val_loss: 0.4471 - val_accuracy: 0.8600\n",
            "Epoch 7/10\n",
            "2500/2500 [==============================] - 13s 5ms/step - loss: 0.1309 - accuracy: 0.9594 - val_loss: 0.4131 - val_accuracy: 0.8700\n",
            "Epoch 8/10\n",
            "2500/2500 [==============================] - 13s 5ms/step - loss: 0.1273 - accuracy: 0.9617 - val_loss: 0.5992 - val_accuracy: 0.8500\n",
            "Epoch 9/10\n",
            "2500/2500 [==============================] - 13s 5ms/step - loss: 0.1211 - accuracy: 0.9644 - val_loss: 0.4516 - val_accuracy: 0.8450\n",
            "Epoch 10/10\n",
            "2500/2500 [==============================] - 13s 5ms/step - loss: 0.1138 - accuracy: 0.9664 - val_loss: 0.6572 - val_accuracy: 0.8450\n"
          ]
        }
      ],
      "source": [
        "train_batches, test_batches,encoder = get_batch_data()\n",
        "model = get_model (encoder)\n",
        "history = model.fit(train_batches,epochs=10, validation_data=test_batches,validation_steps=20)\n",
        "\n"
      ]
    },
    {
      "cell_type": "code",
      "execution_count": 14,
      "metadata": {
        "id": "XTvDoVoiiLJo",
        "colab": {
          "base_uri": "https://localhost:8080/",
          "height": 585
        },
        "outputId": "ff4ada4e-f2c0-4252-fb19-336515371e1e"
      },
      "outputs": [
        {
          "output_type": "display_data",
          "data": {
            "text/plain": [
              "<Figure size 864x648 with 0 Axes>"
            ]
          },
          "metadata": {}
        },
        {
          "output_type": "display_data",
          "data": {
            "image/png": "[encoded data removed]",
            "text/plain": [
              "<Figure size 864x648 with 1 Axes>"
            ]
          },
          "metadata": {
            "needs_background": "light"
          }
        }
      ],
      "source": [
        "plot_data(history)\n"
      ]
    },
    {
      "cell_type": "code",
      "execution_count": 16,
      "metadata": {
        "id": "IhZ2Vkpfjyaw"
      },
      "outputs": [],
      "source": [
        "result=retrieve_embeddings (model,encoder)"
      ]
    },
    {
      "cell_type": "code",
      "source": [
        ""
      ],
      "metadata": {
        "id": "uK9FwLuUxLRf"
      },
      "execution_count": 17,
      "outputs": []
    },
    {
      "cell_type": "code",
      "source": [
        ""
      ],
      "metadata": {
        "id": "q8rKOJYcxT9x"
      },
      "execution_count": null,
      "outputs": []
    }
  ],
  "metadata": {
    "colab": {
      "collapsed_sections": [],
      "name": "Sentiment_Analysis_with_Tensorflow.ipynb",
      "provenance": []
    },
    "kernelspec": {
      "display_name": "Python 3",
      "name": "python3"
    },
    "language_info": {
      "codemirror_mode": {
        "name": "ipython",
        "version": 3
      },
      "file_extension": ".py",
      "mimetype": "text/x-python",
      "name": "python",
      "nbconvert_exporter": "python",
      "pygments_lexer": "ipython3",
      "version": "3.9.7"
    }
  },
  "nbformat": 4,
  "nbformat_minor": 0
}