{
  "cells": [
    {
      "cell_type": "markdown",
      "metadata": {
        "id": "vqZ8K0Rfsk8Q"
      },
      "source": [
        "<p> Install data preparation library </p>"
      ]
    },
    {
      "cell_type": "markdown",
      "metadata": {},
      "source": [
        "<b> It just only running on Colob </b>"
      ]
    },
    {
      "cell_type": "code",
      "execution_count": null,
      "metadata": {
        "colab": {
          "base_uri": "https://localhost:8080/"
        },
        "id": "GxG4vGOdreUH",
        "outputId": "68c397e5-c361-4daa-a487-696b58a9e4af"
      },
      "outputs": [],
      "source": [
        "%pip install -U dataprep "
      ]
    },
    {
      "cell_type": "code",
      "execution_count": null,
      "metadata": {
        "colab": {
          "base_uri": "https://localhost:8080/"
        },
        "id": "QH1zU3zysH_z",
        "outputId": "e47446e6-86d7-4800-c952-426c6b9aa8cb"
      },
      "outputs": [],
      "source": [
        "from dataprep.datasets import get_dataset_names\n",
        "get_dataset_names()"
      ]
    },
    {
      "cell_type": "code",
      "execution_count": null,
      "metadata": {
        "id": "XEukGBM9tGV9"
      },
      "outputs": [],
      "source": [
        "from dataprep.datasets import load_dataset\n",
        "df = load_dataset(\"Titanic\")"
      ]
    },
    {
      "cell_type": "code",
      "execution_count": null,
      "metadata": {
        "colab": {
          "base_uri": "https://localhost:8080/",
          "height": 206
        },
        "id": "4NgQrtbcthB1",
        "outputId": "9f5e1ae0-43e5-457d-9364-ed0784d55bd4"
      },
      "outputs": [],
      "source": [
        "df.head(5)"
      ]
    },
    {
      "cell_type": "code",
      "execution_count": null,
      "metadata": {
        "colab": {
          "base_uri": "https://localhost:8080/"
        },
        "id": "NCxu2v9wtygP",
        "outputId": "b99d93ba-73cc-4de4-f3c2-76a2822683de"
      },
      "outputs": [],
      "source": [
        "df.shape"
      ]
    },
    {
      "cell_type": "code",
      "execution_count": null,
      "metadata": {
        "colab": {
          "base_uri": "https://localhost:8080/",
          "height": 425
        },
        "id": "6y2CZpN0uBYb",
        "outputId": "f535fe89-2c63-4d84-aa4a-219554c6b46c"
      },
      "outputs": [],
      "source": [
        "df.iloc[:df.shape[1]]"
      ]
    },
    {
      "cell_type": "markdown",
      "metadata": {
        "id": "YSA1-xE9yBLw"
      },
      "source": [
        "<p>EDA</p>"
      ]
    },
    {
      "cell_type": "code",
      "execution_count": null,
      "metadata": {
        "colab": {
          "base_uri": "https://localhost:8080/",
          "height": 1000
        },
        "id": "6tt4s80wujBB",
        "outputId": "007e6582-0c96-47d7-d080-7ff29fa73340"
      },
      "outputs": [],
      "source": [
        "from dataprep.eda import plot\n",
        "plot(df)"
      ]
    },
    {
      "cell_type": "code",
      "execution_count": null,
      "metadata": {
        "colab": {
          "base_uri": "https://localhost:8080/",
          "height": 143
        },
        "id": "ikoPo8-7w7w4",
        "outputId": "ded32469-5f36-457f-ca79-efb57434c92d"
      },
      "outputs": [],
      "source": [
        "from dataprep.eda import plot_correlation\n",
        "plot_correlation(df)"
      ]
    },
    {
      "cell_type": "markdown",
      "metadata": {
        "id": "R4VOmjbOzcqX"
      },
      "source": [
        "<p> Missing value with plot missing </p>"
      ]
    },
    {
      "cell_type": "code",
      "execution_count": null,
      "metadata": {
        "colab": {
          "base_uri": "https://localhost:8080/",
          "height": 196
        },
        "id": "DqPY9iZ0y0zU",
        "outputId": "0f48a150-f041-496f-eaf1-e2fef3accdeb"
      },
      "outputs": [],
      "source": [
        "from dataprep.eda import plot_missing\n",
        "plot_missing(df)"
      ]
    },
    {
      "cell_type": "markdown",
      "metadata": {
        "id": "yOO_Xp3Y0b5D"
      },
      "source": [
        "<p> Compare 2 Dataframe with plot_diff </p>"
      ]
    },
    {
      "cell_type": "code",
      "execution_count": null,
      "metadata": {
        "id": "1E4q0nf0zw2h"
      },
      "outputs": [],
      "source": [
        "df1 = df.loc[:500]\n",
        "df2 = df.loc [501:]"
      ]
    },
    {
      "cell_type": "code",
      "execution_count": null,
      "metadata": {
        "colab": {
          "base_uri": "https://localhost:8080/",
          "height": 423
        },
        "id": "W9uYRgNc0yLL",
        "outputId": "6b9cb3ae-aba2-4dda-ec4e-c80507268dee"
      },
      "outputs": [],
      "source": [
        "df1"
      ]
    },
    {
      "cell_type": "code",
      "execution_count": null,
      "metadata": {
        "colab": {
          "base_uri": "https://localhost:8080/",
          "height": 423
        },
        "id": "C9zduIx4016z",
        "outputId": "cecb5e10-b633-4d29-fa47-3108b5248896"
      },
      "outputs": [],
      "source": [
        "df2"
      ]
    },
    {
      "cell_type": "code",
      "execution_count": null,
      "metadata": {
        "colab": {
          "base_uri": "https://localhost:8080/",
          "height": 1000
        },
        "id": "4semoE4A021O",
        "outputId": "52053675-b42f-4dc3-cc90-803cb09487a4"
      },
      "outputs": [],
      "source": [
        "from dataprep.eda import plot_diff\n",
        "plot_diff([df1,df2])"
      ]
    },
    {
      "cell_type": "markdown",
      "metadata": {
        "id": "iL-F_JPL1jXI"
      },
      "source": [
        "<p> Create EDA report </p>"
      ]
    },
    {
      "cell_type": "code",
      "execution_count": null,
      "metadata": {
        "colab": {
          "base_uri": "https://localhost:8080/"
        },
        "id": "idOdEi-g1HJa",
        "outputId": "86a5dc3a-3f54-4b8f-870f-0383d44094f6"
      },
      "outputs": [],
      "source": [
        "from dataprep.eda import create_report\n",
        "report=create_report(df)"
      ]
    },
    {
      "cell_type": "code",
      "execution_count": null,
      "metadata": {
        "colab": {
          "base_uri": "https://localhost:8080/",
          "height": 1000
        },
        "id": "eQqEaLrP1xYi",
        "outputId": "f5ffe998-51a9-4c10-8bda-8d9cd076a06c"
      },
      "outputs": [],
      "source": [
        "report.show()"
      ]
    },
    {
      "cell_type": "code",
      "execution_count": null,
      "metadata": {
        "colab": {
          "base_uri": "https://localhost:8080/"
        },
        "id": "GKipIvC12SAO",
        "outputId": "9471eb40-e638-4f88-c601-b87922f53610"
      },
      "outputs": [],
      "source": [
        "report.save(\"Report\")"
      ]
    },
    {
      "cell_type": "code",
      "execution_count": null,
      "metadata": {
        "id": "34yYOxCp3RO5"
      },
      "outputs": [],
      "source": [
        "report.show_browser()"
      ]
    },
    {
      "cell_type": "code",
      "execution_count": null,
      "metadata": {
        "id": "8N63I9HO3n4c"
      },
      "outputs": [],
      "source": []
    }
  ],
  "metadata": {
    "colab": {
      "collapsed_sections": [],
      "name": "DataPrep-EDA.ipynb",
      "provenance": []
    },
    "kernelspec": {
      "display_name": "Python 3",
      "name": "python3"
    },
    "language_info": {
      "codemirror_mode": {
        "name": "ipython",
        "version": 3
      },
      "file_extension": ".py",
      "mimetype": "text/x-python",
      "name": "python",
      "nbconvert_exporter": "python",
      "pygments_lexer": "ipython3",
      "version": "3.9.7"
    }
  },
  "nbformat": 4,
  "nbformat_minor": 0
}
