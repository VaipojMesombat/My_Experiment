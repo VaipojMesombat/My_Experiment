{
 "cells": [
  {
   "cell_type": "markdown",
   "metadata": {},
   "source": [
    "### Import Data Analysis Libraries"
   ]
  },
  {
   "cell_type": "code",
   "execution_count": 11,
   "metadata": {},
   "outputs": [],
   "source": [
    "import pandas as pd\n",
    "import numpy as np"
   ]
  },
  {
   "cell_type": "markdown",
   "metadata": {},
   "source": [
    "### Import Visualization Libraries"
   ]
  },
  {
   "cell_type": "code",
   "execution_count": 119,
   "metadata": {},
   "outputs": [
    {
     "name": "stdout",
     "output_type": "stream",
     "text": [
      "Requirement already satisfied: XGBoost in c:\\users\\vaipoj mesombat\\appdata\\local\\programs\\python\\python39\\lib\\site-packages (1.5.2)\n",
      "Requirement already satisfied: numpy in c:\\users\\vaipoj mesombat\\appdata\\local\\programs\\python\\python39\\lib\\site-packages (from XGBoost) (1.21.2)\n",
      "Requirement already satisfied: scipy in c:\\users\\vaipoj mesombat\\appdata\\local\\programs\\python\\python39\\lib\\site-packages (from XGBoost) (1.7.1)\n"
     ]
    },
    {
     "name": "stderr",
     "output_type": "stream",
     "text": [
      "WARNING: You are using pip version 21.3.1; however, version 22.0.3 is available.\n",
      "You should consider upgrading via the 'c:\\Users\\Vaipoj Mesombat\\AppData\\Local\\Programs\\Python\\Python39\\python.exe -m pip install --upgrade pip' command.\n"
     ]
    }
   ],
   "source": [
    "!pip install XGBoost"
   ]
  },
  {
   "cell_type": "code",
   "execution_count": 120,
   "metadata": {},
   "outputs": [
    {
     "name": "stdout",
     "output_type": "stream",
     "text": [
      "Requirement already satisfied: missingno in c:\\users\\vaipoj mesombat\\appdata\\local\\programs\\python\\python39\\lib\\site-packages (0.5.0)\n",
      "Requirement already satisfied: seaborn in c:\\users\\vaipoj mesombat\\appdata\\local\\programs\\python\\python39\\lib\\site-packages (from missingno) (0.11.2)\n",
      "Requirement already satisfied: matplotlib in c:\\users\\vaipoj mesombat\\appdata\\local\\programs\\python\\python39\\lib\\site-packages (from missingno) (3.4.3)\n",
      "Requirement already satisfied: scipy in c:\\users\\vaipoj mesombat\\appdata\\local\\programs\\python\\python39\\lib\\site-packages (from missingno) (1.7.1)\n",
      "Requirement already satisfied: numpy in c:\\users\\vaipoj mesombat\\appdata\\local\\programs\\python\\python39\\lib\\site-packages (from missingno) (1.21.2)\n",
      "Requirement already satisfied: python-dateutil>=2.7 in c:\\users\\vaipoj mesombat\\appdata\\local\\programs\\python\\python39\\lib\\site-packages (from matplotlib->missingno) (2.8.2)\n",
      "Requirement already satisfied: kiwisolver>=1.0.1 in c:\\users\\vaipoj mesombat\\appdata\\local\\programs\\python\\python39\\lib\\site-packages (from matplotlib->missingno) (1.3.2)\n",
      "Requirement already satisfied: pyparsing>=2.2.1 in c:\\users\\vaipoj mesombat\\appdata\\local\\programs\\python\\python39\\lib\\site-packages (from matplotlib->missingno) (2.4.7)\n",
      "Requirement already satisfied: cycler>=0.10 in c:\\users\\vaipoj mesombat\\appdata\\local\\programs\\python\\python39\\lib\\site-packages (from matplotlib->missingno) (0.10.0)\n",
      "Requirement already satisfied: pillow>=6.2.0 in c:\\users\\vaipoj mesombat\\appdata\\local\\programs\\python\\python39\\lib\\site-packages (from matplotlib->missingno) (8.3.2)\n",
      "Requirement already satisfied: pandas>=0.23 in c:\\users\\vaipoj mesombat\\appdata\\local\\programs\\python\\python39\\lib\\site-packages (from seaborn->missingno) (1.3.3)\n",
      "Requirement already satisfied: six in c:\\users\\vaipoj mesombat\\appdata\\local\\programs\\python\\python39\\lib\\site-packages (from cycler>=0.10->matplotlib->missingno) (1.16.0)\n",
      "Requirement already satisfied: pytz>=2017.3 in c:\\users\\vaipoj mesombat\\appdata\\local\\programs\\python\\python39\\lib\\site-packages (from pandas>=0.23->seaborn->missingno) (2021.1)\n"
     ]
    },
    {
     "name": "stderr",
     "output_type": "stream",
     "text": [
      "WARNING: You are using pip version 21.3.1; however, version 22.0.3 is available.\n",
      "You should consider upgrading via the 'c:\\Users\\Vaipoj Mesombat\\AppData\\Local\\Programs\\Python\\Python39\\python.exe -m pip install --upgrade pip' command.\n"
     ]
    }
   ],
   "source": [
    "!pip install missingno"
   ]
  },
  {
   "cell_type": "code",
   "execution_count": 121,
   "metadata": {},
   "outputs": [
    {
     "name": "stdout",
     "output_type": "stream",
     "text": [
      "Requirement already satisfied: imblearn in c:\\users\\vaipoj mesombat\\appdata\\local\\programs\\python\\python39\\lib\\site-packages (0.0)\n",
      "Requirement already satisfied: imbalanced-learn in c:\\users\\vaipoj mesombat\\appdata\\local\\programs\\python\\python39\\lib\\site-packages (from imblearn) (0.9.0)\n",
      "Requirement already satisfied: threadpoolctl>=2.0.0 in c:\\users\\vaipoj mesombat\\appdata\\local\\programs\\python\\python39\\lib\\site-packages (from imbalanced-learn->imblearn) (2.2.0)\n",
      "Requirement already satisfied: joblib>=0.11 in c:\\users\\vaipoj mesombat\\appdata\\local\\programs\\python\\python39\\lib\\site-packages (from imbalanced-learn->imblearn) (1.0.1)\n",
      "Requirement already satisfied: scikit-learn>=1.0.1 in c:\\users\\vaipoj mesombat\\appdata\\local\\programs\\python\\python39\\lib\\site-packages (from imbalanced-learn->imblearn) (1.0.1)\n",
      "Requirement already satisfied: numpy>=1.14.6 in c:\\users\\vaipoj mesombat\\appdata\\local\\programs\\python\\python39\\lib\\site-packages (from imbalanced-learn->imblearn) (1.21.2)"
     ]
    },
    {
     "name": "stderr",
     "output_type": "stream",
     "text": [
      "WARNING: You are using pip version 21.3.1; however, version 22.0.3 is available.\n",
      "You should consider upgrading via the 'c:\\Users\\Vaipoj Mesombat\\AppData\\Local\\Programs\\Python\\Python39\\python.exe -m pip install --upgrade pip' command.\n"
     ]
    },
    {
     "name": "stdout",
     "output_type": "stream",
     "text": [
      "\n",
      "Requirement already satisfied: scipy>=1.1.0 in c:\\users\\vaipoj mesombat\\appdata\\local\\programs\\python\\python39\\lib\\site-packages (from imbalanced-learn->imblearn) (1.7.1)\n"
     ]
    }
   ],
   "source": [
    "!pip install imblearn"
   ]
  },
  {
   "cell_type": "code",
   "execution_count": 122,
   "metadata": {},
   "outputs": [],
   "source": [
    "import matplotlib.pyplot as plt\n",
    "from sklearn.manifold import TSNE  # Helps visualize higher dimensions data\n",
    "import missingno as msno # Missing Data visualization\n",
    "import seaborn as sns\n",
    "sns.set(style=\"white\")\n",
    "%matplotlib inline"
   ]
  },
  {
   "cell_type": "code",
   "execution_count": 16,
   "metadata": {},
   "outputs": [],
   "source": [
    "from sklearn.preprocessing import StandardScaler, normalize  # Helps us in Standardizing the data\n",
    "from sklearn.metrics import precision_score, f1_score, recall_score, accuracy_score, average_precision_score # Evaluation\n",
    "                                                                                                             # metrics\n",
    "from sklearn.model_selection import train_test_split, GridSearchCV\n",
    "\n",
    "from sklearn.cluster import KMeans # Clustering\n",
    "from sklearn.linear_model import LogisticRegression\n",
    "from sklearn.ensemble import RandomForestClassifier, AdaBoostClassifier\n",
    "from xgboost import XGBClassifier\n",
    "from sklearn.svm import SVC\n",
    "from imblearn.over_sampling import SMOTE # Oversampling"
   ]
  },
  {
   "cell_type": "code",
   "execution_count": 17,
   "metadata": {
    "scrolled": true
   },
   "outputs": [],
   "source": [
    "import time\n",
    "from datetime import datetime\n",
    "import warnings\n",
    "import warnings; warnings.simplefilter('ignore')"
   ]
  },
  {
   "cell_type": "code",
   "execution_count": 18,
   "metadata": {},
   "outputs": [],
   "source": [
    "df = pd.read_csv('train.csv')\n",
    "df.set_index('ID', inplace = True)"
   ]
  },
  {
   "cell_type": "code",
   "execution_count": 19,
   "metadata": {
    "scrolled": true
   },
   "outputs": [
    {
     "data": {
      "text/html": [
       "<div>\n",
       "<style scoped>\n",
       "    .dataframe tbody tr th:only-of-type {\n",
       "        vertical-align: middle;\n",
       "    }\n",
       "\n",
       "    .dataframe tbody tr th {\n",
       "        vertical-align: top;\n",
       "    }\n",
       "\n",
       "    .dataframe thead th {\n",
       "        text-align: right;\n",
       "    }\n",
       "</style>\n",
       "<table border=\"1\" class=\"dataframe\">\n",
       "  <thead>\n",
       "    <tr style=\"text-align: right;\">\n",
       "      <th></th>\n",
       "      <th>Attr1</th>\n",
       "      <th>Attr2</th>\n",
       "      <th>Attr3</th>\n",
       "      <th>Attr4</th>\n",
       "      <th>Attr5</th>\n",
       "      <th>Attr6</th>\n",
       "      <th>Attr7</th>\n",
       "      <th>Attr8</th>\n",
       "      <th>Attr9</th>\n",
       "      <th>Attr10</th>\n",
       "      <th>...</th>\n",
       "      <th>Attr56</th>\n",
       "      <th>Attr57</th>\n",
       "      <th>Attr58</th>\n",
       "      <th>Attr59</th>\n",
       "      <th>Attr60</th>\n",
       "      <th>Attr61</th>\n",
       "      <th>Attr62</th>\n",
       "      <th>Attr63</th>\n",
       "      <th>Attr64</th>\n",
       "      <th>target</th>\n",
       "    </tr>\n",
       "    <tr>\n",
       "      <th>ID</th>\n",
       "      <th></th>\n",
       "      <th></th>\n",
       "      <th></th>\n",
       "      <th></th>\n",
       "      <th></th>\n",
       "      <th></th>\n",
       "      <th></th>\n",
       "      <th></th>\n",
       "      <th></th>\n",
       "      <th></th>\n",
       "      <th></th>\n",
       "      <th></th>\n",
       "      <th></th>\n",
       "      <th></th>\n",
       "      <th></th>\n",
       "      <th></th>\n",
       "      <th></th>\n",
       "      <th></th>\n",
       "      <th></th>\n",
       "      <th></th>\n",
       "      <th></th>\n",
       "    </tr>\n",
       "  </thead>\n",
       "  <tbody>\n",
       "    <tr>\n",
       "      <th>1</th>\n",
       "      <td>0.135370</td>\n",
       "      <td>0.45185</td>\n",
       "      <td>0.31162</td>\n",
       "      <td>2.0469</td>\n",
       "      <td>10.2340</td>\n",
       "      <td>0.16768</td>\n",
       "      <td>0.167630</td>\n",
       "      <td>1.21310</td>\n",
       "      <td>2.25540</td>\n",
       "      <td>0.54815</td>\n",
       "      <td>...</td>\n",
       "      <td>0.078728</td>\n",
       "      <td>0.24695</td>\n",
       "      <td>0.92586</td>\n",
       "      <td>0.18362</td>\n",
       "      <td>9.0895</td>\n",
       "      <td>8.8342</td>\n",
       "      <td>48.172</td>\n",
       "      <td>7.5770</td>\n",
       "      <td>5.7725</td>\n",
       "      <td>0</td>\n",
       "    </tr>\n",
       "    <tr>\n",
       "      <th>2</th>\n",
       "      <td>0.005861</td>\n",
       "      <td>0.39858</td>\n",
       "      <td>0.19768</td>\n",
       "      <td>1.9390</td>\n",
       "      <td>9.5771</td>\n",
       "      <td>0.00000</td>\n",
       "      <td>0.007237</td>\n",
       "      <td>1.50890</td>\n",
       "      <td>0.97880</td>\n",
       "      <td>0.60142</td>\n",
       "      <td>...</td>\n",
       "      <td>0.269720</td>\n",
       "      <td>0.00000</td>\n",
       "      <td>0.79303</td>\n",
       "      <td>0.31271</td>\n",
       "      <td>6.2213</td>\n",
       "      <td>4.2785</td>\n",
       "      <td>78.499</td>\n",
       "      <td>4.6497</td>\n",
       "      <td>1.6539</td>\n",
       "      <td>0</td>\n",
       "    </tr>\n",
       "    <tr>\n",
       "      <th>3</th>\n",
       "      <td>0.110600</td>\n",
       "      <td>0.16117</td>\n",
       "      <td>0.47894</td>\n",
       "      <td>7.5711</td>\n",
       "      <td>263.9000</td>\n",
       "      <td>0.00000</td>\n",
       "      <td>0.138360</td>\n",
       "      <td>5.20450</td>\n",
       "      <td>0.68447</td>\n",
       "      <td>0.83883</td>\n",
       "      <td>...</td>\n",
       "      <td>0.159870</td>\n",
       "      <td>0.13185</td>\n",
       "      <td>0.80748</td>\n",
       "      <td>0.10234</td>\n",
       "      <td>9.4499</td>\n",
       "      <td>3.3443</td>\n",
       "      <td>38.867</td>\n",
       "      <td>9.3910</td>\n",
       "      <td>1.5272</td>\n",
       "      <td>0</td>\n",
       "    </tr>\n",
       "    <tr>\n",
       "      <th>4</th>\n",
       "      <td>0.063911</td>\n",
       "      <td>1.40730</td>\n",
       "      <td>-0.29595</td>\n",
       "      <td>0.5291</td>\n",
       "      <td>-46.2870</td>\n",
       "      <td>-0.71420</td>\n",
       "      <td>0.079071</td>\n",
       "      <td>-0.33076</td>\n",
       "      <td>0.98490</td>\n",
       "      <td>-0.46548</td>\n",
       "      <td>...</td>\n",
       "      <td>-0.015327</td>\n",
       "      <td>-0.13730</td>\n",
       "      <td>1.01530</td>\n",
       "      <td>-1.67320</td>\n",
       "      <td>29.2710</td>\n",
       "      <td>14.1410</td>\n",
       "      <td>73.458</td>\n",
       "      <td>4.9688</td>\n",
       "      <td>4.6785</td>\n",
       "      <td>0</td>\n",
       "    </tr>\n",
       "    <tr>\n",
       "      <th>5</th>\n",
       "      <td>0.131680</td>\n",
       "      <td>0.66031</td>\n",
       "      <td>0.44121</td>\n",
       "      <td>2.7098</td>\n",
       "      <td>-23.5960</td>\n",
       "      <td>-0.20007</td>\n",
       "      <td>0.131910</td>\n",
       "      <td>0.51445</td>\n",
       "      <td>2.13570</td>\n",
       "      <td>0.33969</td>\n",
       "      <td>...</td>\n",
       "      <td>0.110170</td>\n",
       "      <td>0.38764</td>\n",
       "      <td>0.93881</td>\n",
       "      <td>1.18420</td>\n",
       "      <td>4.5462</td>\n",
       "      <td>15.1400</td>\n",
       "      <td>44.101</td>\n",
       "      <td>8.2764</td>\n",
       "      <td>7.1014</td>\n",
       "      <td>0</td>\n",
       "    </tr>\n",
       "  </tbody>\n",
       "</table>\n",
       "<p>5 rows × 65 columns</p>\n",
       "</div>"
      ],
      "text/plain": [
       "       Attr1    Attr2    Attr3   Attr4     Attr5    Attr6     Attr7    Attr8  \\\n",
       "ID                                                                             \n",
       "1   0.135370  0.45185  0.31162  2.0469   10.2340  0.16768  0.167630  1.21310   \n",
       "2   0.005861  0.39858  0.19768  1.9390    9.5771  0.00000  0.007237  1.50890   \n",
       "3   0.110600  0.16117  0.47894  7.5711  263.9000  0.00000  0.138360  5.20450   \n",
       "4   0.063911  1.40730 -0.29595  0.5291  -46.2870 -0.71420  0.079071 -0.33076   \n",
       "5   0.131680  0.66031  0.44121  2.7098  -23.5960 -0.20007  0.131910  0.51445   \n",
       "\n",
       "      Attr9   Attr10  ...    Attr56   Attr57   Attr58   Attr59   Attr60  \\\n",
       "ID                    ...                                                 \n",
       "1   2.25540  0.54815  ...  0.078728  0.24695  0.92586  0.18362   9.0895   \n",
       "2   0.97880  0.60142  ...  0.269720  0.00000  0.79303  0.31271   6.2213   \n",
       "3   0.68447  0.83883  ...  0.159870  0.13185  0.80748  0.10234   9.4499   \n",
       "4   0.98490 -0.46548  ... -0.015327 -0.13730  1.01530 -1.67320  29.2710   \n",
       "5   2.13570  0.33969  ...  0.110170  0.38764  0.93881  1.18420   4.5462   \n",
       "\n",
       "     Attr61  Attr62  Attr63  Attr64  target  \n",
       "ID                                           \n",
       "1    8.8342  48.172  7.5770  5.7725       0  \n",
       "2    4.2785  78.499  4.6497  1.6539       0  \n",
       "3    3.3443  38.867  9.3910  1.5272       0  \n",
       "4   14.1410  73.458  4.9688  4.6785       0  \n",
       "5   15.1400  44.101  8.2764  7.1014       0  \n",
       "\n",
       "[5 rows x 65 columns]"
      ]
     },
     "execution_count": 19,
     "metadata": {},
     "output_type": "execute_result"
    }
   ],
   "source": [
    "df.head()"
   ]
  },
  {
   "cell_type": "code",
   "execution_count": 21,
   "metadata": {},
   "outputs": [
    {
     "name": "stdout",
     "output_type": "stream",
     "text": [
      "(36553, 65)\n",
      "0    34788\n",
      "1     1765\n",
      "Name: target, dtype: int64\n"
     ]
    }
   ],
   "source": [
    "print (df.shape)\n",
    "print (df['target'].value_counts())"
   ]
  },
  {
   "cell_type": "code",
   "execution_count": 22,
   "metadata": {
    "scrolled": true
   },
   "outputs": [
    {
     "data": {
      "text/plain": [
       "<AxesSubplot:xlabel='target', ylabel='count'>"
      ]
     },
     "execution_count": 22,
     "metadata": {},
     "output_type": "execute_result"
    },
    {
     "data": {
      "image/png": "[encoded data removed]",
      "text/plain": [
       "<Figure size 432x288 with 1 Axes>"
      ]
     },
     "metadata": {
      "needs_background": "light"
     },
     "output_type": "display_data"
    }
   ],
   "source": [
    "sns.countplot(x='target', data=df)"
   ]
  },
  {
   "cell_type": "markdown",
   "metadata": {},
   "source": [
    "Sumamry - Data is higly imbalance Data"
   ]
  },
  {
   "cell_type": "code",
   "execution_count": 23,
   "metadata": {},
   "outputs": [],
   "source": [
    "X_df = df.drop('target', axis = 1)\n",
    "Y_df = df['target']"
   ]
  },
  {
   "cell_type": "markdown",
   "metadata": {},
   "source": [
    "### Missing Values Imputation"
   ]
  },
  {
   "cell_type": "code",
   "execution_count": 24,
   "metadata": {
    "scrolled": false
   },
   "outputs": [
    {
     "data": {
      "text/plain": [
       "<AxesSubplot:>"
      ]
     },
     "execution_count": 24,
     "metadata": {},
     "output_type": "execute_result"
    },
    {
     "data": {
      "text/plain": [
       "<Figure size 1152x432 with 0 Axes>"
      ]
     },
     "metadata": {},
     "output_type": "display_data"
    },
    {
     "data": {
      "image/png": "[encoded data removed]",
      "text/plain": [
       "<Figure size 1800x720 with 2 Axes>"
      ]
     },
     "metadata": {
      "needs_background": "light"
     },
     "output_type": "display_data"
    }
   ],
   "source": [
    "plt.figure(figsize=(16,6))\n",
    "msno.matrix(X_df,labels = True, color=(0.20,0.15,0.45))"
   ]
  },
  {
   "cell_type": "markdown",
   "metadata": {},
   "source": [
    "#### verify data"
   ]
  },
  {
   "cell_type": "code",
   "execution_count": 25,
   "metadata": {},
   "outputs": [
    {
     "data": {
      "text/plain": [
       "35187"
      ]
     },
     "execution_count": 25,
     "metadata": {},
     "output_type": "execute_result"
    }
   ],
   "source": [
    "X_df.isnull().sum().sum()"
   ]
  },
  {
   "cell_type": "markdown",
   "metadata": {},
   "source": [
    "Manage the missing value:\n",
    "1.   Replace zero & null value with NaN (Non a Number)\n",
    "2.   Replace NaN with median"
   ]
  },
  {
   "cell_type": "code",
   "execution_count": 26,
   "metadata": {},
   "outputs": [],
   "source": [
    "X_df = X_df.replace({0:np.nan})"
   ]
  },
  {
   "cell_type": "code",
   "execution_count": 27,
   "metadata": {},
   "outputs": [
    {
     "data": {
      "text/plain": [
       "84376"
      ]
     },
     "execution_count": 27,
     "metadata": {},
     "output_type": "execute_result"
    }
   ],
   "source": [
    "X_df.isnull().sum().sum()"
   ]
  },
  {
   "cell_type": "code",
   "execution_count": 28,
   "metadata": {},
   "outputs": [],
   "source": [
    "X_df = X_df.fillna(X_df.median()) "
   ]
  },
  {
   "cell_type": "code",
   "execution_count": 29,
   "metadata": {},
   "outputs": [
    {
     "data": {
      "text/plain": [
       "0"
      ]
     },
     "execution_count": 29,
     "metadata": {},
     "output_type": "execute_result"
    }
   ],
   "source": [
    "X_df.isnull().sum().sum()"
   ]
  },
  {
   "cell_type": "code",
   "execution_count": 30,
   "metadata": {},
   "outputs": [
    {
     "data": {
      "text/plain": [
       "<AxesSubplot:>"
      ]
     },
     "execution_count": 30,
     "metadata": {},
     "output_type": "execute_result"
    },
    {
     "data": {
      "text/plain": [
       "<Figure size 1152x432 with 0 Axes>"
      ]
     },
     "metadata": {},
     "output_type": "display_data"
    },
    {
     "data": {
      "image/png": "[encoded data removed]",
      "text/plain": [
       "<Figure size 1800x720 with 2 Axes>"
      ]
     },
     "metadata": {
      "needs_background": "light"
     },
     "output_type": "display_data"
    }
   ],
   "source": [
    "#Recheck missing values after Imputation\n",
    "plt.figure(figsize=(16,6))\n",
    "msno.matrix(X_df,labels = True, color=(0.20,0.15,0.45))"
   ]
  },
  {
   "cell_type": "markdown",
   "metadata": {},
   "source": [
    "### Lets draw heatmap to check multi collinearity"
   ]
  },
  {
   "cell_type": "code",
   "execution_count": 31,
   "metadata": {},
   "outputs": [
    {
     "name": "stderr",
     "output_type": "stream",
     "text": [
      "C:\\Users\\VAIPOJ~1\\AppData\\Local\\Temp/ipykernel_4496/2754453641.py:4: DeprecationWarning: `np.bool` is a deprecated alias for the builtin `bool`. To silence this warning, use `bool` by itself. Doing this will not modify any behavior and is safe. If you specifically wanted the numpy scalar type, use `np.bool_` here.\n",
      "Deprecated in NumPy 1.20; for more details and guidance: https://numpy.org/devdocs/release/1.20.0-notes.html#deprecations\n",
      "  mask = np.zeros_like(corr, dtype=np.bool)\n"
     ]
    },
    {
     "data": {
      "text/plain": [
       "<AxesSubplot:>"
      ]
     },
     "execution_count": 31,
     "metadata": {},
     "output_type": "execute_result"
    },
    {
     "data": {
      "image/png": "[encoded data removed]",
      "text/plain": [
       "<Figure size 1152x864 with 2 Axes>"
      ]
     },
     "metadata": {
      "needs_background": "light"
     },
     "output_type": "display_data"
    }
   ],
   "source": [
    "fig, ax = plt.subplots(figsize=(16,12)) \n",
    "corr = X_df.corr()\n",
    "\n",
    "mask = np.zeros_like(corr, dtype=np.bool)\n",
    "mask[np.triu_indices_from(mask)] = True\n",
    "\n",
    " \n",
    "sns.heatmap(corr, mask=mask,\n",
    "            square=False, linewidths=.5, cbar_kws={\"shrink\": .5})"
   ]
  },
  {
   "cell_type": "code",
   "execution_count": 32,
   "metadata": {},
   "outputs": [],
   "source": [
    "# A condition to filter all the columns where collinearity with other columns is greater than 0.2 and less than 1.0\n",
    "high_corr_attr = corr[(corr>0.2) & (corr<1)].count().sort_values(ascending= False)"
   ]
  },
  {
   "cell_type": "code",
   "execution_count": 33,
   "metadata": {},
   "outputs": [],
   "source": [
    "#There are  31 columns which has correlation of more than 0.2\n",
    "cols_to_be_dropped = list(high_corr_attr[high_corr_attr > 5].index)"
   ]
  },
  {
   "cell_type": "code",
   "execution_count": 34,
   "metadata": {},
   "outputs": [
    {
     "data": {
      "text/plain": [
       "31"
      ]
     },
     "execution_count": 34,
     "metadata": {},
     "output_type": "execute_result"
    }
   ],
   "source": [
    "len(cols_to_be_dropped)"
   ]
  },
  {
   "cell_type": "code",
   "execution_count": 35,
   "metadata": {
    "scrolled": false
   },
   "outputs": [],
   "source": [
    "X_df.drop(cols_to_be_dropped, axis = 1, inplace= True) # Dropping columns"
   ]
  },
  {
   "cell_type": "code",
   "execution_count": 36,
   "metadata": {},
   "outputs": [
    {
     "data": {
      "text/plain": [
       "(36553, 33)"
      ]
     },
     "execution_count": 36,
     "metadata": {},
     "output_type": "execute_result"
    }
   ],
   "source": [
    "X_df.shape"
   ]
  },
  {
   "cell_type": "code",
   "execution_count": 37,
   "metadata": {},
   "outputs": [
    {
     "name": "stderr",
     "output_type": "stream",
     "text": [
      "C:\\Users\\VAIPOJ~1\\AppData\\Local\\Temp/ipykernel_4496/3378564783.py:5: DeprecationWarning: `np.bool` is a deprecated alias for the builtin `bool`. To silence this warning, use `bool` by itself. Doing this will not modify any behavior and is safe. If you specifically wanted the numpy scalar type, use `np.bool_` here.\n",
      "Deprecated in NumPy 1.20; for more details and guidance: https://numpy.org/devdocs/release/1.20.0-notes.html#deprecations\n",
      "  mask = np.zeros_like(corr, dtype=np.bool)\n"
     ]
    },
    {
     "data": {
      "text/plain": [
       "(array([ 0.5,  1.5,  2.5,  3.5,  4.5,  5.5,  6.5,  7.5,  8.5,  9.5, 10.5,\n",
       "        11.5, 12.5, 13.5, 14.5, 15.5, 16.5, 17.5, 18.5, 19.5, 20.5, 21.5,\n",
       "        22.5, 23.5, 24.5, 25.5, 26.5, 27.5, 28.5, 29.5, 30.5, 31.5, 32.5]),\n",
       " [Text(0.5, 0, 'Attr1'),\n",
       "  Text(1.5, 0, 'Attr2'),\n",
       "  Text(2.5, 0, 'Attr3'),\n",
       "  Text(3.5, 0, 'Attr4'),\n",
       "  Text(4.5, 0, 'Attr5'),\n",
       "  Text(5.5, 0, 'Attr6'),\n",
       "  Text(6.5, 0, 'Attr12'),\n",
       "  Text(7.5, 0, 'Attr15'),\n",
       "  Text(8.5, 0, 'Attr21'),\n",
       "  Text(9.5, 0, 'Attr26'),\n",
       "  Text(10.5, 0, 'Attr27'),\n",
       "  Text(11.5, 0, 'Attr28'),\n",
       "  Text(12.5, 0, 'Attr29'),\n",
       "  Text(13.5, 0, 'Attr32'),\n",
       "  Text(14.5, 0, 'Attr37'),\n",
       "  Text(15.5, 0, 'Attr39'),\n",
       "  Text(16.5, 0, 'Attr40'),\n",
       "  Text(17.5, 0, 'Attr41'),\n",
       "  Text(18.5, 0, 'Attr45'),\n",
       "  Text(19.5, 0, 'Attr46'),\n",
       "  Text(20.5, 0, 'Attr47'),\n",
       "  Text(21.5, 0, 'Attr49'),\n",
       "  Text(22.5, 0, 'Attr50'),\n",
       "  Text(23.5, 0, 'Attr51'),\n",
       "  Text(24.5, 0, 'Attr52'),\n",
       "  Text(25.5, 0, 'Attr53'),\n",
       "  Text(26.5, 0, 'Attr54'),\n",
       "  Text(27.5, 0, 'Attr55'),\n",
       "  Text(28.5, 0, 'Attr56'),\n",
       "  Text(29.5, 0, 'Attr57'),\n",
       "  Text(30.5, 0, 'Attr59'),\n",
       "  Text(31.5, 0, 'Attr60'),\n",
       "  Text(32.5, 0, 'Attr61')])"
      ]
     },
     "execution_count": 37,
     "metadata": {},
     "output_type": "execute_result"
    },
    {
     "data": {
      "image/png": "[encoded data removed]",
      "text/plain": [
       "<Figure size 1152x864 with 2 Axes>"
      ]
     },
     "metadata": {
      "needs_background": "light"
     },
     "output_type": "display_data"
    }
   ],
   "source": [
    "# Lets check the heatmap again\n",
    "fig, ax = plt.subplots(figsize=(16,12)) \n",
    "corr = X_df.corr()\n",
    "\n",
    "mask = np.zeros_like(corr, dtype=np.bool)\n",
    "mask[np.triu_indices_from(mask)] = True\n",
    "\n",
    " \n",
    "sns.heatmap(corr, mask=mask,\n",
    "            square=False, linewidths=.5, cbar_kws={\"shrink\": .5})\n",
    "plt.xticks(rotation=90)"
   ]
  },
  {
   "cell_type": "code",
   "execution_count": 38,
   "metadata": {},
   "outputs": [
    {
     "data": {
      "text/html": [
       "<div>\n",
       "<style scoped>\n",
       "    .dataframe tbody tr th:only-of-type {\n",
       "        vertical-align: middle;\n",
       "    }\n",
       "\n",
       "    .dataframe tbody tr th {\n",
       "        vertical-align: top;\n",
       "    }\n",
       "\n",
       "    .dataframe thead th {\n",
       "        text-align: right;\n",
       "    }\n",
       "</style>\n",
       "<table border=\"1\" class=\"dataframe\">\n",
       "  <thead>\n",
       "    <tr style=\"text-align: right;\">\n",
       "      <th></th>\n",
       "      <th>Attr1</th>\n",
       "      <th>Attr2</th>\n",
       "      <th>Attr3</th>\n",
       "      <th>Attr4</th>\n",
       "      <th>Attr5</th>\n",
       "      <th>Attr6</th>\n",
       "      <th>Attr12</th>\n",
       "      <th>Attr15</th>\n",
       "      <th>Attr21</th>\n",
       "      <th>Attr26</th>\n",
       "      <th>...</th>\n",
       "      <th>Attr51</th>\n",
       "      <th>Attr52</th>\n",
       "      <th>Attr53</th>\n",
       "      <th>Attr54</th>\n",
       "      <th>Attr55</th>\n",
       "      <th>Attr56</th>\n",
       "      <th>Attr57</th>\n",
       "      <th>Attr59</th>\n",
       "      <th>Attr60</th>\n",
       "      <th>Attr61</th>\n",
       "    </tr>\n",
       "    <tr>\n",
       "      <th>ID</th>\n",
       "      <th></th>\n",
       "      <th></th>\n",
       "      <th></th>\n",
       "      <th></th>\n",
       "      <th></th>\n",
       "      <th></th>\n",
       "      <th></th>\n",
       "      <th></th>\n",
       "      <th></th>\n",
       "      <th></th>\n",
       "      <th></th>\n",
       "      <th></th>\n",
       "      <th></th>\n",
       "      <th></th>\n",
       "      <th></th>\n",
       "      <th></th>\n",
       "      <th></th>\n",
       "      <th></th>\n",
       "      <th></th>\n",
       "      <th></th>\n",
       "      <th></th>\n",
       "    </tr>\n",
       "  </thead>\n",
       "  <tbody>\n",
       "    <tr>\n",
       "      <th>1</th>\n",
       "      <td>0.135370</td>\n",
       "      <td>0.45185</td>\n",
       "      <td>0.31162</td>\n",
       "      <td>2.0469</td>\n",
       "      <td>10.2340</td>\n",
       "      <td>0.167680</td>\n",
       "      <td>0.56316</td>\n",
       "      <td>819.60</td>\n",
       "      <td>1.04560</td>\n",
       "      <td>0.373930</td>\n",
       "      <td>...</td>\n",
       "      <td>0.297670</td>\n",
       "      <td>0.14326</td>\n",
       "      <td>1.40290</td>\n",
       "      <td>1.66060</td>\n",
       "      <td>1189.700</td>\n",
       "      <td>0.078728</td>\n",
       "      <td>0.24695</td>\n",
       "      <td>0.18362</td>\n",
       "      <td>9.0895</td>\n",
       "      <td>8.8342</td>\n",
       "    </tr>\n",
       "    <tr>\n",
       "      <th>2</th>\n",
       "      <td>0.005861</td>\n",
       "      <td>0.39858</td>\n",
       "      <td>0.19768</td>\n",
       "      <td>1.9390</td>\n",
       "      <td>9.5771</td>\n",
       "      <td>0.044573</td>\n",
       "      <td>0.03438</td>\n",
       "      <td>4087.60</td>\n",
       "      <td>0.97850</td>\n",
       "      <td>0.085842</td>\n",
       "      <td>...</td>\n",
       "      <td>0.210510</td>\n",
       "      <td>0.27083</td>\n",
       "      <td>1.01620</td>\n",
       "      <td>1.33400</td>\n",
       "      <td>1.939</td>\n",
       "      <td>0.269720</td>\n",
       "      <td>0.12332</td>\n",
       "      <td>0.31271</td>\n",
       "      <td>6.2213</td>\n",
       "      <td>4.2785</td>\n",
       "    </tr>\n",
       "    <tr>\n",
       "      <th>3</th>\n",
       "      <td>0.110600</td>\n",
       "      <td>0.16117</td>\n",
       "      <td>0.47894</td>\n",
       "      <td>7.5711</td>\n",
       "      <td>263.9000</td>\n",
       "      <td>0.044573</td>\n",
       "      <td>1.89830</td>\n",
       "      <td>363.85</td>\n",
       "      <td>1.83520</td>\n",
       "      <td>0.830940</td>\n",
       "      <td>...</td>\n",
       "      <td>0.072886</td>\n",
       "      <td>0.12675</td>\n",
       "      <td>1.87160</td>\n",
       "      <td>2.06320</td>\n",
       "      <td>6092.300</td>\n",
       "      <td>0.159870</td>\n",
       "      <td>0.13185</td>\n",
       "      <td>0.10234</td>\n",
       "      <td>9.4499</td>\n",
       "      <td>3.3443</td>\n",
       "    </tr>\n",
       "    <tr>\n",
       "      <th>4</th>\n",
       "      <td>0.063911</td>\n",
       "      <td>1.40730</td>\n",
       "      <td>-0.29595</td>\n",
       "      <td>0.5291</td>\n",
       "      <td>-46.2870</td>\n",
       "      <td>-0.714200</td>\n",
       "      <td>0.12581</td>\n",
       "      <td>5433.40</td>\n",
       "      <td>0.44909</td>\n",
       "      <td>0.056405</td>\n",
       "      <td>...</td>\n",
       "      <td>0.628480</td>\n",
       "      <td>0.19822</td>\n",
       "      <td>-0.69738</td>\n",
       "      <td>0.46946</td>\n",
       "      <td>-13606.000</td>\n",
       "      <td>-0.015327</td>\n",
       "      <td>-0.13730</td>\n",
       "      <td>-1.67320</td>\n",
       "      <td>29.2710</td>\n",
       "      <td>14.1410</td>\n",
       "    </tr>\n",
       "    <tr>\n",
       "      <th>5</th>\n",
       "      <td>0.131680</td>\n",
       "      <td>0.66031</td>\n",
       "      <td>0.44121</td>\n",
       "      <td>2.7098</td>\n",
       "      <td>-23.5960</td>\n",
       "      <td>-0.200070</td>\n",
       "      <td>0.51117</td>\n",
       "      <td>675.35</td>\n",
       "      <td>1.06000</td>\n",
       "      <td>0.540110</td>\n",
       "      <td>...</td>\n",
       "      <td>0.258050</td>\n",
       "      <td>0.13579</td>\n",
       "      <td>1.12950</td>\n",
       "      <td>2.46710</td>\n",
       "      <td>75.681</td>\n",
       "      <td>0.110170</td>\n",
       "      <td>0.38764</td>\n",
       "      <td>1.18420</td>\n",
       "      <td>4.5462</td>\n",
       "      <td>15.1400</td>\n",
       "    </tr>\n",
       "  </tbody>\n",
       "</table>\n",
       "<p>5 rows × 33 columns</p>\n",
       "</div>"
      ],
      "text/plain": [
       "       Attr1    Attr2    Attr3   Attr4     Attr5     Attr6   Attr12   Attr15  \\\n",
       "ID                                                                             \n",
       "1   0.135370  0.45185  0.31162  2.0469   10.2340  0.167680  0.56316   819.60   \n",
       "2   0.005861  0.39858  0.19768  1.9390    9.5771  0.044573  0.03438  4087.60   \n",
       "3   0.110600  0.16117  0.47894  7.5711  263.9000  0.044573  1.89830   363.85   \n",
       "4   0.063911  1.40730 -0.29595  0.5291  -46.2870 -0.714200  0.12581  5433.40   \n",
       "5   0.131680  0.66031  0.44121  2.7098  -23.5960 -0.200070  0.51117   675.35   \n",
       "\n",
       "     Attr21    Attr26  ...    Attr51   Attr52   Attr53   Attr54     Attr55  \\\n",
       "ID                     ...                                                   \n",
       "1   1.04560  0.373930  ...  0.297670  0.14326  1.40290  1.66060   1189.700   \n",
       "2   0.97850  0.085842  ...  0.210510  0.27083  1.01620  1.33400      1.939   \n",
       "3   1.83520  0.830940  ...  0.072886  0.12675  1.87160  2.06320   6092.300   \n",
       "4   0.44909  0.056405  ...  0.628480  0.19822 -0.69738  0.46946 -13606.000   \n",
       "5   1.06000  0.540110  ...  0.258050  0.13579  1.12950  2.46710     75.681   \n",
       "\n",
       "      Attr56   Attr57   Attr59   Attr60   Attr61  \n",
       "ID                                                \n",
       "1   0.078728  0.24695  0.18362   9.0895   8.8342  \n",
       "2   0.269720  0.12332  0.31271   6.2213   4.2785  \n",
       "3   0.159870  0.13185  0.10234   9.4499   3.3443  \n",
       "4  -0.015327 -0.13730 -1.67320  29.2710  14.1410  \n",
       "5   0.110170  0.38764  1.18420   4.5462  15.1400  \n",
       "\n",
       "[5 rows x 33 columns]"
      ]
     },
     "execution_count": 38,
     "metadata": {},
     "output_type": "execute_result"
    }
   ],
   "source": [
    "X_df.head()"
   ]
  },
  {
   "cell_type": "markdown",
   "metadata": {},
   "source": [
    "Their seems a lot of outliers which spans even 50-60 Standard Deviations from the mean. However removing outliers is sometimes not a good idea unless one has Domain expertise\n",
    "\n",
    "#### Lets try clustering and see if we can get any insigt from that. We shall use Kmeans Clustering "
   ]
  },
  {
   "cell_type": "markdown",
   "metadata": {},
   "source": [
    "#### Lets work towards elbow method to determine optimum number of clusters"
   ]
  },
  {
   "cell_type": "code",
   "execution_count": 39,
   "metadata": {},
   "outputs": [],
   "source": [
    "variance = []\n",
    "for k in range(1, 20):\n",
    "    km = KMeans(n_clusters=k)\n",
    "    km.fit(X_df.values)\n",
    "    variance.append(km.inertia_)\n"
   ]
  },
  {
   "cell_type": "markdown",
   "metadata": {},
   "source": [
    "#### Lets plot Elbow"
   ]
  },
  {
   "cell_type": "code",
   "execution_count": 40,
   "metadata": {},
   "outputs": [
    {
     "data": {
      "text/plain": [
       "Text(0.5, 1.0, 'Elbow')"
      ]
     },
     "execution_count": 40,
     "metadata": {},
     "output_type": "execute_result"
    },
    {
     "data": {
      "image/png": "[encoded data removed]",
      "text/plain": [
       "<Figure size 1296x432 with 1 Axes>"
      ]
     },
     "metadata": {
      "needs_background": "light"
     },
     "output_type": "display_data"
    }
   ],
   "source": [
    "plt.figure(figsize = (18,6))\n",
    "plt.plot(range(1, 20), variance, marker='o')\n",
    "plt.grid()\n",
    "plt.xlabel('Number of clusters')\n",
    "plt.ylabel('Variance')\n",
    "plt.title('Elbow')"
   ]
  },
  {
   "cell_type": "markdown",
   "metadata": {},
   "source": [
    "Summary- The data is varied with a lot of entities spread over the feature space. \n",
    "Maybe 10ish is the Cluster number\n",
    "\n",
    "So we have data that might belong to more than 2 classes, because at cluster = 2, variance seems a bit off "
   ]
  },
  {
   "cell_type": "markdown",
   "metadata": {},
   "source": [
    "Lets move on to Supervised Learning and start building some models"
   ]
  },
  {
   "cell_type": "markdown",
   "metadata": {},
   "source": [
    "### Train test Split"
   ]
  },
  {
   "cell_type": "code",
   "execution_count": 42,
   "metadata": {},
   "outputs": [
    {
     "name": "stdout",
     "output_type": "stream",
     "text": [
      "(36553, 33)\n",
      "(36553,)\n"
     ]
    }
   ],
   "source": [
    "X = X_df.values\n",
    "Y = Y_df.values\n",
    "\n",
    "print (X.shape)\n",
    "print (Y.shape)"
   ]
  },
  {
   "cell_type": "code",
   "execution_count": 43,
   "metadata": {},
   "outputs": [],
   "source": [
    "X_train, X_val, Y_train, Y_val = train_test_split(X,Y, test_size=0.25, random_state=42)"
   ]
  },
  {
   "cell_type": "code",
   "execution_count": 44,
   "metadata": {},
   "outputs": [
    {
     "name": "stdout",
     "output_type": "stream",
     "text": [
      "(27414, 33)\n",
      "(27414,)\n"
     ]
    }
   ],
   "source": [
    "print (X_train.shape)\n",
    "print (Y_train.shape)"
   ]
  },
  {
   "cell_type": "code",
   "execution_count": 45,
   "metadata": {},
   "outputs": [
    {
     "name": "stdout",
     "output_type": "stream",
     "text": [
      "(9139, 33)\n",
      "(9139,)\n"
     ]
    }
   ],
   "source": [
    "print (X_val.shape)\n",
    "print (Y_val.shape)"
   ]
  },
  {
   "cell_type": "markdown",
   "metadata": {},
   "source": [
    "### Resampling of data using SMOTE Technique\n",
    "As we saw earlier this is a high imbalance data. By doing some oversampling we can add new rows to our data with target as minority class (In this case 1)\n",
    "\n",
    "Data Imbalances happen for a reason. The reason - <b> rare occuring events </b>. Some events have rare occurences but when they do they have huge impact.\n",
    "Something like cancer, meteor falling on Earth and killing Dinosaurs or Mortgage backed Security crisis of 2008, or something like Bankruptcy. So one has to take care of using an optimal ratio of while smoting. One shouldnot use a high ratio as these occurences are rare. "
   ]
  },
  {
   "cell_type": "code",
   "execution_count": 47,
   "metadata": {},
   "outputs": [
    {
     "name": "stdout",
     "output_type": "stream",
     "text": [
      "The Imbalance is: 4.891661195009849\n"
     ]
    }
   ],
   "source": [
    "# Lets check the imbalance first\n",
    "print ('The Imbalance is: {}'.format(np.unique(Y_train, return_counts=True)[1][1] / \n",
    "                                    (float(np.unique(Y_train, return_counts=True)[1][0]) + \n",
    "                                    np.unique(Y_train, return_counts=True)[1][1])*100))"
   ]
  },
  {
   "cell_type": "code",
   "execution_count": 50,
   "metadata": {},
   "outputs": [],
   "source": [
    "smote_on_1 = 1965\n",
    "sm = SMOTE(sampling_strategy={1: smote_on_1},random_state=42) # lets reduce the imbalance \n",
    "\n",
    "X_res, Y_res = sm.fit_resample(X_train, Y_train)"
   ]
  },
  {
   "cell_type": "code",
   "execution_count": 53,
   "metadata": {},
   "outputs": [
    {
     "name": "stdout",
     "output_type": "stream",
     "text": [
      "(28038, 33)\n",
      "(28038,)\n"
     ]
    }
   ],
   "source": [
    "print (X_res.shape)\n",
    "print (Y_res.shape)"
   ]
  },
  {
   "cell_type": "code",
   "execution_count": 52,
   "metadata": {},
   "outputs": [
    {
     "name": "stdout",
     "output_type": "stream",
     "text": [
      "The Imbalance is reduced now and stands at: 7.00834581639204\n"
     ]
    }
   ],
   "source": [
    "# Lets check the imbalance first\n",
    "print ('The Imbalance is reduced now and stands at: {}'.format(np.unique(Y_res, return_counts=True)[1][1] / \n",
    "                                    (float(np.unique(Y_res, return_counts=True)[1][0]) + \n",
    "                                    np.unique(Y_res, return_counts=True)[1][1])*100))"
   ]
  },
  {
   "cell_type": "markdown",
   "metadata": {},
   "source": []
  },
  {
   "cell_type": "markdown",
   "metadata": {},
   "source": [
    "### Lets apply different machine learning models\n",
    "\n",
    "1. Logistic Regression\n",
    "2. SVM\n",
    "3. Random Forests\n",
    "4. AdaBoost\n",
    "5. XGBoost"
   ]
  },
  {
   "cell_type": "markdown",
   "metadata": {},
   "source": [
    "#### Creating Instances"
   ]
  },
  {
   "cell_type": "code",
   "execution_count": 54,
   "metadata": {},
   "outputs": [],
   "source": [
    "# Lets stick to default Hyperparametrs as of now. We shall tune the best model\n",
    "log_reg = LogisticRegression(random_state= 42)\n",
    "svc = SVC(random_state= 42)\n",
    "rf = RandomForestClassifier(random_state= 42)\n",
    "ada = AdaBoostClassifier(random_state= 42)\n",
    "xgb = XGBClassifier(random_state= 42)"
   ]
  },
  {
   "cell_type": "markdown",
   "metadata": {},
   "source": [
    "A small function that loops through the instances above and stores evaluation metrics of each classifier in a dictionary"
   ]
  },
  {
   "cell_type": "code",
   "execution_count": 55,
   "metadata": {},
   "outputs": [],
   "source": [
    "\n",
    "def training_predict(trainer, X_train, Y_train, X_test, Y_test):\n",
    "    scores = {} # Initializing a Dictionary to store evaluation metrics\n",
    "    \n",
    "    trainer.fit(X_train, Y_train)  # Training\n",
    "    Y_pred = trainer.predict(X_test) # Predicts\n",
    "    \n",
    "    '''\n",
    "    Stores the result of trainer in its individual Key\n",
    "    '''\n",
    "    scores['Accuracy_test'] = accuracy_score(Y_test , Y_pred)  \n",
    "    \n",
    "    scores['Recall_test'] = recall_score(Y_test , Y_pred)\n",
    "    \n",
    "    scores['Precision_test'] = precision_score(Y_test , Y_pred)\n",
    "    \n",
    "    scores['F1_Score_test'] = f1_score(Y_test , Y_pred)\n",
    "    \n",
    "    \n",
    "    return scores\n"
   ]
  },
  {
   "cell_type": "code",
   "execution_count": 57,
   "metadata": {},
   "outputs": [
    {
     "name": "stdout",
     "output_type": "stream",
     "text": [
      "(28038, 33)\n",
      "(28038,)\n",
      "\n",
      "\n",
      "(9139, 33)\n",
      "(9139,)\n"
     ]
    }
   ],
   "source": [
    "print (X_res.shape)\n",
    "print (Y_res.shape)\n",
    "print ('\\n')\n",
    "print (X_val.shape)\n",
    "print (Y_val.shape)"
   ]
  },
  {
   "cell_type": "code",
   "execution_count": null,
   "metadata": {},
   "outputs": [],
   "source": [
    "# __class__.__name__ is a nice attribute to get the Algorithm Name\n",
    "# log_reg.__class__.__name__\n",
    "# Output = 'LogisticRegression'"
   ]
  },
  {
   "cell_type": "code",
   "execution_count": 58,
   "metadata": {},
   "outputs": [
    {
     "name": "stderr",
     "output_type": "stream",
     "text": [
      "C:\\Users\\Vaipoj Mesombat\\AppData\\Local\\Programs\\Python\\Python39\\lib\\site-packages\\sklearn\\linear_model\\_logistic.py:814: ConvergenceWarning: lbfgs failed to converge (status=1):\n",
      "STOP: TOTAL NO. of ITERATIONS REACHED LIMIT.\n",
      "\n",
      "Increase the number of iterations (max_iter) or scale the data as shown in:\n",
      "    https://scikit-learn.org/stable/modules/preprocessing.html\n",
      "Please also refer to the documentation for alternative solver options:\n",
      "    https://scikit-learn.org/stable/modules/linear_model.html#logistic-regression\n",
      "  n_iter_i = _check_optimize_result(\n",
      "C:\\Users\\Vaipoj Mesombat\\AppData\\Local\\Programs\\Python\\Python39\\lib\\site-packages\\xgboost\\sklearn.py:1224: UserWarning: The use of label encoder in XGBClassifier is deprecated and will be removed in a future release. To remove this warning, do the following: 1) Pass option use_label_encoder=False when constructing XGBClassifier object; and 2) Encode your labels (y) as integers starting with 0, i.e. 0, 1, 2, ..., [num_class - 1].\n",
      "  warnings.warn(label_encoder_deprecation_msg, UserWarning)\n"
     ]
    },
    {
     "name": "stdout",
     "output_type": "stream",
     "text": [
      "[15:59:22] WARNING: C:/Users/Administrator/workspace/xgboost-win64_release_1.5.1/src/learner.cc:1115: Starting in XGBoost 1.3.0, the default evaluation metric used with the objective 'binary:logistic' was changed from 'error' to 'logloss'. Explicitly set eval_metric if you'd like to restore the old behavior.\n"
     ]
    }
   ],
   "source": [
    "# Ignore the error\n",
    "predictors = {} # Initializing a dictionary to store training and testing data\n",
    "for model in [log_reg, svc, rf, ada, xgb]: # these are our objects that we instantiated above. We loop through them\n",
    "    model_name = model.__class__.__name__\n",
    "    predictors[model_name]  = {}\n",
    "    predictors[model_name] =  training_predict(model, X_res, Y_res, X_val, Y_val) #Scores that is returned from trainer goes to\n",
    "                                                                             # the respective predictor\n",
    "    "
   ]
  },
  {
   "cell_type": "code",
   "execution_count": 62,
   "metadata": {},
   "outputs": [],
   "source": [
    "import warnings; warnings.simplefilter('ignore')"
   ]
  },
  {
   "cell_type": "code",
   "execution_count": 59,
   "metadata": {},
   "outputs": [
    {
     "data": {
      "text/html": [
       "<div>\n",
       "<style scoped>\n",
       "    .dataframe tbody tr th:only-of-type {\n",
       "        vertical-align: middle;\n",
       "    }\n",
       "\n",
       "    .dataframe tbody tr th {\n",
       "        vertical-align: top;\n",
       "    }\n",
       "\n",
       "    .dataframe thead th {\n",
       "        text-align: right;\n",
       "    }\n",
       "</style>\n",
       "<table border=\"1\" class=\"dataframe\">\n",
       "  <thead>\n",
       "    <tr style=\"text-align: right;\">\n",
       "      <th></th>\n",
       "      <th>Accuracy_test</th>\n",
       "      <th>Recall_test</th>\n",
       "      <th>Precision_test</th>\n",
       "      <th>F1_Score_test</th>\n",
       "    </tr>\n",
       "  </thead>\n",
       "  <tbody>\n",
       "    <tr>\n",
       "      <th>LogisticRegression</th>\n",
       "      <td>0.950651</td>\n",
       "      <td>0.004717</td>\n",
       "      <td>0.064516</td>\n",
       "      <td>0.008791</td>\n",
       "    </tr>\n",
       "    <tr>\n",
       "      <th>SVC</th>\n",
       "      <td>0.953496</td>\n",
       "      <td>0.000000</td>\n",
       "      <td>0.000000</td>\n",
       "      <td>0.000000</td>\n",
       "    </tr>\n",
       "    <tr>\n",
       "      <th>RandomForestClassifier</th>\n",
       "      <td>0.959076</td>\n",
       "      <td>0.186321</td>\n",
       "      <td>0.731481</td>\n",
       "      <td>0.296992</td>\n",
       "    </tr>\n",
       "    <tr>\n",
       "      <th>AdaBoostClassifier</th>\n",
       "      <td>0.953715</td>\n",
       "      <td>0.143868</td>\n",
       "      <td>0.504132</td>\n",
       "      <td>0.223853</td>\n",
       "    </tr>\n",
       "    <tr>\n",
       "      <th>XGBClassifier</th>\n",
       "      <td>0.972426</td>\n",
       "      <td>0.523585</td>\n",
       "      <td>0.816176</td>\n",
       "      <td>0.637931</td>\n",
       "    </tr>\n",
       "  </tbody>\n",
       "</table>\n",
       "</div>"
      ],
      "text/plain": [
       "                        Accuracy_test  Recall_test  Precision_test  \\\n",
       "LogisticRegression           0.950651     0.004717        0.064516   \n",
       "SVC                          0.953496     0.000000        0.000000   \n",
       "RandomForestClassifier       0.959076     0.186321        0.731481   \n",
       "AdaBoostClassifier           0.953715     0.143868        0.504132   \n",
       "XGBClassifier                0.972426     0.523585        0.816176   \n",
       "\n",
       "                        F1_Score_test  \n",
       "LogisticRegression           0.008791  \n",
       "SVC                          0.000000  \n",
       "RandomForestClassifier       0.296992  \n",
       "AdaBoostClassifier           0.223853  \n",
       "XGBClassifier                0.637931  "
      ]
     },
     "execution_count": 59,
     "metadata": {},
     "output_type": "execute_result"
    }
   ],
   "source": [
    "pd.DataFrame(predictors).T"
   ]
  },
  {
   "cell_type": "markdown",
   "metadata": {},
   "source": [
    "The above scores are on the base of Smoting at 7% from 4.8% for minoirty class\n",
    "\n",
    "However we can try different ratios in Smote and try models on different samples.\n",
    "\n",
    "Lets try some values in Smote and run the iterations again"
   ]
  },
  {
   "cell_type": "code",
   "execution_count": 60,
   "metadata": {},
   "outputs": [
    {
     "data": {
      "text/plain": [
       "array([0.065     , 0.06928571, 0.07357143, 0.07785714, 0.08214286,\n",
       "       0.08642857, 0.09071429, 0.095     , 0.09928571, 0.10357143,\n",
       "       0.10785714, 0.11214286, 0.11642857, 0.12071429, 0.125     ])"
      ]
     },
     "execution_count": 60,
     "metadata": {},
     "output_type": "execute_result"
    }
   ],
   "source": [
    "smote_values = np.linspace(0.065, 0.125, num= 15)\n",
    "smote_values"
   ]
  },
  {
   "cell_type": "code",
   "execution_count": 72,
   "metadata": {
    "collapsed": true
   },
   "outputs": [
    {
     "name": "stdout",
     "output_type": "stream",
     "text": [
      "Loop for smote value 0.065 started at 16:03:08\n",
      "[16:03:50] WARNING: C:/Users/Administrator/workspace/xgboost-win64_release_1.5.1/src/learner.cc:1115: Starting in XGBoost 1.3.0, the default evaluation metric used with the objective 'binary:logistic' was changed from 'error' to 'logloss'. Explicitly set eval_metric if you'd like to restore the old behavior.\n",
      "Loop Ended at 16:03:57\n",
      "\n",
      "\n",
      "Loop for smote value 0.06928571428571428 started at 16:03:57\n",
      "[16:04:38] WARNING: C:/Users/Administrator/workspace/xgboost-win64_release_1.5.1/src/learner.cc:1115: Starting in XGBoost 1.3.0, the default evaluation metric used with the objective 'binary:logistic' was changed from 'error' to 'logloss'. Explicitly set eval_metric if you'd like to restore the old behavior.\n",
      "Loop Ended at 16:04:46\n",
      "\n",
      "\n",
      "Loop for smote value 0.07357142857142858 started at 16:04:46\n",
      "[16:05:29] WARNING: C:/Users/Administrator/workspace/xgboost-win64_release_1.5.1/src/learner.cc:1115: Starting in XGBoost 1.3.0, the default evaluation metric used with the objective 'binary:logistic' was changed from 'error' to 'logloss'. Explicitly set eval_metric if you'd like to restore the old behavior.\n",
      "Loop Ended at 16:05:42\n",
      "\n",
      "\n",
      "Loop for smote value 0.07785714285714286 started at 16:05:42\n",
      "[16:06:26] WARNING: C:/Users/Administrator/workspace/xgboost-win64_release_1.5.1/src/learner.cc:1115: Starting in XGBoost 1.3.0, the default evaluation metric used with the objective 'binary:logistic' was changed from 'error' to 'logloss'. Explicitly set eval_metric if you'd like to restore the old behavior.\n",
      "Loop Ended at 16:06:39\n",
      "\n",
      "\n",
      "Loop for smote value 0.08214285714285714 started at 16:06:39\n",
      "[16:07:23] WARNING: C:/Users/Administrator/workspace/xgboost-win64_release_1.5.1/src/learner.cc:1115: Starting in XGBoost 1.3.0, the default evaluation metric used with the objective 'binary:logistic' was changed from 'error' to 'logloss'. Explicitly set eval_metric if you'd like to restore the old behavior.\n",
      "Loop Ended at 16:07:38\n",
      "\n",
      "\n",
      "Loop for smote value 0.08642857142857144 started at 16:07:38\n",
      "[16:08:26] WARNING: C:/Users/Administrator/workspace/xgboost-win64_release_1.5.1/src/learner.cc:1115: Starting in XGBoost 1.3.0, the default evaluation metric used with the objective 'binary:logistic' was changed from 'error' to 'logloss'. Explicitly set eval_metric if you'd like to restore the old behavior.\n",
      "Loop Ended at 16:08:40\n",
      "\n",
      "\n",
      "Loop for smote value 0.09071428571428572 started at 16:08:41\n",
      "[16:09:22] WARNING: C:/Users/Administrator/workspace/xgboost-win64_release_1.5.1/src/learner.cc:1115: Starting in XGBoost 1.3.0, the default evaluation metric used with the objective 'binary:logistic' was changed from 'error' to 'logloss'. Explicitly set eval_metric if you'd like to restore the old behavior.\n",
      "Loop Ended at 16:09:36\n",
      "\n",
      "\n",
      "Loop for smote value 0.095 started at 16:09:36\n",
      "[16:10:19] WARNING: C:/Users/Administrator/workspace/xgboost-win64_release_1.5.1/src/learner.cc:1115: Starting in XGBoost 1.3.0, the default evaluation metric used with the objective 'binary:logistic' was changed from 'error' to 'logloss'. Explicitly set eval_metric if you'd like to restore the old behavior.\n",
      "Loop Ended at 16:10:31\n",
      "\n",
      "\n",
      "Loop for smote value 0.09928571428571428 started at 16:10:32\n",
      "[16:11:13] WARNING: C:/Users/Administrator/workspace/xgboost-win64_release_1.5.1/src/learner.cc:1115: Starting in XGBoost 1.3.0, the default evaluation metric used with the objective 'binary:logistic' was changed from 'error' to 'logloss'. Explicitly set eval_metric if you'd like to restore the old behavior.\n",
      "Loop Ended at 16:11:26\n",
      "\n",
      "\n",
      "Loop for smote value 0.10357142857142858 started at 16:11:26\n",
      "[16:12:09] WARNING: C:/Users/Administrator/workspace/xgboost-win64_release_1.5.1/src/learner.cc:1115: Starting in XGBoost 1.3.0, the default evaluation metric used with the objective 'binary:logistic' was changed from 'error' to 'logloss'. Explicitly set eval_metric if you'd like to restore the old behavior.\n",
      "Loop Ended at 16:12:21\n",
      "\n",
      "\n",
      "Loop for smote value 0.10785714285714286 started at 16:12:21\n",
      "[16:13:02] WARNING: C:/Users/Administrator/workspace/xgboost-win64_release_1.5.1/src/learner.cc:1115: Starting in XGBoost 1.3.0, the default evaluation metric used with the objective 'binary:logistic' was changed from 'error' to 'logloss'. Explicitly set eval_metric if you'd like to restore the old behavior.\n",
      "Loop Ended at 16:13:14\n",
      "\n",
      "\n",
      "Loop for smote value 0.11214285714285716 started at 16:13:14\n",
      "[16:13:57] WARNING: C:/Users/Administrator/workspace/xgboost-win64_release_1.5.1/src/learner.cc:1115: Starting in XGBoost 1.3.0, the default evaluation metric used with the objective 'binary:logistic' was changed from 'error' to 'logloss'. Explicitly set eval_metric if you'd like to restore the old behavior.\n",
      "Loop Ended at 16:14:10\n",
      "\n",
      "\n",
      "Loop for smote value 0.11642857142857144 started at 16:14:10\n",
      "[16:14:50] WARNING: C:/Users/Administrator/workspace/xgboost-win64_release_1.5.1/src/learner.cc:1115: Starting in XGBoost 1.3.0, the default evaluation metric used with the objective 'binary:logistic' was changed from 'error' to 'logloss'. Explicitly set eval_metric if you'd like to restore the old behavior.\n",
      "Loop Ended at 16:15:03\n",
      "\n",
      "\n",
      "Loop for smote value 0.12071428571428572 started at 16:15:03\n",
      "[16:15:49] WARNING: C:/Users/Administrator/workspace/xgboost-win64_release_1.5.1/src/learner.cc:1115: Starting in XGBoost 1.3.0, the default evaluation metric used with the objective 'binary:logistic' was changed from 'error' to 'logloss'. Explicitly set eval_metric if you'd like to restore the old behavior.\n",
      "Loop Ended at 16:16:02\n",
      "\n",
      "\n",
      "Loop for smote value 0.125 started at 16:16:02\n",
      "[16:16:45] WARNING: C:/Users/Administrator/workspace/xgboost-win64_release_1.5.1/src/learner.cc:1115: Starting in XGBoost 1.3.0, the default evaluation metric used with the objective 'binary:logistic' was changed from 'error' to 'logloss'. Explicitly set eval_metric if you'd like to restore the old behavior.\n",
      "Loop Ended at 16:16:58\n",
      "\n",
      "\n",
      "Loop took 13.824696226914723 mins\n"
     ]
    }
   ],
   "source": [
    "#Ignore the errors\n",
    "start = time.time()\n",
    "\n",
    "panel = {} # Saves key as smoting ratio and dictionary is the result of each classifier\n",
    "\n",
    "for value in smote_values:\n",
    "    sm = SMOTE(sampling_strategy={1: smote_on_1},random_state=42)\n",
    "    X_res, Y_res = sm.fit_resample(X_train, Y_train)\n",
    "\n",
    "    print ('Loop for smote value {} started at {}'.format(value, datetime.now().strftime(\"%H:%M:%S\")))\n",
    "   \n",
    "    predictors = {} # Initializing a dictionary to store training and testing data\n",
    " \n",
    "    for model in [log_reg, svc, rf, ada, xgb]:\n",
    "        model_name = model.__class__.__name__\n",
    "        predictors[model_name]  = {}\n",
    "        predictors[model_name] =  training_predict(model, X_res, Y_res, X_val, Y_val) #Scores that is returned from trainer goes to\n",
    "    \n",
    "    panel[value] = predictors  # the respective predictor\n",
    "            \n",
    "    print ('Loop Ended at {}'.format(datetime.now().strftime(\"%H:%M:%S\")))\n",
    "    print ('\\n')\n",
    "    \n",
    "print ('Loop took {} mins'.format((time.time() - start) / 60))"
   ]
  },
  {
   "cell_type": "code",
   "execution_count": 73,
   "metadata": {},
   "outputs": [],
   "source": [
    "smote_iterated_df = pd.DataFrame()\n",
    "for key in panel:\n",
    "    temp_df = pd.DataFrame(panel[key]).T\n",
    "    temp_df['Smote'] = key\n",
    "    temp_df.index.name = 'Class'\n",
    "    temp_df.reset_index(inplace= True)\n",
    "    temp_df.set_index(['Smote','Class'], inplace= True)\n",
    "    smote_iterated_df = smote_iterated_df.append(temp_df)"
   ]
  },
  {
   "cell_type": "code",
   "execution_count": 74,
   "metadata": {},
   "outputs": [
    {
     "data": {
      "text/html": [
       "<div>\n",
       "<style scoped>\n",
       "    .dataframe tbody tr th:only-of-type {\n",
       "        vertical-align: middle;\n",
       "    }\n",
       "\n",
       "    .dataframe tbody tr th {\n",
       "        vertical-align: top;\n",
       "    }\n",
       "\n",
       "    .dataframe thead th {\n",
       "        text-align: right;\n",
       "    }\n",
       "</style>\n",
       "<table border=\"1\" class=\"dataframe\">\n",
       "  <thead>\n",
       "    <tr style=\"text-align: right;\">\n",
       "      <th></th>\n",
       "      <th></th>\n",
       "      <th>Accuracy_test</th>\n",
       "      <th>Recall_test</th>\n",
       "      <th>Precision_test</th>\n",
       "      <th>F1_Score_test</th>\n",
       "    </tr>\n",
       "    <tr>\n",
       "      <th>Smote</th>\n",
       "      <th>Class</th>\n",
       "      <th></th>\n",
       "      <th></th>\n",
       "      <th></th>\n",
       "      <th></th>\n",
       "    </tr>\n",
       "  </thead>\n",
       "  <tbody>\n",
       "    <tr>\n",
       "      <th rowspan=\"5\" valign=\"top\">0.065000</th>\n",
       "      <th>LogisticRegression</th>\n",
       "      <td>0.950651</td>\n",
       "      <td>0.004717</td>\n",
       "      <td>0.064516</td>\n",
       "      <td>0.008791</td>\n",
       "    </tr>\n",
       "    <tr>\n",
       "      <th>SVC</th>\n",
       "      <td>0.953496</td>\n",
       "      <td>0.000000</td>\n",
       "      <td>0.000000</td>\n",
       "      <td>0.000000</td>\n",
       "    </tr>\n",
       "    <tr>\n",
       "      <th>RandomForestClassifier</th>\n",
       "      <td>0.959076</td>\n",
       "      <td>0.186321</td>\n",
       "      <td>0.731481</td>\n",
       "      <td>0.296992</td>\n",
       "    </tr>\n",
       "    <tr>\n",
       "      <th>AdaBoostClassifier</th>\n",
       "      <td>0.953715</td>\n",
       "      <td>0.143868</td>\n",
       "      <td>0.504132</td>\n",
       "      <td>0.223853</td>\n",
       "    </tr>\n",
       "    <tr>\n",
       "      <th>XGBClassifier</th>\n",
       "      <td>0.972426</td>\n",
       "      <td>0.523585</td>\n",
       "      <td>0.816176</td>\n",
       "      <td>0.637931</td>\n",
       "    </tr>\n",
       "    <tr>\n",
       "      <th rowspan=\"5\" valign=\"top\">0.069286</th>\n",
       "      <th>LogisticRegression</th>\n",
       "      <td>0.950651</td>\n",
       "      <td>0.004717</td>\n",
       "      <td>0.064516</td>\n",
       "      <td>0.008791</td>\n",
       "    </tr>\n",
       "    <tr>\n",
       "      <th>SVC</th>\n",
       "      <td>0.953496</td>\n",
       "      <td>0.000000</td>\n",
       "      <td>0.000000</td>\n",
       "      <td>0.000000</td>\n",
       "    </tr>\n",
       "    <tr>\n",
       "      <th>RandomForestClassifier</th>\n",
       "      <td>0.959076</td>\n",
       "      <td>0.186321</td>\n",
       "      <td>0.731481</td>\n",
       "      <td>0.296992</td>\n",
       "    </tr>\n",
       "    <tr>\n",
       "      <th>AdaBoostClassifier</th>\n",
       "      <td>0.953715</td>\n",
       "      <td>0.143868</td>\n",
       "      <td>0.504132</td>\n",
       "      <td>0.223853</td>\n",
       "    </tr>\n",
       "    <tr>\n",
       "      <th>XGBClassifier</th>\n",
       "      <td>0.972426</td>\n",
       "      <td>0.523585</td>\n",
       "      <td>0.816176</td>\n",
       "      <td>0.637931</td>\n",
       "    </tr>\n",
       "    <tr>\n",
       "      <th rowspan=\"5\" valign=\"top\">0.073571</th>\n",
       "      <th>LogisticRegression</th>\n",
       "      <td>0.950651</td>\n",
       "      <td>0.004717</td>\n",
       "      <td>0.064516</td>\n",
       "      <td>0.008791</td>\n",
       "    </tr>\n",
       "    <tr>\n",
       "      <th>SVC</th>\n",
       "      <td>0.953496</td>\n",
       "      <td>0.000000</td>\n",
       "      <td>0.000000</td>\n",
       "      <td>0.000000</td>\n",
       "    </tr>\n",
       "    <tr>\n",
       "      <th>RandomForestClassifier</th>\n",
       "      <td>0.959076</td>\n",
       "      <td>0.186321</td>\n",
       "      <td>0.731481</td>\n",
       "      <td>0.296992</td>\n",
       "    </tr>\n",
       "    <tr>\n",
       "      <th>AdaBoostClassifier</th>\n",
       "      <td>0.953715</td>\n",
       "      <td>0.143868</td>\n",
       "      <td>0.504132</td>\n",
       "      <td>0.223853</td>\n",
       "    </tr>\n",
       "    <tr>\n",
       "      <th>XGBClassifier</th>\n",
       "      <td>0.972426</td>\n",
       "      <td>0.523585</td>\n",
       "      <td>0.816176</td>\n",
       "      <td>0.637931</td>\n",
       "    </tr>\n",
       "  </tbody>\n",
       "</table>\n",
       "</div>"
      ],
      "text/plain": [
       "                                 Accuracy_test  Recall_test  Precision_test  \\\n",
       "Smote    Class                                                                \n",
       "0.065000 LogisticRegression           0.950651     0.004717        0.064516   \n",
       "         SVC                          0.953496     0.000000        0.000000   \n",
       "         RandomForestClassifier       0.959076     0.186321        0.731481   \n",
       "         AdaBoostClassifier           0.953715     0.143868        0.504132   \n",
       "         XGBClassifier                0.972426     0.523585        0.816176   \n",
       "0.069286 LogisticRegression           0.950651     0.004717        0.064516   \n",
       "         SVC                          0.953496     0.000000        0.000000   \n",
       "         RandomForestClassifier       0.959076     0.186321        0.731481   \n",
       "         AdaBoostClassifier           0.953715     0.143868        0.504132   \n",
       "         XGBClassifier                0.972426     0.523585        0.816176   \n",
       "0.073571 LogisticRegression           0.950651     0.004717        0.064516   \n",
       "         SVC                          0.953496     0.000000        0.000000   \n",
       "         RandomForestClassifier       0.959076     0.186321        0.731481   \n",
       "         AdaBoostClassifier           0.953715     0.143868        0.504132   \n",
       "         XGBClassifier                0.972426     0.523585        0.816176   \n",
       "\n",
       "                                 F1_Score_test  \n",
       "Smote    Class                                  \n",
       "0.065000 LogisticRegression           0.008791  \n",
       "         SVC                          0.000000  \n",
       "         RandomForestClassifier       0.296992  \n",
       "         AdaBoostClassifier           0.223853  \n",
       "         XGBClassifier                0.637931  \n",
       "0.069286 LogisticRegression           0.008791  \n",
       "         SVC                          0.000000  \n",
       "         RandomForestClassifier       0.296992  \n",
       "         AdaBoostClassifier           0.223853  \n",
       "         XGBClassifier                0.637931  \n",
       "0.073571 LogisticRegression           0.008791  \n",
       "         SVC                          0.000000  \n",
       "         RandomForestClassifier       0.296992  \n",
       "         AdaBoostClassifier           0.223853  \n",
       "         XGBClassifier                0.637931  "
      ]
     },
     "execution_count": 74,
     "metadata": {},
     "output_type": "execute_result"
    }
   ],
   "source": [
    "smote_iterated_df.head(15)"
   ]
  },
  {
   "cell_type": "markdown",
   "metadata": {},
   "source": [
    "Recall Score is what we are interested in. Recall shows our model's ability to predict Positive as Positive. Since our Data is highly imbalance, it is difficult for any model to get a better recall. Sometime models ignores the minority class\n"
   ]
  },
  {
   "cell_type": "code",
   "execution_count": 75,
   "metadata": {},
   "outputs": [
    {
     "data": {
      "text/plain": [
       "Smote     Class        \n",
       "0.125000  XGBClassifier    0.523585\n",
       "0.069286  XGBClassifier    0.523585\n",
       "0.095000  XGBClassifier    0.523585\n",
       "0.073571  XGBClassifier    0.523585\n",
       "0.103571  XGBClassifier    0.523585\n",
       "Name: Recall_test, dtype: float64"
      ]
     },
     "execution_count": 75,
     "metadata": {},
     "output_type": "execute_result"
    }
   ],
   "source": [
    "# Lets rearrange Recall_test score in descending order\n",
    "smote_iterated_df['Recall_test'].sort_values(ascending = False).head(5)"
   ]
  },
  {
   "cell_type": "code",
   "execution_count": 76,
   "metadata": {},
   "outputs": [
    {
     "data": {
      "text/plain": [
       "(0.065, 'XGBClassifier')"
      ]
     },
     "execution_count": 76,
     "metadata": {},
     "output_type": "execute_result"
    }
   ],
   "source": [
    "smote_iterated_df['Recall_test'].idxmax() # Finding the Smote_Ratio and Class for the largest Recall Score"
   ]
  },
  {
   "cell_type": "code",
   "execution_count": 77,
   "metadata": {},
   "outputs": [],
   "source": [
    "smote_iterated_df.to_csv('Smote_iteration.csv', sep=',')"
   ]
  },
  {
   "cell_type": "markdown",
   "metadata": {},
   "source": [
    "Summary - \n",
    "1. XgBoost is a clear Winner\n",
    "2. At a smote ratio of 0.11214, Recall was highest\n",
    "\n",
    "#### So we will move forward with XGboost and smote ratio of 0.11214 and hyper paramenter tuning"
   ]
  },
  {
   "cell_type": "markdown",
   "metadata": {},
   "source": [
    "### PreTune and Post Tune"
   ]
  },
  {
   "cell_type": "code",
   "execution_count": 78,
   "metadata": {},
   "outputs": [
    {
     "name": "stdout",
     "output_type": "stream",
     "text": [
      "(28038, 33)\n",
      "(28038,)\n",
      "\n",
      "\n",
      "(9139, 33)\n",
      "(9139,)\n"
     ]
    }
   ],
   "source": [
    "# Ignore Error\n",
    "sm = SMOTE(sampling_strategy={1: smote_on_1},random_state=42)\n",
    "X_res, Y_res = sm.fit_resample(X_train, Y_train)\n",
    "\n",
    "print (X_res.shape)\n",
    "print (Y_res.shape)\n",
    "print ('\\n')\n",
    "print (X_val.shape)\n",
    "print (Y_val.shape)"
   ]
  },
  {
   "cell_type": "markdown",
   "metadata": {},
   "source": [
    "### PreTune with default parameters"
   ]
  },
  {
   "cell_type": "code",
   "execution_count": 79,
   "metadata": {},
   "outputs": [],
   "source": [
    "clf_pre_tune = XGBClassifier(max_depth= 3 , n_estimators= 100, min_child_weight= 1, reg_lambda= 1) # Default Paramters"
   ]
  },
  {
   "cell_type": "code",
   "execution_count": 80,
   "metadata": {},
   "outputs": [
    {
     "name": "stdout",
     "output_type": "stream",
     "text": [
      "[16:16:59] WARNING: C:/Users/Administrator/workspace/xgboost-win64_release_1.5.1/src/learner.cc:1115: Starting in XGBoost 1.3.0, the default evaluation metric used with the objective 'binary:logistic' was changed from 'error' to 'logloss'. Explicitly set eval_metric if you'd like to restore the old behavior.\n",
      "F1 Accuracy : 0.5550387596899226\n",
      "Precision Score: 0.8099547511312217\n",
      "Recall Score: 0.4221698113207547\n"
     ]
    }
   ],
   "source": [
    "# Ignore error\n",
    "clf_pre_tune.fit(X_res, Y_res)\n",
    "Y_pred = clf_pre_tune.predict(X_val)\n",
    "\n",
    "print ('F1 Accuracy : {}'.format(f1_score(Y_val,Y_pred)))\n",
    "print ('Precision Score: {}'.format(precision_score(Y_val,Y_pred)))\n",
    "print ('Recall Score: {}'.format(recall_score(Y_val,Y_pred)))"
   ]
  },
  {
   "cell_type": "markdown",
   "metadata": {},
   "source": [
    "### Tuning"
   ]
  },
  {
   "cell_type": "code",
   "execution_count": 81,
   "metadata": {},
   "outputs": [],
   "source": [
    "clf_tune = XGBClassifier(n_estimators= 300, n_jobs= -1)\n",
    "parameters = {'max_depth': range(5),\n",
    "              'min_child_weight':[1,2,3,4,5], \n",
    "              'reg_lambda': [0.50,0.75,1,1.25,1.5]} "
   ]
  },
  {
   "cell_type": "code",
   "execution_count": 82,
   "metadata": {},
   "outputs": [],
   "source": [
    "grid = GridSearchCV(clf_tune, param_grid = parameters, n_jobs= -1, cv = 5 )"
   ]
  },
  {
   "cell_type": "code",
   "execution_count": 83,
   "metadata": {},
   "outputs": [
    {
     "name": "stdout",
     "output_type": "stream",
     "text": [
      "[17:38:43] WARNING: C:/Users/Administrator/workspace/xgboost-win64_release_1.5.1/src/learner.cc:1115: Starting in XGBoost 1.3.0, the default evaluation metric used with the objective 'binary:logistic' was changed from 'error' to 'logloss'. Explicitly set eval_metric if you'd like to restore the old behavior.\n"
     ]
    },
    {
     "data": {
      "text/plain": [
       "GridSearchCV(cv=5,\n",
       "             estimator=XGBClassifier(base_score=None, booster=None,\n",
       "                                     colsample_bylevel=None,\n",
       "                                     colsample_bynode=None,\n",
       "                                     colsample_bytree=None,\n",
       "                                     enable_categorical=False, gamma=None,\n",
       "                                     gpu_id=None, importance_type=None,\n",
       "                                     interaction_constraints=None,\n",
       "                                     learning_rate=None, max_delta_step=None,\n",
       "                                     max_depth=None, min_child_weight=None,\n",
       "                                     missing=nan, monotone_constraints=None,\n",
       "                                     n_estimators=300, n_jobs=-1,\n",
       "                                     num_parallel_tree=None, predictor=None,\n",
       "                                     random_state=None, reg_alpha=None,\n",
       "                                     reg_lambda=None, scale_pos_weight=None,\n",
       "                                     subsample=None, tree_method=None,\n",
       "                                     validate_parameters=None, verbosity=None),\n",
       "             n_jobs=-1,\n",
       "             param_grid={'max_depth': range(0, 5),\n",
       "                         'min_child_weight': [1, 2, 3, 4, 5],\n",
       "                         'reg_lambda': [0.5, 0.75, 1, 1.25, 1.5]})"
      ]
     },
     "execution_count": 83,
     "metadata": {},
     "output_type": "execute_result"
    }
   ],
   "source": [
    "grid.fit(X_res, Y_res)"
   ]
  },
  {
   "cell_type": "code",
   "execution_count": 84,
   "metadata": {},
   "outputs": [
    {
     "name": "stdout",
     "output_type": "stream",
     "text": [
      "Best parameters: {'max_depth': 4, 'min_child_weight': 1, 'reg_lambda': 1.5}\n"
     ]
    }
   ],
   "source": [
    "print ('Best parameters: {}'.format(grid.best_params_))"
   ]
  },
  {
   "cell_type": "code",
   "execution_count": 85,
   "metadata": {},
   "outputs": [],
   "source": [
    "# Ignore error\n",
    "Y_pred_grid = grid.predict(X_val)"
   ]
  },
  {
   "cell_type": "code",
   "execution_count": 86,
   "metadata": {},
   "outputs": [
    {
     "data": {
      "text/plain": [
       "0.6390870185449358"
      ]
     },
     "execution_count": 86,
     "metadata": {},
     "output_type": "execute_result"
    }
   ],
   "source": [
    "f1_score(Y_val, Y_pred_grid)"
   ]
  },
  {
   "cell_type": "markdown",
   "metadata": {},
   "source": [
    "### PostTune"
   ]
  },
  {
   "cell_type": "code",
   "execution_count": 87,
   "metadata": {},
   "outputs": [],
   "source": [
    "# Optimal Parameters\n",
    "MAX_DEPTH = grid.best_params_['max_depth']\n",
    "MIN_CHILD_WEIGHT = grid.best_params_['min_child_weight']\n",
    "REG_LAMDBA = grid.best_params_['reg_lambda']"
   ]
  },
  {
   "cell_type": "code",
   "execution_count": 88,
   "metadata": {},
   "outputs": [],
   "source": [
    "clf_post_tune = XGBClassifier(max_depth= MAX_DEPTH , n_estimators= 500, \n",
    "                              min_child_weight= MIN_CHILD_WEIGHT, reg_lambda= REG_LAMDBA)"
   ]
  },
  {
   "cell_type": "code",
   "execution_count": 89,
   "metadata": {},
   "outputs": [
    {
     "name": "stdout",
     "output_type": "stream",
     "text": [
      "[17:39:05] WARNING: C:/Users/Administrator/workspace/xgboost-win64_release_1.5.1/src/learner.cc:1115: Starting in XGBoost 1.3.0, the default evaluation metric used with the objective 'binary:logistic' was changed from 'error' to 'logloss'. Explicitly set eval_metric if you'd like to restore the old behavior.\n",
      "Post_tune F1 Accuracy : 0.660056657223796\n",
      "Post_tune Precision Score: 0.8262411347517731\n",
      "Post_tune Recall Score: 0.5495283018867925\n"
     ]
    }
   ],
   "source": [
    "# Ignore error\n",
    "clf_post_tune.fit(X_res, Y_res)\n",
    "Y_pred = clf_post_tune.predict(X_val)\n",
    "\n",
    "print ('Post_tune F1 Accuracy : {}'.format(f1_score(Y_val,Y_pred)))\n",
    "print ('Post_tune Precision Score: {}'.format(precision_score(Y_val,Y_pred)))\n",
    "print ('Post_tune Recall Score: {}'.format(recall_score(Y_val,Y_pred)))"
   ]
  },
  {
   "cell_type": "code",
   "execution_count": null,
   "metadata": {},
   "outputs": [],
   "source": []
  },
  {
   "cell_type": "markdown",
   "metadata": {},
   "source": [
    "### Great! Almost there"
   ]
  },
  {
   "cell_type": "code",
   "execution_count": 90,
   "metadata": {},
   "outputs": [],
   "source": [
    "# Lets test on the real test data which we have held out for this moment"
   ]
  },
  {
   "cell_type": "code",
   "execution_count": 91,
   "metadata": {},
   "outputs": [
    {
     "data": {
      "text/html": [
       "<div>\n",
       "<style scoped>\n",
       "    .dataframe tbody tr th:only-of-type {\n",
       "        vertical-align: middle;\n",
       "    }\n",
       "\n",
       "    .dataframe tbody tr th {\n",
       "        vertical-align: top;\n",
       "    }\n",
       "\n",
       "    .dataframe thead th {\n",
       "        text-align: right;\n",
       "    }\n",
       "</style>\n",
       "<table border=\"1\" class=\"dataframe\">\n",
       "  <thead>\n",
       "    <tr style=\"text-align: right;\">\n",
       "      <th></th>\n",
       "      <th>Attr1</th>\n",
       "      <th>Attr2</th>\n",
       "      <th>Attr3</th>\n",
       "      <th>Attr4</th>\n",
       "      <th>Attr5</th>\n",
       "      <th>Attr6</th>\n",
       "      <th>Attr7</th>\n",
       "      <th>Attr8</th>\n",
       "      <th>Attr9</th>\n",
       "      <th>Attr10</th>\n",
       "      <th>...</th>\n",
       "      <th>Attr55</th>\n",
       "      <th>Attr56</th>\n",
       "      <th>Attr57</th>\n",
       "      <th>Attr58</th>\n",
       "      <th>Attr59</th>\n",
       "      <th>Attr60</th>\n",
       "      <th>Attr61</th>\n",
       "      <th>Attr62</th>\n",
       "      <th>Attr63</th>\n",
       "      <th>Attr64</th>\n",
       "    </tr>\n",
       "    <tr>\n",
       "      <th>ID</th>\n",
       "      <th></th>\n",
       "      <th></th>\n",
       "      <th></th>\n",
       "      <th></th>\n",
       "      <th></th>\n",
       "      <th></th>\n",
       "      <th></th>\n",
       "      <th></th>\n",
       "      <th></th>\n",
       "      <th></th>\n",
       "      <th></th>\n",
       "      <th></th>\n",
       "      <th></th>\n",
       "      <th></th>\n",
       "      <th></th>\n",
       "      <th></th>\n",
       "      <th></th>\n",
       "      <th></th>\n",
       "      <th></th>\n",
       "      <th></th>\n",
       "      <th></th>\n",
       "    </tr>\n",
       "  </thead>\n",
       "  <tbody>\n",
       "    <tr>\n",
       "      <th>36554</th>\n",
       "      <td>0.200550</td>\n",
       "      <td>0.37951</td>\n",
       "      <td>0.396410</td>\n",
       "      <td>2.04720</td>\n",
       "      <td>32.351</td>\n",
       "      <td>0.388250</td>\n",
       "      <td>0.249760</td>\n",
       "      <td>1.330500</td>\n",
       "      <td>1.13890</td>\n",
       "      <td>0.504940</td>\n",
       "      <td>...</td>\n",
       "      <td>348690.0000</td>\n",
       "      <td>0.121960</td>\n",
       "      <td>0.397180</td>\n",
       "      <td>0.87804</td>\n",
       "      <td>0.001924</td>\n",
       "      <td>8.4160</td>\n",
       "      <td>5.1372</td>\n",
       "      <td>82.658</td>\n",
       "      <td>4.4158</td>\n",
       "      <td>7.4277</td>\n",
       "    </tr>\n",
       "    <tr>\n",
       "      <th>36555</th>\n",
       "      <td>0.009020</td>\n",
       "      <td>0.63202</td>\n",
       "      <td>0.053735</td>\n",
       "      <td>1.12630</td>\n",
       "      <td>-37.842</td>\n",
       "      <td>0.000000</td>\n",
       "      <td>0.014434</td>\n",
       "      <td>0.582230</td>\n",
       "      <td>1.33320</td>\n",
       "      <td>0.367980</td>\n",
       "      <td>...</td>\n",
       "      <td>1.1263</td>\n",
       "      <td>0.180110</td>\n",
       "      <td>0.024512</td>\n",
       "      <td>0.84165</td>\n",
       "      <td>0.340940</td>\n",
       "      <td>9.9665</td>\n",
       "      <td>4.2382</td>\n",
       "      <td>116.500</td>\n",
       "      <td>3.1330</td>\n",
       "      <td>2.5603</td>\n",
       "    </tr>\n",
       "    <tr>\n",
       "      <th>36556</th>\n",
       "      <td>0.124080</td>\n",
       "      <td>0.83837</td>\n",
       "      <td>0.142040</td>\n",
       "      <td>1.16940</td>\n",
       "      <td>-91.883</td>\n",
       "      <td>0.000000</td>\n",
       "      <td>0.153280</td>\n",
       "      <td>0.192790</td>\n",
       "      <td>2.11560</td>\n",
       "      <td>0.161630</td>\n",
       "      <td>...</td>\n",
       "      <td>989.4100</td>\n",
       "      <td>0.079665</td>\n",
       "      <td>0.767680</td>\n",
       "      <td>0.92847</td>\n",
       "      <td>0.000000</td>\n",
       "      <td>3.3192</td>\n",
       "      <td>6.4994</td>\n",
       "      <td>144.630</td>\n",
       "      <td>2.5236</td>\n",
       "      <td>107.6700</td>\n",
       "    </tr>\n",
       "    <tr>\n",
       "      <th>36557</th>\n",
       "      <td>0.203930</td>\n",
       "      <td>0.56037</td>\n",
       "      <td>0.134950</td>\n",
       "      <td>1.24080</td>\n",
       "      <td>3.158</td>\n",
       "      <td>0.000000</td>\n",
       "      <td>0.242910</td>\n",
       "      <td>0.784520</td>\n",
       "      <td>2.27060</td>\n",
       "      <td>0.439630</td>\n",
       "      <td>...</td>\n",
       "      <td>711.8500</td>\n",
       "      <td>0.107700</td>\n",
       "      <td>0.463860</td>\n",
       "      <td>0.89419</td>\n",
       "      <td>0.000000</td>\n",
       "      <td>24.9790</td>\n",
       "      <td>10.7670</td>\n",
       "      <td>90.080</td>\n",
       "      <td>4.0519</td>\n",
       "      <td>7.4525</td>\n",
       "    </tr>\n",
       "    <tr>\n",
       "      <th>36558</th>\n",
       "      <td>-0.054623</td>\n",
       "      <td>0.92857</td>\n",
       "      <td>-0.026927</td>\n",
       "      <td>0.94263</td>\n",
       "      <td>-87.724</td>\n",
       "      <td>-0.054623</td>\n",
       "      <td>-0.054623</td>\n",
       "      <td>0.074796</td>\n",
       "      <td>0.92301</td>\n",
       "      <td>0.069453</td>\n",
       "      <td>...</td>\n",
       "      <td>-1693.2000</td>\n",
       "      <td>-0.083417</td>\n",
       "      <td>-0.786480</td>\n",
       "      <td>1.08340</td>\n",
       "      <td>6.611400</td>\n",
       "      <td>4.7055</td>\n",
       "      <td>3.1662</td>\n",
       "      <td>226.760</td>\n",
       "      <td>1.6096</td>\n",
       "      <td>1.3551</td>\n",
       "    </tr>\n",
       "  </tbody>\n",
       "</table>\n",
       "<p>5 rows × 64 columns</p>\n",
       "</div>"
      ],
      "text/plain": [
       "          Attr1    Attr2     Attr3    Attr4   Attr5     Attr6     Attr7  \\\n",
       "ID                                                                        \n",
       "36554  0.200550  0.37951  0.396410  2.04720  32.351  0.388250  0.249760   \n",
       "36555  0.009020  0.63202  0.053735  1.12630 -37.842  0.000000  0.014434   \n",
       "36556  0.124080  0.83837  0.142040  1.16940 -91.883  0.000000  0.153280   \n",
       "36557  0.203930  0.56037  0.134950  1.24080   3.158  0.000000  0.242910   \n",
       "36558 -0.054623  0.92857 -0.026927  0.94263 -87.724 -0.054623 -0.054623   \n",
       "\n",
       "          Attr8    Attr9    Attr10  ...       Attr55    Attr56    Attr57  \\\n",
       "ID                                  ...                                    \n",
       "36554  1.330500  1.13890  0.504940  ...  348690.0000  0.121960  0.397180   \n",
       "36555  0.582230  1.33320  0.367980  ...       1.1263  0.180110  0.024512   \n",
       "36556  0.192790  2.11560  0.161630  ...     989.4100  0.079665  0.767680   \n",
       "36557  0.784520  2.27060  0.439630  ...     711.8500  0.107700  0.463860   \n",
       "36558  0.074796  0.92301  0.069453  ...   -1693.2000 -0.083417 -0.786480   \n",
       "\n",
       "        Attr58    Attr59   Attr60   Attr61   Attr62  Attr63    Attr64  \n",
       "ID                                                                     \n",
       "36554  0.87804  0.001924   8.4160   5.1372   82.658  4.4158    7.4277  \n",
       "36555  0.84165  0.340940   9.9665   4.2382  116.500  3.1330    2.5603  \n",
       "36556  0.92847  0.000000   3.3192   6.4994  144.630  2.5236  107.6700  \n",
       "36557  0.89419  0.000000  24.9790  10.7670   90.080  4.0519    7.4525  \n",
       "36558  1.08340  6.611400   4.7055   3.1662  226.760  1.6096    1.3551  \n",
       "\n",
       "[5 rows x 64 columns]"
      ]
     },
     "execution_count": 91,
     "metadata": {},
     "output_type": "execute_result"
    }
   ],
   "source": [
    "X_test_df = pd.read_csv('test.csv')\n",
    "X_test_df.set_index('ID', inplace = True)\n",
    "X_test_df.head()"
   ]
  },
  {
   "cell_type": "code",
   "execution_count": 92,
   "metadata": {},
   "outputs": [
    {
     "data": {
      "text/plain": [
       "<AxesSubplot:>"
      ]
     },
     "execution_count": 92,
     "metadata": {},
     "output_type": "execute_result"
    },
    {
     "data": {
      "text/plain": [
       "<Figure size 1152x432 with 0 Axes>"
      ]
     },
     "metadata": {},
     "output_type": "display_data"
    },
    {
     "data": {
      "image/png": "[encoded data removed]",
      "text/plain": [
       "<Figure size 1800x720 with 2 Axes>"
      ]
     },
     "metadata": {
      "needs_background": "light"
     },
     "output_type": "display_data"
    }
   ],
   "source": [
    "# Plotting NA values\n",
    "plt.figure(figsize=(16,6))\n",
    "msno.matrix(X_test_df, labels = True, color=(0.20,0.15,0.45))"
   ]
  },
  {
   "cell_type": "markdown",
   "metadata": {},
   "source": [
    "#### Imputation"
   ]
  },
  {
   "cell_type": "code",
   "execution_count": 93,
   "metadata": {},
   "outputs": [
    {
     "data": {
      "text/plain": [
       "5850"
      ]
     },
     "execution_count": 93,
     "metadata": {},
     "output_type": "execute_result"
    }
   ],
   "source": [
    "X_test_df.isnull().sum().sum() #Checking total number of missing values"
   ]
  },
  {
   "cell_type": "code",
   "execution_count": 94,
   "metadata": {},
   "outputs": [],
   "source": [
    "X_test_df = X_test_df.replace({0:np.nan}) #Replacing 0 with NA values"
   ]
  },
  {
   "cell_type": "code",
   "execution_count": 95,
   "metadata": {},
   "outputs": [
    {
     "data": {
      "text/plain": [
       "14350"
      ]
     },
     "execution_count": 95,
     "metadata": {},
     "output_type": "execute_result"
    }
   ],
   "source": [
    "X_test_df.isnull().sum().sum() # This shows previous missing values and the new Zeros added"
   ]
  },
  {
   "cell_type": "code",
   "execution_count": 96,
   "metadata": {},
   "outputs": [],
   "source": [
    "X_test_df = X_test_df.fillna(X_df.median()) # Imputing Null values with train set Median"
   ]
  },
  {
   "cell_type": "code",
   "execution_count": 97,
   "metadata": {},
   "outputs": [
    {
     "data": {
      "text/plain": [
       "2391"
      ]
     },
     "execution_count": 97,
     "metadata": {},
     "output_type": "execute_result"
    }
   ],
   "source": [
    "X_test_df.isnull().sum().sum()"
   ]
  },
  {
   "cell_type": "code",
   "execution_count": 98,
   "metadata": {},
   "outputs": [],
   "source": [
    "# The values that are null are in the columns which we are going to drop to match the number dimensions \n",
    "# of the training set"
   ]
  },
  {
   "cell_type": "code",
   "execution_count": 99,
   "metadata": {},
   "outputs": [
    {
     "data": {
      "text/plain": [
       "<AxesSubplot:>"
      ]
     },
     "execution_count": 99,
     "metadata": {},
     "output_type": "execute_result"
    },
    {
     "data": {
      "text/plain": [
       "<Figure size 1152x432 with 0 Axes>"
      ]
     },
     "metadata": {},
     "output_type": "display_data"
    },
    {
     "data": {
      "image/png": "[encoded data removed]",
      "text/plain": [
       "<Figure size 1800x720 with 2 Axes>"
      ]
     },
     "metadata": {
      "needs_background": "light"
     },
     "output_type": "display_data"
    }
   ],
   "source": [
    "#Rechecking missing values after Imputation\n",
    "plt.figure(figsize=(16,6))\n",
    "msno.matrix(X_test_df, labels = True, color=(0.20,0.15,0.45))"
   ]
  },
  {
   "cell_type": "markdown",
   "metadata": {},
   "source": [
    "#### Dropping columns to bring test data in same dimension to train model. We will use the same cols_to_be_dropped list which has irrelevant columns"
   ]
  },
  {
   "cell_type": "code",
   "execution_count": 101,
   "metadata": {},
   "outputs": [
    {
     "name": "stdout",
     "output_type": "stream",
     "text": [
      "['Attr38', 'Attr10', 'Attr36', 'Attr9', 'Attr11', 'Attr24', 'Attr22', 'Attr64', 'Attr18', 'Attr48', 'Attr7', 'Attr35', 'Attr34', 'Attr14', 'Attr63', 'Attr33', 'Attr42', 'Attr58', 'Attr44', 'Attr20', 'Attr43', 'Attr13', 'Attr25', 'Attr8', 'Attr31', 'Attr17', 'Attr23', 'Attr19', 'Attr62', 'Attr16', 'Attr30']\n"
     ]
    }
   ],
   "source": [
    "print (cols_to_be_dropped)"
   ]
  },
  {
   "cell_type": "code",
   "execution_count": 102,
   "metadata": {},
   "outputs": [],
   "source": [
    "X_test_df.drop(cols_to_be_dropped, axis = 1 , inplace = True)"
   ]
  },
  {
   "cell_type": "code",
   "execution_count": 103,
   "metadata": {},
   "outputs": [
    {
     "data": {
      "text/plain": [
       "0"
      ]
     },
     "execution_count": 103,
     "metadata": {},
     "output_type": "execute_result"
    }
   ],
   "source": [
    "X_test_df.isnull().sum().sum()"
   ]
  },
  {
   "cell_type": "code",
   "execution_count": 104,
   "metadata": {},
   "outputs": [],
   "source": [
    "X_test = X_test_df.values"
   ]
  },
  {
   "cell_type": "code",
   "execution_count": 105,
   "metadata": {},
   "outputs": [
    {
     "name": "stdout",
     "output_type": "stream",
     "text": [
      "(6451, 33)\n"
     ]
    }
   ],
   "source": [
    "print (X_test.shape)"
   ]
  },
  {
   "cell_type": "code",
   "execution_count": 107,
   "metadata": {},
   "outputs": [],
   "source": [
    "\n",
    "Y_test_pred = clf_post_tune.predict(X_test)"
   ]
  },
  {
   "cell_type": "code",
   "execution_count": 118,
   "metadata": {},
   "outputs": [
    {
     "data": {
      "text/plain": [
       "array([0, 0, 0, ..., 0, 1, 0], dtype=int64)"
      ]
     },
     "execution_count": 118,
     "metadata": {},
     "output_type": "execute_result"
    }
   ],
   "source": [
    "Y_test_pred"
   ]
  },
  {
   "cell_type": "markdown",
   "metadata": {},
   "source": [
    "#### Writing result to CSV file"
   ]
  },
  {
   "cell_type": "code",
   "execution_count": 108,
   "metadata": {},
   "outputs": [],
   "source": [
    "test_result = pd.DataFrame(Y_test_pred, index = X_test_df.index, columns = ['prediction'])"
   ]
  },
  {
   "cell_type": "code",
   "execution_count": 112,
   "metadata": {},
   "outputs": [
    {
     "data": {
      "text/html": [
       "<div>\n",
       "<style scoped>\n",
       "    .dataframe tbody tr th:only-of-type {\n",
       "        vertical-align: middle;\n",
       "    }\n",
       "\n",
       "    .dataframe tbody tr th {\n",
       "        vertical-align: top;\n",
       "    }\n",
       "\n",
       "    .dataframe thead th {\n",
       "        text-align: right;\n",
       "    }\n",
       "</style>\n",
       "<table border=\"1\" class=\"dataframe\">\n",
       "  <thead>\n",
       "    <tr style=\"text-align: right;\">\n",
       "      <th></th>\n",
       "      <th>prediction</th>\n",
       "    </tr>\n",
       "    <tr>\n",
       "      <th>ID</th>\n",
       "      <th></th>\n",
       "    </tr>\n",
       "  </thead>\n",
       "  <tbody>\n",
       "    <tr>\n",
       "      <th>36554</th>\n",
       "      <td>0</td>\n",
       "    </tr>\n",
       "    <tr>\n",
       "      <th>36555</th>\n",
       "      <td>0</td>\n",
       "    </tr>\n",
       "    <tr>\n",
       "      <th>36556</th>\n",
       "      <td>0</td>\n",
       "    </tr>\n",
       "    <tr>\n",
       "      <th>36557</th>\n",
       "      <td>0</td>\n",
       "    </tr>\n",
       "    <tr>\n",
       "      <th>36558</th>\n",
       "      <td>0</td>\n",
       "    </tr>\n",
       "  </tbody>\n",
       "</table>\n",
       "</div>"
      ],
      "text/plain": [
       "       prediction\n",
       "ID               \n",
       "36554           0\n",
       "36555           0\n",
       "36556           0\n",
       "36557           0\n",
       "36558           0"
      ]
     },
     "execution_count": 112,
     "metadata": {},
     "output_type": "execute_result"
    }
   ],
   "source": [
    "test_result.head(5)"
   ]
  },
  {
   "cell_type": "code",
   "execution_count": 109,
   "metadata": {},
   "outputs": [],
   "source": [
    "test_result.to_csv('test_Result_XGB.csv', sep=',')"
   ]
  },
  {
   "cell_type": "code",
   "execution_count": 110,
   "metadata": {},
   "outputs": [],
   "source": [
    "# f1 accuracy on test set was 64.71%\n",
    "# Precision Score was 85.94%\n",
    "# Recall Score was 51.89%"
   ]
  },
  {
   "cell_type": "code",
   "execution_count": null,
   "metadata": {},
   "outputs": [],
   "source": []
  }
 ],
 "metadata": {
  "interpreter": {
   "hash": "6cc6f1ff2b5b3e7d30373767f06362abe3160939d7e590e7f082113e6464908a"
  },
  "kernelspec": {
   "display_name": "Python 2",
   "language": "python",
   "name": "python3"
  },
  "language_info": {
   "codemirror_mode": {
    "name": "ipython",
    "version": 3
   },
   "file_extension": ".py",
   "mimetype": "text/x-python",
   "name": "python",
   "nbconvert_exporter": "python",
   "pygments_lexer": "ipython3",
   "version": "3.9.7"
  }
 },
 "nbformat": 4,
 "nbformat_minor": 2
}
