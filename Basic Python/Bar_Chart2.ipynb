{
 "cells": [
  {
   "cell_type": "code",
   "execution_count": 11,
   "source": [
    "'''\r\n",
    "Bar Chart\r\n",
    "\r\n",
    "\r\n",
    "'''\r\n",
    "import numpy as np\r\n",
    "import pandas as pd \r\n",
    "import matplotlib.pyplot as plt\r\n",
    "\r\n",
    "score= [90,77,67,80,96]                          # must be course\r\n",
    "course = [\"PHP\",\"Flutter\",\",Java\",\"C#\",\"Notedjs\"]\r\n",
    "c = [\"Red\",\"Yellow\",\"blue\",\"orange\",\"cyan\"]\r\n",
    "\r\n",
    "#plt.bar (course,score,color=c,width=0.5,edgecolor=\"black\",linewidth=1)\r\n",
    "plt.barh (score,course,color=c,edgecolor=\"black\",linewidth=2)\r\n",
    "plt.xlabel (\"Course\")\r\n",
    "plt.ylabel (\"Score\")\r\n",
    "plt.title (\"Score Final\")\r\n",
    "plt.show()\r\n"
   ],
   "outputs": [
    {
     "output_type": "display_data",
     "data": {
      "image/png": "[encoded data removed]",
      "text/plain": [
       "<Figure size 432x288 with 1 Axes>"
      ]
     },
     "metadata": {
      "needs_background": "light"
     }
    }
   ],
   "metadata": {}
  }
 ],
 "metadata": {
  "orig_nbformat": 4,
  "language_info": {
   "name": "python",
   "version": "3.9.7",
   "mimetype": "text/x-python",
   "codemirror_mode": {
    "name": "ipython",
    "version": 3
   },
   "pygments_lexer": "ipython3",
   "nbconvert_exporter": "python",
   "file_extension": ".py"
  },
  "kernelspec": {
   "name": "python3",
   "display_name": "Python 3.9.7 64-bit"
  },
  "interpreter": {
   "hash": "6cc6f1ff2b5b3e7d30373767f06362abe3160939d7e590e7f082113e6464908a"
  }
 },
 "nbformat": 4,
 "nbformat_minor": 2
}