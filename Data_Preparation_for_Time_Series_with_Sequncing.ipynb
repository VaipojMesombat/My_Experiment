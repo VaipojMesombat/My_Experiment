{
  "cells": [
    {
      "cell_type": "markdown",
      "metadata": {
        "id": "8IcJZsjEw7Dn"
      },
      "source": [
        "<p> Souuce: https://www.youtube.com/watch?v=i4vGKgbtf1U </p>"
      ]
    },
    {
      "cell_type": "code",
      "execution_count": null,
      "metadata": {
        "id": "Nn3JKztMw7D3"
      },
      "outputs": [],
      "source": [
        "import pandas as pd\n",
        "import numpy as np \n",
        "import matplotlib as mpl \n",
        "import matplotlib.pyplot as plt \n",
        "from keras.preprocessing.sequence import TimeseriesGenerator\n",
        "import tensorflow as tf\n",
        "from sklearn.model_selection import train_test_split\n",
        "from IPython.display import Image,display"
      ]
    },
    {
      "cell_type": "code",
      "execution_count": null,
      "metadata": {
        "id": "D474Nv9xw7D-"
      },
      "outputs": [],
      "source": [
        "mpl.rcParams ['figure.figsize'] = (10,8)\n",
        "mpl.rcParams ['axes.grid'] = False"
      ]
    },
    {
      "cell_type": "code",
      "source": [
        "df = pd.read_csv(\"https://archive.ics.uci.edu/ml/machine-learning-databases/00374/energydata_complete.csv\")\n",
        "df.to_csv(\"energydata_complete.csv\")"
      ],
      "metadata": {
        "id": "svRrNz5Gxn_l"
      },
      "execution_count": null,
      "outputs": []
    },
    {
      "cell_type": "markdown",
      "source": [
        "<b>Attribute Information:</b>\n",
        "\n",
        "<li>date time year-month-day hour:minute:second</li>\n",
        "<li>Appliances, energy use in Wh </li>\n",
        "<li>lights, energy use of light fixtures in the house in Wh </li>\n",
        "<li>T1, Temperature in kitchen area, in Celsius </li>\n",
        "<li>RH_1, Humidity in kitchen area, in %</li>\n",
        "<li>T2, Temperature in living room area, in Celsius</li>\n",
        "<li>RH_2, Humidity in living room area, in %</li>\n",
        "<li>T3, Temperature in laundry room area</li>\n",
        "<li>RH_3, Humidity in laundry room area, in %</li>\n",
        "<li>T4, Temperature in office room, in Celsius</li>\n",
        "<li>RH_4, Humidity in office room, in %</li>\n",
        "<li>T5, Temperature in bathroom, in Celsius</li>\n",
        "<li>RH_5, Humidity in bathroom, in %</li>\n",
        "<li>T6, Temperature outside the building (north side), in Celsius</li>\n",
        "<li>RH_6, Humidity outside the building (north side), in %</li>\n",
        "<li>T7, Temperature in ironing room , in Celsius</li>\n",
        "<li>RH_7, Humidity in ironing room, in %</li>\n",
        "<li>T8, Temperature in teenager room 2, in Celsius</li>\n",
        "<li>RH_8, Humidity in teenager room 2, in %</li>\n",
        "<li>T9, Temperature in parents room, in Celsius</li>\n",
        "<li>RH_9, Humidity in parents room, in %</li>\n",
        "<li>To, Temperature outside (from Chievres weather station), in Celsius</li>\n",
        "<li>Pressure (from Chievres weather station), in mm Hg</li>\n",
        "<li>RH_out, Humidity outside (from Chievres weather station), in %</li>\n",
        "<li>Wind speed (from Chievres weather station), in m/s</li>\n",
        "<li>Visibility (from Chievres weather station), in km</li>\n",
        "<li>Tdewpoint (from Chievres weather station), Â°C</li>\n",
        "<li>rv1, Random variable 1, nondimensional</li>\n",
        "<li>rv2, Random variable 2, nondimensional</li>"
      ],
      "metadata": {
        "id": "trUsDkhhuNSk"
      }
    },
    {
      "cell_type": "code",
      "source": [
        "df.head(5)"
      ],
      "metadata": {
        "id": "KBrJDuIByqZD",
        "colab": {
          "base_uri": "https://localhost:8080/",
          "height": 444
        },
        "outputId": "14ef28ea-409f-4288-9f04-4af9a6028169"
      },
      "execution_count": null,
      "outputs": [
        {
          "output_type": "execute_result",
          "data": {
            "text/html": [
              "\n",
              "  <div id=\"df-8746c2bc-94d8-4754-bb9f-30a1aae07bb0\">\n",
              "    <div class=\"colab-df-container\">\n",
              "      <div>\n",
              "<style scoped>\n",
              "    .dataframe tbody tr th:only-of-type {\n",
              "        vertical-align: middle;\n",
              "    }\n",
              "\n",
              "    .dataframe tbody tr th {\n",
              "        vertical-align: top;\n",
              "    }\n",
              "\n",
              "    .dataframe thead th {\n",
              "        text-align: right;\n",
              "    }\n",
              "</style>\n",
              "<table border=\"1\" class=\"dataframe\">\n",
              "  <thead>\n",
              "    <tr style=\"text-align: right;\">\n",
              "      <th></th>\n",
              "      <th>date</th>\n",
              "      <th>Appliances</th>\n",
              "      <th>lights</th>\n",
              "      <th>T1</th>\n",
              "      <th>RH_1</th>\n",
              "      <th>T2</th>\n",
              "      <th>RH_2</th>\n",
              "      <th>T3</th>\n",
              "      <th>RH_3</th>\n",
              "      <th>T4</th>\n",
              "      <th>RH_4</th>\n",
              "      <th>T5</th>\n",
              "      <th>RH_5</th>\n",
              "      <th>T6</th>\n",
              "      <th>RH_6</th>\n",
              "      <th>T7</th>\n",
              "      <th>RH_7</th>\n",
              "      <th>T8</th>\n",
              "      <th>RH_8</th>\n",
              "      <th>T9</th>\n",
              "      <th>RH_9</th>\n",
              "      <th>T_out</th>\n",
              "      <th>Press_mm_hg</th>\n",
              "      <th>RH_out</th>\n",
              "      <th>Windspeed</th>\n",
              "      <th>Visibility</th>\n",
              "      <th>Tdewpoint</th>\n",
              "      <th>rv1</th>\n",
              "      <th>rv2</th>\n",
              "    </tr>\n",
              "  </thead>\n",
              "  <tbody>\n",
              "    <tr>\n",
              "      <th>0</th>\n",
              "      <td>2016-01-11 17:00:00</td>\n",
              "      <td>60</td>\n",
              "      <td>30</td>\n",
              "      <td>19.89</td>\n",
              "      <td>47.596667</td>\n",
              "      <td>19.2</td>\n",
              "      <td>44.790000</td>\n",
              "      <td>19.79</td>\n",
              "      <td>44.730000</td>\n",
              "      <td>19.000000</td>\n",
              "      <td>45.566667</td>\n",
              "      <td>17.166667</td>\n",
              "      <td>55.20</td>\n",
              "      <td>7.026667</td>\n",
              "      <td>84.256667</td>\n",
              "      <td>17.200000</td>\n",
              "      <td>41.626667</td>\n",
              "      <td>18.2</td>\n",
              "      <td>48.900000</td>\n",
              "      <td>17.033333</td>\n",
              "      <td>45.53</td>\n",
              "      <td>6.600000</td>\n",
              "      <td>733.5</td>\n",
              "      <td>92.0</td>\n",
              "      <td>7.000000</td>\n",
              "      <td>63.000000</td>\n",
              "      <td>5.3</td>\n",
              "      <td>13.275433</td>\n",
              "      <td>13.275433</td>\n",
              "    </tr>\n",
              "    <tr>\n",
              "      <th>1</th>\n",
              "      <td>2016-01-11 17:10:00</td>\n",
              "      <td>60</td>\n",
              "      <td>30</td>\n",
              "      <td>19.89</td>\n",
              "      <td>46.693333</td>\n",
              "      <td>19.2</td>\n",
              "      <td>44.722500</td>\n",
              "      <td>19.79</td>\n",
              "      <td>44.790000</td>\n",
              "      <td>19.000000</td>\n",
              "      <td>45.992500</td>\n",
              "      <td>17.166667</td>\n",
              "      <td>55.20</td>\n",
              "      <td>6.833333</td>\n",
              "      <td>84.063333</td>\n",
              "      <td>17.200000</td>\n",
              "      <td>41.560000</td>\n",
              "      <td>18.2</td>\n",
              "      <td>48.863333</td>\n",
              "      <td>17.066667</td>\n",
              "      <td>45.56</td>\n",
              "      <td>6.483333</td>\n",
              "      <td>733.6</td>\n",
              "      <td>92.0</td>\n",
              "      <td>6.666667</td>\n",
              "      <td>59.166667</td>\n",
              "      <td>5.2</td>\n",
              "      <td>18.606195</td>\n",
              "      <td>18.606195</td>\n",
              "    </tr>\n",
              "    <tr>\n",
              "      <th>2</th>\n",
              "      <td>2016-01-11 17:20:00</td>\n",
              "      <td>50</td>\n",
              "      <td>30</td>\n",
              "      <td>19.89</td>\n",
              "      <td>46.300000</td>\n",
              "      <td>19.2</td>\n",
              "      <td>44.626667</td>\n",
              "      <td>19.79</td>\n",
              "      <td>44.933333</td>\n",
              "      <td>18.926667</td>\n",
              "      <td>45.890000</td>\n",
              "      <td>17.166667</td>\n",
              "      <td>55.09</td>\n",
              "      <td>6.560000</td>\n",
              "      <td>83.156667</td>\n",
              "      <td>17.200000</td>\n",
              "      <td>41.433333</td>\n",
              "      <td>18.2</td>\n",
              "      <td>48.730000</td>\n",
              "      <td>17.000000</td>\n",
              "      <td>45.50</td>\n",
              "      <td>6.366667</td>\n",
              "      <td>733.7</td>\n",
              "      <td>92.0</td>\n",
              "      <td>6.333333</td>\n",
              "      <td>55.333333</td>\n",
              "      <td>5.1</td>\n",
              "      <td>28.642668</td>\n",
              "      <td>28.642668</td>\n",
              "    </tr>\n",
              "    <tr>\n",
              "      <th>3</th>\n",
              "      <td>2016-01-11 17:30:00</td>\n",
              "      <td>50</td>\n",
              "      <td>40</td>\n",
              "      <td>19.89</td>\n",
              "      <td>46.066667</td>\n",
              "      <td>19.2</td>\n",
              "      <td>44.590000</td>\n",
              "      <td>19.79</td>\n",
              "      <td>45.000000</td>\n",
              "      <td>18.890000</td>\n",
              "      <td>45.723333</td>\n",
              "      <td>17.166667</td>\n",
              "      <td>55.09</td>\n",
              "      <td>6.433333</td>\n",
              "      <td>83.423333</td>\n",
              "      <td>17.133333</td>\n",
              "      <td>41.290000</td>\n",
              "      <td>18.1</td>\n",
              "      <td>48.590000</td>\n",
              "      <td>17.000000</td>\n",
              "      <td>45.40</td>\n",
              "      <td>6.250000</td>\n",
              "      <td>733.8</td>\n",
              "      <td>92.0</td>\n",
              "      <td>6.000000</td>\n",
              "      <td>51.500000</td>\n",
              "      <td>5.0</td>\n",
              "      <td>45.410389</td>\n",
              "      <td>45.410389</td>\n",
              "    </tr>\n",
              "    <tr>\n",
              "      <th>4</th>\n",
              "      <td>2016-01-11 17:40:00</td>\n",
              "      <td>60</td>\n",
              "      <td>40</td>\n",
              "      <td>19.89</td>\n",
              "      <td>46.333333</td>\n",
              "      <td>19.2</td>\n",
              "      <td>44.530000</td>\n",
              "      <td>19.79</td>\n",
              "      <td>45.000000</td>\n",
              "      <td>18.890000</td>\n",
              "      <td>45.530000</td>\n",
              "      <td>17.200000</td>\n",
              "      <td>55.09</td>\n",
              "      <td>6.366667</td>\n",
              "      <td>84.893333</td>\n",
              "      <td>17.200000</td>\n",
              "      <td>41.230000</td>\n",
              "      <td>18.1</td>\n",
              "      <td>48.590000</td>\n",
              "      <td>17.000000</td>\n",
              "      <td>45.40</td>\n",
              "      <td>6.133333</td>\n",
              "      <td>733.9</td>\n",
              "      <td>92.0</td>\n",
              "      <td>5.666667</td>\n",
              "      <td>47.666667</td>\n",
              "      <td>4.9</td>\n",
              "      <td>10.084097</td>\n",
              "      <td>10.084097</td>\n",
              "    </tr>\n",
              "  </tbody>\n",
              "</table>\n",
              "</div>\n",
              "      <button class=\"colab-df-convert\" onclick=\"convertToInteractive('df-8746c2bc-94d8-4754-bb9f-30a1aae07bb0')\"\n",
              "              title=\"Convert this dataframe to an interactive table.\"\n",
              "              style=\"display:none;\">\n",
              "        \n",
              "  <svg xmlns=\"http://www.w3.org/2000/svg\" height=\"24px\"viewBox=\"0 0 24 24\"\n",
              "       width=\"24px\">\n",
              "    <path d=\"M0 0h24v24H0V0z\" fill=\"none\"/>\n",
              "    <path d=\"M18.56 5.44l.94 2.06.94-2.06 2.06-.94-2.06-.94-.94-2.06-.94 2.06-2.06.94zm-11 1L8.5 8.5l.94-2.06 2.06-.94-2.06-.94L8.5 2.5l-.94 2.06-2.06.94zm10 10l.94 2.06.94-2.06 2.06-.94-2.06-.94-.94-2.06-.94 2.06-2.06.94z\"/><path d=\"M17.41 7.96l-1.37-1.37c-.4-.4-.92-.59-1.43-.59-.52 0-1.04.2-1.43.59L10.3 9.45l-7.72 7.72c-.78.78-.78 2.05 0 2.83L4 21.41c.39.39.9.59 1.41.59.51 0 1.02-.2 1.41-.59l7.78-7.78 2.81-2.81c.8-.78.8-2.07 0-2.86zM5.41 20L4 18.59l7.72-7.72 1.47 1.35L5.41 20z\"/>\n",
              "  </svg>\n",
              "      </button>\n",
              "      \n",
              "  <style>\n",
              "    .colab-df-container {\n",
              "      display:flex;\n",
              "      flex-wrap:wrap;\n",
              "      gap: 12px;\n",
              "    }\n",
              "\n",
              "    .colab-df-convert {\n",
              "      background-color: #E8F0FE;\n",
              "      border: none;\n",
              "      border-radius: 50%;\n",
              "      cursor: pointer;\n",
              "      display: none;\n",
              "      fill: #1967D2;\n",
              "      height: 32px;\n",
              "      padding: 0 0 0 0;\n",
              "      width: 32px;\n",
              "    }\n",
              "\n",
              "    .colab-df-convert:hover {\n",
              "      background-color: #E2EBFA;\n",
              "      box-shadow: 0px 1px 2px rgba(60, 64, 67, 0.3), 0px 1px 3px 1px rgba(60, 64, 67, 0.15);\n",
              "      fill: #174EA6;\n",
              "    }\n",
              "\n",
              "    [theme=dark] .colab-df-convert {\n",
              "      background-color: #3B4455;\n",
              "      fill: #D2E3FC;\n",
              "    }\n",
              "\n",
              "    [theme=dark] .colab-df-convert:hover {\n",
              "      background-color: #434B5C;\n",
              "      box-shadow: 0px 1px 3px 1px rgba(0, 0, 0, 0.15);\n",
              "      filter: drop-shadow(0px 1px 2px rgba(0, 0, 0, 0.3));\n",
              "      fill: #FFFFFF;\n",
              "    }\n",
              "  </style>\n",
              "\n",
              "      <script>\n",
              "        const buttonEl =\n",
              "          document.querySelector('#df-8746c2bc-94d8-4754-bb9f-30a1aae07bb0 button.colab-df-convert');\n",
              "        buttonEl.style.display =\n",
              "          google.colab.kernel.accessAllowed ? 'block' : 'none';\n",
              "\n",
              "        async function convertToInteractive(key) {\n",
              "          const element = document.querySelector('#df-8746c2bc-94d8-4754-bb9f-30a1aae07bb0');\n",
              "          const dataTable =\n",
              "            await google.colab.kernel.invokeFunction('convertToInteractive',\n",
              "                                                     [key], {});\n",
              "          if (!dataTable) return;\n",
              "\n",
              "          const docLinkHtml = 'Like what you see? Visit the ' +\n",
              "            '<a target=\"_blank\" href=https://colab.research.google.com/notebooks/data_table.ipynb>data table notebook</a>'\n",
              "            + ' to learn more about interactive tables.';\n",
              "          element.innerHTML = '';\n",
              "          dataTable['output_type'] = 'display_data';\n",
              "          await google.colab.output.renderOutput(dataTable, element);\n",
              "          const docLink = document.createElement('div');\n",
              "          docLink.innerHTML = docLinkHtml;\n",
              "          element.appendChild(docLink);\n",
              "        }\n",
              "      </script>\n",
              "    </div>\n",
              "  </div>\n",
              "  "
            ],
            "text/plain": [
              "                  date  Appliances  lights  ...  Tdewpoint        rv1        rv2\n",
              "0  2016-01-11 17:00:00          60      30  ...        5.3  13.275433  13.275433\n",
              "1  2016-01-11 17:10:00          60      30  ...        5.2  18.606195  18.606195\n",
              "2  2016-01-11 17:20:00          50      30  ...        5.1  28.642668  28.642668\n",
              "3  2016-01-11 17:30:00          50      40  ...        5.0  45.410389  45.410389\n",
              "4  2016-01-11 17:40:00          60      40  ...        4.9  10.084097  10.084097\n",
              "\n",
              "[5 rows x 29 columns]"
            ]
          },
          "metadata": {},
          "execution_count": 4
        }
      ]
    },
    {
      "cell_type": "code",
      "source": [
        "df.describe()\n"
      ],
      "metadata": {
        "id": "2LHcUOWmzdFo",
        "colab": {
          "base_uri": "https://localhost:8080/",
          "height": 364
        },
        "outputId": "a685889f-a153-422d-a0a2-0969c7251140"
      },
      "execution_count": null,
      "outputs": [
        {
          "output_type": "execute_result",
          "data": {
            "text/html": [
              "\n",
              "  <div id=\"df-0023214c-1b99-47f6-acc7-5345765aa123\">\n",
              "    <div class=\"colab-df-container\">\n",
              "      <div>\n",
              "<style scoped>\n",
              "    .dataframe tbody tr th:only-of-type {\n",
              "        vertical-align: middle;\n",
              "    }\n",
              "\n",
              "    .dataframe tbody tr th {\n",
              "        vertical-align: top;\n",
              "    }\n",
              "\n",
              "    .dataframe thead th {\n",
              "        text-align: right;\n",
              "    }\n",
              "</style>\n",
              "<table border=\"1\" class=\"dataframe\">\n",
              "  <thead>\n",
              "    <tr style=\"text-align: right;\">\n",
              "      <th></th>\n",
              "      <th>Appliances</th>\n",
              "      <th>lights</th>\n",
              "      <th>T1</th>\n",
              "      <th>RH_1</th>\n",
              "      <th>T2</th>\n",
              "      <th>RH_2</th>\n",
              "      <th>T3</th>\n",
              "      <th>RH_3</th>\n",
              "      <th>T4</th>\n",
              "      <th>RH_4</th>\n",
              "      <th>T5</th>\n",
              "      <th>RH_5</th>\n",
              "      <th>T6</th>\n",
              "      <th>RH_6</th>\n",
              "      <th>T7</th>\n",
              "      <th>RH_7</th>\n",
              "      <th>T8</th>\n",
              "      <th>RH_8</th>\n",
              "      <th>T9</th>\n",
              "      <th>RH_9</th>\n",
              "      <th>T_out</th>\n",
              "      <th>Press_mm_hg</th>\n",
              "      <th>RH_out</th>\n",
              "      <th>Windspeed</th>\n",
              "      <th>Visibility</th>\n",
              "      <th>Tdewpoint</th>\n",
              "      <th>rv1</th>\n",
              "      <th>rv2</th>\n",
              "    </tr>\n",
              "  </thead>\n",
              "  <tbody>\n",
              "    <tr>\n",
              "      <th>count</th>\n",
              "      <td>19735.000000</td>\n",
              "      <td>19735.000000</td>\n",
              "      <td>19735.000000</td>\n",
              "      <td>19735.000000</td>\n",
              "      <td>19735.000000</td>\n",
              "      <td>19735.000000</td>\n",
              "      <td>19735.000000</td>\n",
              "      <td>19735.000000</td>\n",
              "      <td>19735.000000</td>\n",
              "      <td>19735.000000</td>\n",
              "      <td>19735.000000</td>\n",
              "      <td>19735.000000</td>\n",
              "      <td>19735.000000</td>\n",
              "      <td>19735.000000</td>\n",
              "      <td>19735.000000</td>\n",
              "      <td>19735.000000</td>\n",
              "      <td>19735.000000</td>\n",
              "      <td>19735.000000</td>\n",
              "      <td>19735.000000</td>\n",
              "      <td>19735.000000</td>\n",
              "      <td>19735.000000</td>\n",
              "      <td>19735.000000</td>\n",
              "      <td>19735.000000</td>\n",
              "      <td>19735.000000</td>\n",
              "      <td>19735.000000</td>\n",
              "      <td>19735.000000</td>\n",
              "      <td>19735.000000</td>\n",
              "      <td>19735.000000</td>\n",
              "    </tr>\n",
              "    <tr>\n",
              "      <th>mean</th>\n",
              "      <td>97.694958</td>\n",
              "      <td>3.801875</td>\n",
              "      <td>21.686571</td>\n",
              "      <td>40.259739</td>\n",
              "      <td>20.341219</td>\n",
              "      <td>40.420420</td>\n",
              "      <td>22.267611</td>\n",
              "      <td>39.242500</td>\n",
              "      <td>20.855335</td>\n",
              "      <td>39.026904</td>\n",
              "      <td>19.592106</td>\n",
              "      <td>50.949283</td>\n",
              "      <td>7.910939</td>\n",
              "      <td>54.609083</td>\n",
              "      <td>20.267106</td>\n",
              "      <td>35.388200</td>\n",
              "      <td>22.029107</td>\n",
              "      <td>42.936165</td>\n",
              "      <td>19.485828</td>\n",
              "      <td>41.552401</td>\n",
              "      <td>7.411665</td>\n",
              "      <td>755.522602</td>\n",
              "      <td>79.750418</td>\n",
              "      <td>4.039752</td>\n",
              "      <td>38.330834</td>\n",
              "      <td>3.760707</td>\n",
              "      <td>24.988033</td>\n",
              "      <td>24.988033</td>\n",
              "    </tr>\n",
              "    <tr>\n",
              "      <th>std</th>\n",
              "      <td>102.524891</td>\n",
              "      <td>7.935988</td>\n",
              "      <td>1.606066</td>\n",
              "      <td>3.979299</td>\n",
              "      <td>2.192974</td>\n",
              "      <td>4.069813</td>\n",
              "      <td>2.006111</td>\n",
              "      <td>3.254576</td>\n",
              "      <td>2.042884</td>\n",
              "      <td>4.341321</td>\n",
              "      <td>1.844623</td>\n",
              "      <td>9.022034</td>\n",
              "      <td>6.090347</td>\n",
              "      <td>31.149806</td>\n",
              "      <td>2.109993</td>\n",
              "      <td>5.114208</td>\n",
              "      <td>1.956162</td>\n",
              "      <td>5.224361</td>\n",
              "      <td>2.014712</td>\n",
              "      <td>4.151497</td>\n",
              "      <td>5.317409</td>\n",
              "      <td>7.399441</td>\n",
              "      <td>14.901088</td>\n",
              "      <td>2.451221</td>\n",
              "      <td>11.794719</td>\n",
              "      <td>4.194648</td>\n",
              "      <td>14.496634</td>\n",
              "      <td>14.496634</td>\n",
              "    </tr>\n",
              "    <tr>\n",
              "      <th>min</th>\n",
              "      <td>10.000000</td>\n",
              "      <td>0.000000</td>\n",
              "      <td>16.790000</td>\n",
              "      <td>27.023333</td>\n",
              "      <td>16.100000</td>\n",
              "      <td>20.463333</td>\n",
              "      <td>17.200000</td>\n",
              "      <td>28.766667</td>\n",
              "      <td>15.100000</td>\n",
              "      <td>27.660000</td>\n",
              "      <td>15.330000</td>\n",
              "      <td>29.815000</td>\n",
              "      <td>-6.065000</td>\n",
              "      <td>1.000000</td>\n",
              "      <td>15.390000</td>\n",
              "      <td>23.200000</td>\n",
              "      <td>16.306667</td>\n",
              "      <td>29.600000</td>\n",
              "      <td>14.890000</td>\n",
              "      <td>29.166667</td>\n",
              "      <td>-5.000000</td>\n",
              "      <td>729.300000</td>\n",
              "      <td>24.000000</td>\n",
              "      <td>0.000000</td>\n",
              "      <td>1.000000</td>\n",
              "      <td>-6.600000</td>\n",
              "      <td>0.005322</td>\n",
              "      <td>0.005322</td>\n",
              "    </tr>\n",
              "    <tr>\n",
              "      <th>25%</th>\n",
              "      <td>50.000000</td>\n",
              "      <td>0.000000</td>\n",
              "      <td>20.760000</td>\n",
              "      <td>37.333333</td>\n",
              "      <td>18.790000</td>\n",
              "      <td>37.900000</td>\n",
              "      <td>20.790000</td>\n",
              "      <td>36.900000</td>\n",
              "      <td>19.530000</td>\n",
              "      <td>35.530000</td>\n",
              "      <td>18.277500</td>\n",
              "      <td>45.400000</td>\n",
              "      <td>3.626667</td>\n",
              "      <td>30.025000</td>\n",
              "      <td>18.700000</td>\n",
              "      <td>31.500000</td>\n",
              "      <td>20.790000</td>\n",
              "      <td>39.066667</td>\n",
              "      <td>18.000000</td>\n",
              "      <td>38.500000</td>\n",
              "      <td>3.666667</td>\n",
              "      <td>750.933333</td>\n",
              "      <td>70.333333</td>\n",
              "      <td>2.000000</td>\n",
              "      <td>29.000000</td>\n",
              "      <td>0.900000</td>\n",
              "      <td>12.497889</td>\n",
              "      <td>12.497889</td>\n",
              "    </tr>\n",
              "    <tr>\n",
              "      <th>50%</th>\n",
              "      <td>60.000000</td>\n",
              "      <td>0.000000</td>\n",
              "      <td>21.600000</td>\n",
              "      <td>39.656667</td>\n",
              "      <td>20.000000</td>\n",
              "      <td>40.500000</td>\n",
              "      <td>22.100000</td>\n",
              "      <td>38.530000</td>\n",
              "      <td>20.666667</td>\n",
              "      <td>38.400000</td>\n",
              "      <td>19.390000</td>\n",
              "      <td>49.090000</td>\n",
              "      <td>7.300000</td>\n",
              "      <td>55.290000</td>\n",
              "      <td>20.033333</td>\n",
              "      <td>34.863333</td>\n",
              "      <td>22.100000</td>\n",
              "      <td>42.375000</td>\n",
              "      <td>19.390000</td>\n",
              "      <td>40.900000</td>\n",
              "      <td>6.916667</td>\n",
              "      <td>756.100000</td>\n",
              "      <td>83.666667</td>\n",
              "      <td>3.666667</td>\n",
              "      <td>40.000000</td>\n",
              "      <td>3.433333</td>\n",
              "      <td>24.897653</td>\n",
              "      <td>24.897653</td>\n",
              "    </tr>\n",
              "    <tr>\n",
              "      <th>75%</th>\n",
              "      <td>100.000000</td>\n",
              "      <td>0.000000</td>\n",
              "      <td>22.600000</td>\n",
              "      <td>43.066667</td>\n",
              "      <td>21.500000</td>\n",
              "      <td>43.260000</td>\n",
              "      <td>23.290000</td>\n",
              "      <td>41.760000</td>\n",
              "      <td>22.100000</td>\n",
              "      <td>42.156667</td>\n",
              "      <td>20.619643</td>\n",
              "      <td>53.663333</td>\n",
              "      <td>11.256000</td>\n",
              "      <td>83.226667</td>\n",
              "      <td>21.600000</td>\n",
              "      <td>39.000000</td>\n",
              "      <td>23.390000</td>\n",
              "      <td>46.536000</td>\n",
              "      <td>20.600000</td>\n",
              "      <td>44.338095</td>\n",
              "      <td>10.408333</td>\n",
              "      <td>760.933333</td>\n",
              "      <td>91.666667</td>\n",
              "      <td>5.500000</td>\n",
              "      <td>40.000000</td>\n",
              "      <td>6.566667</td>\n",
              "      <td>37.583769</td>\n",
              "      <td>37.583769</td>\n",
              "    </tr>\n",
              "    <tr>\n",
              "      <th>max</th>\n",
              "      <td>1080.000000</td>\n",
              "      <td>70.000000</td>\n",
              "      <td>26.260000</td>\n",
              "      <td>63.360000</td>\n",
              "      <td>29.856667</td>\n",
              "      <td>56.026667</td>\n",
              "      <td>29.236000</td>\n",
              "      <td>50.163333</td>\n",
              "      <td>26.200000</td>\n",
              "      <td>51.090000</td>\n",
              "      <td>25.795000</td>\n",
              "      <td>96.321667</td>\n",
              "      <td>28.290000</td>\n",
              "      <td>99.900000</td>\n",
              "      <td>26.000000</td>\n",
              "      <td>51.400000</td>\n",
              "      <td>27.230000</td>\n",
              "      <td>58.780000</td>\n",
              "      <td>24.500000</td>\n",
              "      <td>53.326667</td>\n",
              "      <td>26.100000</td>\n",
              "      <td>772.300000</td>\n",
              "      <td>100.000000</td>\n",
              "      <td>14.000000</td>\n",
              "      <td>66.000000</td>\n",
              "      <td>15.500000</td>\n",
              "      <td>49.996530</td>\n",
              "      <td>49.996530</td>\n",
              "    </tr>\n",
              "  </tbody>\n",
              "</table>\n",
              "</div>\n",
              "      <button class=\"colab-df-convert\" onclick=\"convertToInteractive('df-0023214c-1b99-47f6-acc7-5345765aa123')\"\n",
              "              title=\"Convert this dataframe to an interactive table.\"\n",
              "              style=\"display:none;\">\n",
              "        \n",
              "  <svg xmlns=\"http://www.w3.org/2000/svg\" height=\"24px\"viewBox=\"0 0 24 24\"\n",
              "       width=\"24px\">\n",
              "    <path d=\"M0 0h24v24H0V0z\" fill=\"none\"/>\n",
              "    <path d=\"M18.56 5.44l.94 2.06.94-2.06 2.06-.94-2.06-.94-.94-2.06-.94 2.06-2.06.94zm-11 1L8.5 8.5l.94-2.06 2.06-.94-2.06-.94L8.5 2.5l-.94 2.06-2.06.94zm10 10l.94 2.06.94-2.06 2.06-.94-2.06-.94-.94-2.06-.94 2.06-2.06.94z\"/><path d=\"M17.41 7.96l-1.37-1.37c-.4-.4-.92-.59-1.43-.59-.52 0-1.04.2-1.43.59L10.3 9.45l-7.72 7.72c-.78.78-.78 2.05 0 2.83L4 21.41c.39.39.9.59 1.41.59.51 0 1.02-.2 1.41-.59l7.78-7.78 2.81-2.81c.8-.78.8-2.07 0-2.86zM5.41 20L4 18.59l7.72-7.72 1.47 1.35L5.41 20z\"/>\n",
              "  </svg>\n",
              "      </button>\n",
              "      \n",
              "  <style>\n",
              "    .colab-df-container {\n",
              "      display:flex;\n",
              "      flex-wrap:wrap;\n",
              "      gap: 12px;\n",
              "    }\n",
              "\n",
              "    .colab-df-convert {\n",
              "      background-color: #E8F0FE;\n",
              "      border: none;\n",
              "      border-radius: 50%;\n",
              "      cursor: pointer;\n",
              "      display: none;\n",
              "      fill: #1967D2;\n",
              "      height: 32px;\n",
              "      padding: 0 0 0 0;\n",
              "      width: 32px;\n",
              "    }\n",
              "\n",
              "    .colab-df-convert:hover {\n",
              "      background-color: #E2EBFA;\n",
              "      box-shadow: 0px 1px 2px rgba(60, 64, 67, 0.3), 0px 1px 3px 1px rgba(60, 64, 67, 0.15);\n",
              "      fill: #174EA6;\n",
              "    }\n",
              "\n",
              "    [theme=dark] .colab-df-convert {\n",
              "      background-color: #3B4455;\n",
              "      fill: #D2E3FC;\n",
              "    }\n",
              "\n",
              "    [theme=dark] .colab-df-convert:hover {\n",
              "      background-color: #434B5C;\n",
              "      box-shadow: 0px 1px 3px 1px rgba(0, 0, 0, 0.15);\n",
              "      filter: drop-shadow(0px 1px 2px rgba(0, 0, 0, 0.3));\n",
              "      fill: #FFFFFF;\n",
              "    }\n",
              "  </style>\n",
              "\n",
              "      <script>\n",
              "        const buttonEl =\n",
              "          document.querySelector('#df-0023214c-1b99-47f6-acc7-5345765aa123 button.colab-df-convert');\n",
              "        buttonEl.style.display =\n",
              "          google.colab.kernel.accessAllowed ? 'block' : 'none';\n",
              "\n",
              "        async function convertToInteractive(key) {\n",
              "          const element = document.querySelector('#df-0023214c-1b99-47f6-acc7-5345765aa123');\n",
              "          const dataTable =\n",
              "            await google.colab.kernel.invokeFunction('convertToInteractive',\n",
              "                                                     [key], {});\n",
              "          if (!dataTable) return;\n",
              "\n",
              "          const docLinkHtml = 'Like what you see? Visit the ' +\n",
              "            '<a target=\"_blank\" href=https://colab.research.google.com/notebooks/data_table.ipynb>data table notebook</a>'\n",
              "            + ' to learn more about interactive tables.';\n",
              "          element.innerHTML = '';\n",
              "          dataTable['output_type'] = 'display_data';\n",
              "          await google.colab.output.renderOutput(dataTable, element);\n",
              "          const docLink = document.createElement('div');\n",
              "          docLink.innerHTML = docLinkHtml;\n",
              "          element.appendChild(docLink);\n",
              "        }\n",
              "      </script>\n",
              "    </div>\n",
              "  </div>\n",
              "  "
            ],
            "text/plain": [
              "         Appliances        lights  ...           rv1           rv2\n",
              "count  19735.000000  19735.000000  ...  19735.000000  19735.000000\n",
              "mean      97.694958      3.801875  ...     24.988033     24.988033\n",
              "std      102.524891      7.935988  ...     14.496634     14.496634\n",
              "min       10.000000      0.000000  ...      0.005322      0.005322\n",
              "25%       50.000000      0.000000  ...     12.497889     12.497889\n",
              "50%       60.000000      0.000000  ...     24.897653     24.897653\n",
              "75%      100.000000      0.000000  ...     37.583769     37.583769\n",
              "max     1080.000000     70.000000  ...     49.996530     49.996530\n",
              "\n",
              "[8 rows x 28 columns]"
            ]
          },
          "metadata": {},
          "execution_count": 5
        }
      ]
    },
    {
      "cell_type": "code",
      "source": [
        "df.corr()"
      ],
      "metadata": {
        "id": "ra-hIcuHze-a",
        "colab": {
          "base_uri": "https://localhost:8080/",
          "height": 990
        },
        "outputId": "8e3012d1-c129-436f-a8bd-8a7473068a9b"
      },
      "execution_count": null,
      "outputs": [
        {
          "output_type": "execute_result",
          "data": {
            "text/html": [
              "\n",
              "  <div id=\"df-478dd04e-ed44-4fe6-beeb-c65adaa099eb\">\n",
              "    <div class=\"colab-df-container\">\n",
              "      <div>\n",
              "<style scoped>\n",
              "    .dataframe tbody tr th:only-of-type {\n",
              "        vertical-align: middle;\n",
              "    }\n",
              "\n",
              "    .dataframe tbody tr th {\n",
              "        vertical-align: top;\n",
              "    }\n",
              "\n",
              "    .dataframe thead th {\n",
              "        text-align: right;\n",
              "    }\n",
              "</style>\n",
              "<table border=\"1\" class=\"dataframe\">\n",
              "  <thead>\n",
              "    <tr style=\"text-align: right;\">\n",
              "      <th></th>\n",
              "      <th>Appliances</th>\n",
              "      <th>lights</th>\n",
              "      <th>T1</th>\n",
              "      <th>RH_1</th>\n",
              "      <th>T2</th>\n",
              "      <th>RH_2</th>\n",
              "      <th>T3</th>\n",
              "      <th>RH_3</th>\n",
              "      <th>T4</th>\n",
              "      <th>RH_4</th>\n",
              "      <th>T5</th>\n",
              "      <th>RH_5</th>\n",
              "      <th>T6</th>\n",
              "      <th>RH_6</th>\n",
              "      <th>T7</th>\n",
              "      <th>RH_7</th>\n",
              "      <th>T8</th>\n",
              "      <th>RH_8</th>\n",
              "      <th>T9</th>\n",
              "      <th>RH_9</th>\n",
              "      <th>T_out</th>\n",
              "      <th>Press_mm_hg</th>\n",
              "      <th>RH_out</th>\n",
              "      <th>Windspeed</th>\n",
              "      <th>Visibility</th>\n",
              "      <th>Tdewpoint</th>\n",
              "      <th>rv1</th>\n",
              "      <th>rv2</th>\n",
              "    </tr>\n",
              "  </thead>\n",
              "  <tbody>\n",
              "    <tr>\n",
              "      <th>Appliances</th>\n",
              "      <td>1.000000</td>\n",
              "      <td>0.197278</td>\n",
              "      <td>0.055447</td>\n",
              "      <td>0.086031</td>\n",
              "      <td>0.120073</td>\n",
              "      <td>-0.060465</td>\n",
              "      <td>0.085060</td>\n",
              "      <td>0.036292</td>\n",
              "      <td>0.040281</td>\n",
              "      <td>0.016965</td>\n",
              "      <td>0.019760</td>\n",
              "      <td>0.006955</td>\n",
              "      <td>0.117638</td>\n",
              "      <td>-0.083178</td>\n",
              "      <td>0.025801</td>\n",
              "      <td>-0.055642</td>\n",
              "      <td>0.039572</td>\n",
              "      <td>-0.094039</td>\n",
              "      <td>0.010010</td>\n",
              "      <td>-0.051462</td>\n",
              "      <td>0.099155</td>\n",
              "      <td>-0.034885</td>\n",
              "      <td>-0.152282</td>\n",
              "      <td>0.087122</td>\n",
              "      <td>0.000230</td>\n",
              "      <td>0.015353</td>\n",
              "      <td>-0.011145</td>\n",
              "      <td>-0.011145</td>\n",
              "    </tr>\n",
              "    <tr>\n",
              "      <th>lights</th>\n",
              "      <td>0.197278</td>\n",
              "      <td>1.000000</td>\n",
              "      <td>-0.023528</td>\n",
              "      <td>0.106968</td>\n",
              "      <td>-0.005622</td>\n",
              "      <td>0.050985</td>\n",
              "      <td>-0.097393</td>\n",
              "      <td>0.131161</td>\n",
              "      <td>-0.008859</td>\n",
              "      <td>0.114936</td>\n",
              "      <td>-0.078745</td>\n",
              "      <td>0.141233</td>\n",
              "      <td>-0.079029</td>\n",
              "      <td>0.153756</td>\n",
              "      <td>-0.135347</td>\n",
              "      <td>0.035069</td>\n",
              "      <td>-0.071458</td>\n",
              "      <td>0.012915</td>\n",
              "      <td>-0.157592</td>\n",
              "      <td>-0.008766</td>\n",
              "      <td>-0.074424</td>\n",
              "      <td>-0.010576</td>\n",
              "      <td>0.068543</td>\n",
              "      <td>0.060281</td>\n",
              "      <td>0.020038</td>\n",
              "      <td>-0.036322</td>\n",
              "      <td>0.000521</td>\n",
              "      <td>0.000521</td>\n",
              "    </tr>\n",
              "    <tr>\n",
              "      <th>T1</th>\n",
              "      <td>0.055447</td>\n",
              "      <td>-0.023528</td>\n",
              "      <td>1.000000</td>\n",
              "      <td>0.164006</td>\n",
              "      <td>0.836834</td>\n",
              "      <td>-0.002509</td>\n",
              "      <td>0.892402</td>\n",
              "      <td>-0.028550</td>\n",
              "      <td>0.877001</td>\n",
              "      <td>0.097861</td>\n",
              "      <td>0.885247</td>\n",
              "      <td>-0.014782</td>\n",
              "      <td>0.654769</td>\n",
              "      <td>-0.615045</td>\n",
              "      <td>0.838705</td>\n",
              "      <td>0.135182</td>\n",
              "      <td>0.825413</td>\n",
              "      <td>-0.006441</td>\n",
              "      <td>0.844777</td>\n",
              "      <td>0.071756</td>\n",
              "      <td>0.682846</td>\n",
              "      <td>-0.150574</td>\n",
              "      <td>-0.345481</td>\n",
              "      <td>-0.087654</td>\n",
              "      <td>-0.076210</td>\n",
              "      <td>0.571309</td>\n",
              "      <td>-0.006203</td>\n",
              "      <td>-0.006203</td>\n",
              "    </tr>\n",
              "    <tr>\n",
              "      <th>RH_1</th>\n",
              "      <td>0.086031</td>\n",
              "      <td>0.106968</td>\n",
              "      <td>0.164006</td>\n",
              "      <td>1.000000</td>\n",
              "      <td>0.269839</td>\n",
              "      <td>0.797535</td>\n",
              "      <td>0.253230</td>\n",
              "      <td>0.844677</td>\n",
              "      <td>0.106180</td>\n",
              "      <td>0.880359</td>\n",
              "      <td>0.205797</td>\n",
              "      <td>0.303258</td>\n",
              "      <td>0.316141</td>\n",
              "      <td>0.245126</td>\n",
              "      <td>0.021397</td>\n",
              "      <td>0.801122</td>\n",
              "      <td>-0.030053</td>\n",
              "      <td>0.736196</td>\n",
              "      <td>0.115263</td>\n",
              "      <td>0.764001</td>\n",
              "      <td>0.340767</td>\n",
              "      <td>-0.293957</td>\n",
              "      <td>0.274126</td>\n",
              "      <td>0.204932</td>\n",
              "      <td>-0.021057</td>\n",
              "      <td>0.639106</td>\n",
              "      <td>-0.000699</td>\n",
              "      <td>-0.000699</td>\n",
              "    </tr>\n",
              "    <tr>\n",
              "      <th>T2</th>\n",
              "      <td>0.120073</td>\n",
              "      <td>-0.005622</td>\n",
              "      <td>0.836834</td>\n",
              "      <td>0.269839</td>\n",
              "      <td>1.000000</td>\n",
              "      <td>-0.165610</td>\n",
              "      <td>0.735245</td>\n",
              "      <td>0.121497</td>\n",
              "      <td>0.762066</td>\n",
              "      <td>0.231563</td>\n",
              "      <td>0.720550</td>\n",
              "      <td>0.029595</td>\n",
              "      <td>0.801186</td>\n",
              "      <td>-0.580372</td>\n",
              "      <td>0.663660</td>\n",
              "      <td>0.229212</td>\n",
              "      <td>0.578191</td>\n",
              "      <td>0.068534</td>\n",
              "      <td>0.675535</td>\n",
              "      <td>0.157346</td>\n",
              "      <td>0.792255</td>\n",
              "      <td>-0.133028</td>\n",
              "      <td>-0.505291</td>\n",
              "      <td>0.052495</td>\n",
              "      <td>-0.069721</td>\n",
              "      <td>0.582602</td>\n",
              "      <td>-0.011087</td>\n",
              "      <td>-0.011087</td>\n",
              "    </tr>\n",
              "    <tr>\n",
              "      <th>RH_2</th>\n",
              "      <td>-0.060465</td>\n",
              "      <td>0.050985</td>\n",
              "      <td>-0.002509</td>\n",
              "      <td>0.797535</td>\n",
              "      <td>-0.165610</td>\n",
              "      <td>1.000000</td>\n",
              "      <td>0.137319</td>\n",
              "      <td>0.678326</td>\n",
              "      <td>-0.047304</td>\n",
              "      <td>0.721435</td>\n",
              "      <td>0.110409</td>\n",
              "      <td>0.250271</td>\n",
              "      <td>-0.009670</td>\n",
              "      <td>0.389933</td>\n",
              "      <td>-0.051422</td>\n",
              "      <td>0.690584</td>\n",
              "      <td>-0.041023</td>\n",
              "      <td>0.679777</td>\n",
              "      <td>0.054544</td>\n",
              "      <td>0.676467</td>\n",
              "      <td>0.033674</td>\n",
              "      <td>-0.255646</td>\n",
              "      <td>0.584911</td>\n",
              "      <td>0.069190</td>\n",
              "      <td>-0.005368</td>\n",
              "      <td>0.499152</td>\n",
              "      <td>0.006275</td>\n",
              "      <td>0.006275</td>\n",
              "    </tr>\n",
              "    <tr>\n",
              "      <th>T3</th>\n",
              "      <td>0.085060</td>\n",
              "      <td>-0.097393</td>\n",
              "      <td>0.892402</td>\n",
              "      <td>0.253230</td>\n",
              "      <td>0.735245</td>\n",
              "      <td>0.137319</td>\n",
              "      <td>1.000000</td>\n",
              "      <td>-0.011234</td>\n",
              "      <td>0.852778</td>\n",
              "      <td>0.122737</td>\n",
              "      <td>0.888169</td>\n",
              "      <td>-0.066355</td>\n",
              "      <td>0.686882</td>\n",
              "      <td>-0.647672</td>\n",
              "      <td>0.847374</td>\n",
              "      <td>0.172624</td>\n",
              "      <td>0.795283</td>\n",
              "      <td>0.044427</td>\n",
              "      <td>0.901324</td>\n",
              "      <td>0.134602</td>\n",
              "      <td>0.699417</td>\n",
              "      <td>-0.189974</td>\n",
              "      <td>-0.281718</td>\n",
              "      <td>-0.100776</td>\n",
              "      <td>-0.102310</td>\n",
              "      <td>0.645886</td>\n",
              "      <td>-0.005194</td>\n",
              "      <td>-0.005194</td>\n",
              "    </tr>\n",
              "    <tr>\n",
              "      <th>RH_3</th>\n",
              "      <td>0.036292</td>\n",
              "      <td>0.131161</td>\n",
              "      <td>-0.028550</td>\n",
              "      <td>0.844677</td>\n",
              "      <td>0.121497</td>\n",
              "      <td>0.678326</td>\n",
              "      <td>-0.011234</td>\n",
              "      <td>1.000000</td>\n",
              "      <td>-0.140457</td>\n",
              "      <td>0.898978</td>\n",
              "      <td>-0.050062</td>\n",
              "      <td>0.375422</td>\n",
              "      <td>0.076833</td>\n",
              "      <td>0.514912</td>\n",
              "      <td>-0.250090</td>\n",
              "      <td>0.832685</td>\n",
              "      <td>-0.283228</td>\n",
              "      <td>0.828822</td>\n",
              "      <td>-0.195270</td>\n",
              "      <td>0.833538</td>\n",
              "      <td>0.118207</td>\n",
              "      <td>-0.233274</td>\n",
              "      <td>0.356192</td>\n",
              "      <td>0.263188</td>\n",
              "      <td>0.017041</td>\n",
              "      <td>0.414387</td>\n",
              "      <td>-0.000477</td>\n",
              "      <td>-0.000477</td>\n",
              "    </tr>\n",
              "    <tr>\n",
              "      <th>T4</th>\n",
              "      <td>0.040281</td>\n",
              "      <td>-0.008859</td>\n",
              "      <td>0.877001</td>\n",
              "      <td>0.106180</td>\n",
              "      <td>0.762066</td>\n",
              "      <td>-0.047304</td>\n",
              "      <td>0.852778</td>\n",
              "      <td>-0.140457</td>\n",
              "      <td>1.000000</td>\n",
              "      <td>-0.048650</td>\n",
              "      <td>0.871813</td>\n",
              "      <td>-0.076489</td>\n",
              "      <td>0.652350</td>\n",
              "      <td>-0.703149</td>\n",
              "      <td>0.877763</td>\n",
              "      <td>0.043527</td>\n",
              "      <td>0.796256</td>\n",
              "      <td>-0.095192</td>\n",
              "      <td>0.889439</td>\n",
              "      <td>-0.025549</td>\n",
              "      <td>0.663478</td>\n",
              "      <td>-0.075292</td>\n",
              "      <td>-0.388602</td>\n",
              "      <td>-0.185747</td>\n",
              "      <td>-0.104768</td>\n",
              "      <td>0.519471</td>\n",
              "      <td>-0.001815</td>\n",
              "      <td>-0.001815</td>\n",
              "    </tr>\n",
              "    <tr>\n",
              "      <th>RH_4</th>\n",
              "      <td>0.016965</td>\n",
              "      <td>0.114936</td>\n",
              "      <td>0.097861</td>\n",
              "      <td>0.880359</td>\n",
              "      <td>0.231563</td>\n",
              "      <td>0.721435</td>\n",
              "      <td>0.122737</td>\n",
              "      <td>0.898978</td>\n",
              "      <td>-0.048650</td>\n",
              "      <td>1.000000</td>\n",
              "      <td>0.091812</td>\n",
              "      <td>0.352591</td>\n",
              "      <td>0.259047</td>\n",
              "      <td>0.392178</td>\n",
              "      <td>-0.131204</td>\n",
              "      <td>0.894301</td>\n",
              "      <td>-0.167066</td>\n",
              "      <td>0.847259</td>\n",
              "      <td>-0.044518</td>\n",
              "      <td>0.856591</td>\n",
              "      <td>0.293289</td>\n",
              "      <td>-0.250748</td>\n",
              "      <td>0.336813</td>\n",
              "      <td>0.300192</td>\n",
              "      <td>0.002636</td>\n",
              "      <td>0.616509</td>\n",
              "      <td>-0.001787</td>\n",
              "      <td>-0.001787</td>\n",
              "    </tr>\n",
              "    <tr>\n",
              "      <th>T5</th>\n",
              "      <td>0.019760</td>\n",
              "      <td>-0.078745</td>\n",
              "      <td>0.885247</td>\n",
              "      <td>0.205797</td>\n",
              "      <td>0.720550</td>\n",
              "      <td>0.110409</td>\n",
              "      <td>0.888169</td>\n",
              "      <td>-0.050062</td>\n",
              "      <td>0.871813</td>\n",
              "      <td>0.091812</td>\n",
              "      <td>1.000000</td>\n",
              "      <td>0.032786</td>\n",
              "      <td>0.629161</td>\n",
              "      <td>-0.632384</td>\n",
              "      <td>0.870624</td>\n",
              "      <td>0.148905</td>\n",
              "      <td>0.824981</td>\n",
              "      <td>0.016388</td>\n",
              "      <td>0.911055</td>\n",
              "      <td>0.072308</td>\n",
              "      <td>0.651321</td>\n",
              "      <td>-0.170999</td>\n",
              "      <td>-0.273953</td>\n",
              "      <td>-0.145011</td>\n",
              "      <td>-0.084164</td>\n",
              "      <td>0.588362</td>\n",
              "      <td>-0.005490</td>\n",
              "      <td>-0.005490</td>\n",
              "    </tr>\n",
              "    <tr>\n",
              "      <th>RH_5</th>\n",
              "      <td>0.006955</td>\n",
              "      <td>0.141233</td>\n",
              "      <td>-0.014782</td>\n",
              "      <td>0.303258</td>\n",
              "      <td>0.029595</td>\n",
              "      <td>0.250271</td>\n",
              "      <td>-0.066355</td>\n",
              "      <td>0.375422</td>\n",
              "      <td>-0.076489</td>\n",
              "      <td>0.352591</td>\n",
              "      <td>0.032786</td>\n",
              "      <td>1.000000</td>\n",
              "      <td>-0.078337</td>\n",
              "      <td>0.263797</td>\n",
              "      <td>-0.142823</td>\n",
              "      <td>0.325808</td>\n",
              "      <td>-0.086991</td>\n",
              "      <td>0.359840</td>\n",
              "      <td>-0.138509</td>\n",
              "      <td>0.272197</td>\n",
              "      <td>-0.053126</td>\n",
              "      <td>-0.119327</td>\n",
              "      <td>0.185941</td>\n",
              "      <td>0.082044</td>\n",
              "      <td>-0.013133</td>\n",
              "      <td>0.078175</td>\n",
              "      <td>-0.011056</td>\n",
              "      <td>-0.011056</td>\n",
              "    </tr>\n",
              "    <tr>\n",
              "      <th>T6</th>\n",
              "      <td>0.117638</td>\n",
              "      <td>-0.079029</td>\n",
              "      <td>0.654769</td>\n",
              "      <td>0.316141</td>\n",
              "      <td>0.801186</td>\n",
              "      <td>-0.009670</td>\n",
              "      <td>0.686882</td>\n",
              "      <td>0.076833</td>\n",
              "      <td>0.652350</td>\n",
              "      <td>0.259047</td>\n",
              "      <td>0.629161</td>\n",
              "      <td>-0.078337</td>\n",
              "      <td>1.000000</td>\n",
              "      <td>-0.672137</td>\n",
              "      <td>0.619085</td>\n",
              "      <td>0.256077</td>\n",
              "      <td>0.482836</td>\n",
              "      <td>0.073721</td>\n",
              "      <td>0.667177</td>\n",
              "      <td>0.184424</td>\n",
              "      <td>0.974787</td>\n",
              "      <td>-0.141643</td>\n",
              "      <td>-0.569119</td>\n",
              "      <td>0.169185</td>\n",
              "      <td>-0.081313</td>\n",
              "      <td>0.764242</td>\n",
              "      <td>-0.015086</td>\n",
              "      <td>-0.015086</td>\n",
              "    </tr>\n",
              "    <tr>\n",
              "      <th>RH_6</th>\n",
              "      <td>-0.083178</td>\n",
              "      <td>0.153756</td>\n",
              "      <td>-0.615045</td>\n",
              "      <td>0.245126</td>\n",
              "      <td>-0.580372</td>\n",
              "      <td>0.389933</td>\n",
              "      <td>-0.647672</td>\n",
              "      <td>0.514912</td>\n",
              "      <td>-0.703149</td>\n",
              "      <td>0.392178</td>\n",
              "      <td>-0.632384</td>\n",
              "      <td>0.263797</td>\n",
              "      <td>-0.672137</td>\n",
              "      <td>1.000000</td>\n",
              "      <td>-0.753973</td>\n",
              "      <td>0.357222</td>\n",
              "      <td>-0.665869</td>\n",
              "      <td>0.489580</td>\n",
              "      <td>-0.738940</td>\n",
              "      <td>0.391943</td>\n",
              "      <td>-0.641572</td>\n",
              "      <td>-0.065814</td>\n",
              "      <td>0.718587</td>\n",
              "      <td>0.098317</td>\n",
              "      <td>0.108705</td>\n",
              "      <td>-0.260417</td>\n",
              "      <td>0.011671</td>\n",
              "      <td>0.011671</td>\n",
              "    </tr>\n",
              "    <tr>\n",
              "      <th>T7</th>\n",
              "      <td>0.025801</td>\n",
              "      <td>-0.135347</td>\n",
              "      <td>0.838705</td>\n",
              "      <td>0.021397</td>\n",
              "      <td>0.663660</td>\n",
              "      <td>-0.051422</td>\n",
              "      <td>0.847374</td>\n",
              "      <td>-0.250090</td>\n",
              "      <td>0.877763</td>\n",
              "      <td>-0.131204</td>\n",
              "      <td>0.870624</td>\n",
              "      <td>-0.142823</td>\n",
              "      <td>0.619085</td>\n",
              "      <td>-0.753973</td>\n",
              "      <td>1.000000</td>\n",
              "      <td>-0.033948</td>\n",
              "      <td>0.882123</td>\n",
              "      <td>-0.209961</td>\n",
              "      <td>0.944776</td>\n",
              "      <td>-0.077690</td>\n",
              "      <td>0.631293</td>\n",
              "      <td>-0.097724</td>\n",
              "      <td>-0.411213</td>\n",
              "      <td>-0.185892</td>\n",
              "      <td>-0.110089</td>\n",
              "      <td>0.466625</td>\n",
              "      <td>-0.003900</td>\n",
              "      <td>-0.003900</td>\n",
              "    </tr>\n",
              "    <tr>\n",
              "      <th>RH_7</th>\n",
              "      <td>-0.055642</td>\n",
              "      <td>0.035069</td>\n",
              "      <td>0.135182</td>\n",
              "      <td>0.801122</td>\n",
              "      <td>0.229212</td>\n",
              "      <td>0.690584</td>\n",
              "      <td>0.172624</td>\n",
              "      <td>0.832685</td>\n",
              "      <td>0.043527</td>\n",
              "      <td>0.894301</td>\n",
              "      <td>0.148905</td>\n",
              "      <td>0.325808</td>\n",
              "      <td>0.256077</td>\n",
              "      <td>0.357222</td>\n",
              "      <td>-0.033948</td>\n",
              "      <td>1.000000</td>\n",
              "      <td>-0.124102</td>\n",
              "      <td>0.883984</td>\n",
              "      <td>0.028055</td>\n",
              "      <td>0.858686</td>\n",
              "      <td>0.294199</td>\n",
              "      <td>-0.265850</td>\n",
              "      <td>0.378519</td>\n",
              "      <td>0.212979</td>\n",
              "      <td>-0.007184</td>\n",
              "      <td>0.641857</td>\n",
              "      <td>0.001820</td>\n",
              "      <td>0.001820</td>\n",
              "    </tr>\n",
              "    <tr>\n",
              "      <th>T8</th>\n",
              "      <td>0.039572</td>\n",
              "      <td>-0.071458</td>\n",
              "      <td>0.825413</td>\n",
              "      <td>-0.030053</td>\n",
              "      <td>0.578191</td>\n",
              "      <td>-0.041023</td>\n",
              "      <td>0.795283</td>\n",
              "      <td>-0.283228</td>\n",
              "      <td>0.796256</td>\n",
              "      <td>-0.167066</td>\n",
              "      <td>0.824981</td>\n",
              "      <td>-0.086991</td>\n",
              "      <td>0.482836</td>\n",
              "      <td>-0.665869</td>\n",
              "      <td>0.882123</td>\n",
              "      <td>-0.124102</td>\n",
              "      <td>1.000000</td>\n",
              "      <td>-0.209532</td>\n",
              "      <td>0.869338</td>\n",
              "      <td>-0.156820</td>\n",
              "      <td>0.502842</td>\n",
              "      <td>-0.162855</td>\n",
              "      <td>-0.300438</td>\n",
              "      <td>-0.218876</td>\n",
              "      <td>-0.060098</td>\n",
              "      <td>0.391810</td>\n",
              "      <td>-0.003210</td>\n",
              "      <td>-0.003210</td>\n",
              "    </tr>\n",
              "    <tr>\n",
              "      <th>RH_8</th>\n",
              "      <td>-0.094039</td>\n",
              "      <td>0.012915</td>\n",
              "      <td>-0.006441</td>\n",
              "      <td>0.736196</td>\n",
              "      <td>0.068534</td>\n",
              "      <td>0.679777</td>\n",
              "      <td>0.044427</td>\n",
              "      <td>0.828822</td>\n",
              "      <td>-0.095192</td>\n",
              "      <td>0.847259</td>\n",
              "      <td>0.016388</td>\n",
              "      <td>0.359840</td>\n",
              "      <td>0.073721</td>\n",
              "      <td>0.489580</td>\n",
              "      <td>-0.209961</td>\n",
              "      <td>0.883984</td>\n",
              "      <td>-0.209532</td>\n",
              "      <td>1.000000</td>\n",
              "      <td>-0.113014</td>\n",
              "      <td>0.855812</td>\n",
              "      <td>0.117141</td>\n",
              "      <td>-0.225591</td>\n",
              "      <td>0.487355</td>\n",
              "      <td>0.202380</td>\n",
              "      <td>0.046178</td>\n",
              "      <td>0.501775</td>\n",
              "      <td>0.004480</td>\n",
              "      <td>0.004480</td>\n",
              "    </tr>\n",
              "    <tr>\n",
              "      <th>T9</th>\n",
              "      <td>0.010010</td>\n",
              "      <td>-0.157592</td>\n",
              "      <td>0.844777</td>\n",
              "      <td>0.115263</td>\n",
              "      <td>0.675535</td>\n",
              "      <td>0.054544</td>\n",
              "      <td>0.901324</td>\n",
              "      <td>-0.195270</td>\n",
              "      <td>0.889439</td>\n",
              "      <td>-0.044518</td>\n",
              "      <td>0.911055</td>\n",
              "      <td>-0.138509</td>\n",
              "      <td>0.667177</td>\n",
              "      <td>-0.738940</td>\n",
              "      <td>0.944776</td>\n",
              "      <td>0.028055</td>\n",
              "      <td>0.869338</td>\n",
              "      <td>-0.113014</td>\n",
              "      <td>1.000000</td>\n",
              "      <td>-0.008683</td>\n",
              "      <td>0.668220</td>\n",
              "      <td>-0.156828</td>\n",
              "      <td>-0.318848</td>\n",
              "      <td>-0.177756</td>\n",
              "      <td>-0.103915</td>\n",
              "      <td>0.581483</td>\n",
              "      <td>-0.001227</td>\n",
              "      <td>-0.001227</td>\n",
              "    </tr>\n",
              "    <tr>\n",
              "      <th>RH_9</th>\n",
              "      <td>-0.051462</td>\n",
              "      <td>-0.008766</td>\n",
              "      <td>0.071756</td>\n",
              "      <td>0.764001</td>\n",
              "      <td>0.157346</td>\n",
              "      <td>0.676467</td>\n",
              "      <td>0.134602</td>\n",
              "      <td>0.833538</td>\n",
              "      <td>-0.025549</td>\n",
              "      <td>0.856591</td>\n",
              "      <td>0.072308</td>\n",
              "      <td>0.272197</td>\n",
              "      <td>0.184424</td>\n",
              "      <td>0.391943</td>\n",
              "      <td>-0.077690</td>\n",
              "      <td>0.858686</td>\n",
              "      <td>-0.156820</td>\n",
              "      <td>0.855812</td>\n",
              "      <td>-0.008683</td>\n",
              "      <td>1.000000</td>\n",
              "      <td>0.223270</td>\n",
              "      <td>-0.183739</td>\n",
              "      <td>0.359377</td>\n",
              "      <td>0.238655</td>\n",
              "      <td>0.008667</td>\n",
              "      <td>0.540328</td>\n",
              "      <td>-0.002955</td>\n",
              "      <td>-0.002955</td>\n",
              "    </tr>\n",
              "    <tr>\n",
              "      <th>T_out</th>\n",
              "      <td>0.099155</td>\n",
              "      <td>-0.074424</td>\n",
              "      <td>0.682846</td>\n",
              "      <td>0.340767</td>\n",
              "      <td>0.792255</td>\n",
              "      <td>0.033674</td>\n",
              "      <td>0.699417</td>\n",
              "      <td>0.118207</td>\n",
              "      <td>0.663478</td>\n",
              "      <td>0.293289</td>\n",
              "      <td>0.651321</td>\n",
              "      <td>-0.053126</td>\n",
              "      <td>0.974787</td>\n",
              "      <td>-0.641572</td>\n",
              "      <td>0.631293</td>\n",
              "      <td>0.294199</td>\n",
              "      <td>0.502842</td>\n",
              "      <td>0.117141</td>\n",
              "      <td>0.668220</td>\n",
              "      <td>0.223270</td>\n",
              "      <td>1.000000</td>\n",
              "      <td>-0.143249</td>\n",
              "      <td>-0.574197</td>\n",
              "      <td>0.192936</td>\n",
              "      <td>-0.077367</td>\n",
              "      <td>0.790661</td>\n",
              "      <td>-0.015216</td>\n",
              "      <td>-0.015216</td>\n",
              "    </tr>\n",
              "    <tr>\n",
              "      <th>Press_mm_hg</th>\n",
              "      <td>-0.034885</td>\n",
              "      <td>-0.010576</td>\n",
              "      <td>-0.150574</td>\n",
              "      <td>-0.293957</td>\n",
              "      <td>-0.133028</td>\n",
              "      <td>-0.255646</td>\n",
              "      <td>-0.189974</td>\n",
              "      <td>-0.233274</td>\n",
              "      <td>-0.075292</td>\n",
              "      <td>-0.250748</td>\n",
              "      <td>-0.170999</td>\n",
              "      <td>-0.119327</td>\n",
              "      <td>-0.141643</td>\n",
              "      <td>-0.065814</td>\n",
              "      <td>-0.097724</td>\n",
              "      <td>-0.265850</td>\n",
              "      <td>-0.162855</td>\n",
              "      <td>-0.225591</td>\n",
              "      <td>-0.156828</td>\n",
              "      <td>-0.183739</td>\n",
              "      <td>-0.143249</td>\n",
              "      <td>1.000000</td>\n",
              "      <td>-0.092017</td>\n",
              "      <td>-0.235032</td>\n",
              "      <td>0.040315</td>\n",
              "      <td>-0.244098</td>\n",
              "      <td>0.000699</td>\n",
              "      <td>0.000699</td>\n",
              "    </tr>\n",
              "    <tr>\n",
              "      <th>RH_out</th>\n",
              "      <td>-0.152282</td>\n",
              "      <td>0.068543</td>\n",
              "      <td>-0.345481</td>\n",
              "      <td>0.274126</td>\n",
              "      <td>-0.505291</td>\n",
              "      <td>0.584911</td>\n",
              "      <td>-0.281718</td>\n",
              "      <td>0.356192</td>\n",
              "      <td>-0.388602</td>\n",
              "      <td>0.336813</td>\n",
              "      <td>-0.273953</td>\n",
              "      <td>0.185941</td>\n",
              "      <td>-0.569119</td>\n",
              "      <td>0.718587</td>\n",
              "      <td>-0.411213</td>\n",
              "      <td>0.378519</td>\n",
              "      <td>-0.300438</td>\n",
              "      <td>0.487355</td>\n",
              "      <td>-0.318848</td>\n",
              "      <td>0.359377</td>\n",
              "      <td>-0.574197</td>\n",
              "      <td>-0.092017</td>\n",
              "      <td>1.000000</td>\n",
              "      <td>-0.176458</td>\n",
              "      <td>0.083125</td>\n",
              "      <td>0.036506</td>\n",
              "      <td>0.020441</td>\n",
              "      <td>0.020441</td>\n",
              "    </tr>\n",
              "    <tr>\n",
              "      <th>Windspeed</th>\n",
              "      <td>0.087122</td>\n",
              "      <td>0.060281</td>\n",
              "      <td>-0.087654</td>\n",
              "      <td>0.204932</td>\n",
              "      <td>0.052495</td>\n",
              "      <td>0.069190</td>\n",
              "      <td>-0.100776</td>\n",
              "      <td>0.263188</td>\n",
              "      <td>-0.185747</td>\n",
              "      <td>0.300192</td>\n",
              "      <td>-0.145011</td>\n",
              "      <td>0.082044</td>\n",
              "      <td>0.169185</td>\n",
              "      <td>0.098317</td>\n",
              "      <td>-0.185892</td>\n",
              "      <td>0.212979</td>\n",
              "      <td>-0.218876</td>\n",
              "      <td>0.202380</td>\n",
              "      <td>-0.177756</td>\n",
              "      <td>0.238655</td>\n",
              "      <td>0.192936</td>\n",
              "      <td>-0.235032</td>\n",
              "      <td>-0.176458</td>\n",
              "      <td>1.000000</td>\n",
              "      <td>-0.007516</td>\n",
              "      <td>0.125972</td>\n",
              "      <td>-0.011342</td>\n",
              "      <td>-0.011342</td>\n",
              "    </tr>\n",
              "    <tr>\n",
              "      <th>Visibility</th>\n",
              "      <td>0.000230</td>\n",
              "      <td>0.020038</td>\n",
              "      <td>-0.076210</td>\n",
              "      <td>-0.021057</td>\n",
              "      <td>-0.069721</td>\n",
              "      <td>-0.005368</td>\n",
              "      <td>-0.102310</td>\n",
              "      <td>0.017041</td>\n",
              "      <td>-0.104768</td>\n",
              "      <td>0.002636</td>\n",
              "      <td>-0.084164</td>\n",
              "      <td>-0.013133</td>\n",
              "      <td>-0.081313</td>\n",
              "      <td>0.108705</td>\n",
              "      <td>-0.110089</td>\n",
              "      <td>-0.007184</td>\n",
              "      <td>-0.060098</td>\n",
              "      <td>0.046178</td>\n",
              "      <td>-0.103915</td>\n",
              "      <td>0.008667</td>\n",
              "      <td>-0.077367</td>\n",
              "      <td>0.040315</td>\n",
              "      <td>0.083125</td>\n",
              "      <td>-0.007516</td>\n",
              "      <td>1.000000</td>\n",
              "      <td>-0.042190</td>\n",
              "      <td>-0.005889</td>\n",
              "      <td>-0.005889</td>\n",
              "    </tr>\n",
              "    <tr>\n",
              "      <th>Tdewpoint</th>\n",
              "      <td>0.015353</td>\n",
              "      <td>-0.036322</td>\n",
              "      <td>0.571309</td>\n",
              "      <td>0.639106</td>\n",
              "      <td>0.582602</td>\n",
              "      <td>0.499152</td>\n",
              "      <td>0.645886</td>\n",
              "      <td>0.414387</td>\n",
              "      <td>0.519471</td>\n",
              "      <td>0.616509</td>\n",
              "      <td>0.588362</td>\n",
              "      <td>0.078175</td>\n",
              "      <td>0.764242</td>\n",
              "      <td>-0.260417</td>\n",
              "      <td>0.466625</td>\n",
              "      <td>0.641857</td>\n",
              "      <td>0.391810</td>\n",
              "      <td>0.501775</td>\n",
              "      <td>0.581483</td>\n",
              "      <td>0.540328</td>\n",
              "      <td>0.790661</td>\n",
              "      <td>-0.244098</td>\n",
              "      <td>0.036506</td>\n",
              "      <td>0.125972</td>\n",
              "      <td>-0.042190</td>\n",
              "      <td>1.000000</td>\n",
              "      <td>-0.003943</td>\n",
              "      <td>-0.003943</td>\n",
              "    </tr>\n",
              "    <tr>\n",
              "      <th>rv1</th>\n",
              "      <td>-0.011145</td>\n",
              "      <td>0.000521</td>\n",
              "      <td>-0.006203</td>\n",
              "      <td>-0.000699</td>\n",
              "      <td>-0.011087</td>\n",
              "      <td>0.006275</td>\n",
              "      <td>-0.005194</td>\n",
              "      <td>-0.000477</td>\n",
              "      <td>-0.001815</td>\n",
              "      <td>-0.001787</td>\n",
              "      <td>-0.005490</td>\n",
              "      <td>-0.011056</td>\n",
              "      <td>-0.015086</td>\n",
              "      <td>0.011671</td>\n",
              "      <td>-0.003900</td>\n",
              "      <td>0.001820</td>\n",
              "      <td>-0.003210</td>\n",
              "      <td>0.004480</td>\n",
              "      <td>-0.001227</td>\n",
              "      <td>-0.002955</td>\n",
              "      <td>-0.015216</td>\n",
              "      <td>0.000699</td>\n",
              "      <td>0.020441</td>\n",
              "      <td>-0.011342</td>\n",
              "      <td>-0.005889</td>\n",
              "      <td>-0.003943</td>\n",
              "      <td>1.000000</td>\n",
              "      <td>1.000000</td>\n",
              "    </tr>\n",
              "    <tr>\n",
              "      <th>rv2</th>\n",
              "      <td>-0.011145</td>\n",
              "      <td>0.000521</td>\n",
              "      <td>-0.006203</td>\n",
              "      <td>-0.000699</td>\n",
              "      <td>-0.011087</td>\n",
              "      <td>0.006275</td>\n",
              "      <td>-0.005194</td>\n",
              "      <td>-0.000477</td>\n",
              "      <td>-0.001815</td>\n",
              "      <td>-0.001787</td>\n",
              "      <td>-0.005490</td>\n",
              "      <td>-0.011056</td>\n",
              "      <td>-0.015086</td>\n",
              "      <td>0.011671</td>\n",
              "      <td>-0.003900</td>\n",
              "      <td>0.001820</td>\n",
              "      <td>-0.003210</td>\n",
              "      <td>0.004480</td>\n",
              "      <td>-0.001227</td>\n",
              "      <td>-0.002955</td>\n",
              "      <td>-0.015216</td>\n",
              "      <td>0.000699</td>\n",
              "      <td>0.020441</td>\n",
              "      <td>-0.011342</td>\n",
              "      <td>-0.005889</td>\n",
              "      <td>-0.003943</td>\n",
              "      <td>1.000000</td>\n",
              "      <td>1.000000</td>\n",
              "    </tr>\n",
              "  </tbody>\n",
              "</table>\n",
              "</div>\n",
              "      <button class=\"colab-df-convert\" onclick=\"convertToInteractive('df-478dd04e-ed44-4fe6-beeb-c65adaa099eb')\"\n",
              "              title=\"Convert this dataframe to an interactive table.\"\n",
              "              style=\"display:none;\">\n",
              "        \n",
              "  <svg xmlns=\"http://www.w3.org/2000/svg\" height=\"24px\"viewBox=\"0 0 24 24\"\n",
              "       width=\"24px\">\n",
              "    <path d=\"M0 0h24v24H0V0z\" fill=\"none\"/>\n",
              "    <path d=\"M18.56 5.44l.94 2.06.94-2.06 2.06-.94-2.06-.94-.94-2.06-.94 2.06-2.06.94zm-11 1L8.5 8.5l.94-2.06 2.06-.94-2.06-.94L8.5 2.5l-.94 2.06-2.06.94zm10 10l.94 2.06.94-2.06 2.06-.94-2.06-.94-.94-2.06-.94 2.06-2.06.94z\"/><path d=\"M17.41 7.96l-1.37-1.37c-.4-.4-.92-.59-1.43-.59-.52 0-1.04.2-1.43.59L10.3 9.45l-7.72 7.72c-.78.78-.78 2.05 0 2.83L4 21.41c.39.39.9.59 1.41.59.51 0 1.02-.2 1.41-.59l7.78-7.78 2.81-2.81c.8-.78.8-2.07 0-2.86zM5.41 20L4 18.59l7.72-7.72 1.47 1.35L5.41 20z\"/>\n",
              "  </svg>\n",
              "      </button>\n",
              "      \n",
              "  <style>\n",
              "    .colab-df-container {\n",
              "      display:flex;\n",
              "      flex-wrap:wrap;\n",
              "      gap: 12px;\n",
              "    }\n",
              "\n",
              "    .colab-df-convert {\n",
              "      background-color: #E8F0FE;\n",
              "      border: none;\n",
              "      border-radius: 50%;\n",
              "      cursor: pointer;\n",
              "      display: none;\n",
              "      fill: #1967D2;\n",
              "      height: 32px;\n",
              "      padding: 0 0 0 0;\n",
              "      width: 32px;\n",
              "    }\n",
              "\n",
              "    .colab-df-convert:hover {\n",
              "      background-color: #E2EBFA;\n",
              "      box-shadow: 0px 1px 2px rgba(60, 64, 67, 0.3), 0px 1px 3px 1px rgba(60, 64, 67, 0.15);\n",
              "      fill: #174EA6;\n",
              "    }\n",
              "\n",
              "    [theme=dark] .colab-df-convert {\n",
              "      background-color: #3B4455;\n",
              "      fill: #D2E3FC;\n",
              "    }\n",
              "\n",
              "    [theme=dark] .colab-df-convert:hover {\n",
              "      background-color: #434B5C;\n",
              "      box-shadow: 0px 1px 3px 1px rgba(0, 0, 0, 0.15);\n",
              "      filter: drop-shadow(0px 1px 2px rgba(0, 0, 0, 0.3));\n",
              "      fill: #FFFFFF;\n",
              "    }\n",
              "  </style>\n",
              "\n",
              "      <script>\n",
              "        const buttonEl =\n",
              "          document.querySelector('#df-478dd04e-ed44-4fe6-beeb-c65adaa099eb button.colab-df-convert');\n",
              "        buttonEl.style.display =\n",
              "          google.colab.kernel.accessAllowed ? 'block' : 'none';\n",
              "\n",
              "        async function convertToInteractive(key) {\n",
              "          const element = document.querySelector('#df-478dd04e-ed44-4fe6-beeb-c65adaa099eb');\n",
              "          const dataTable =\n",
              "            await google.colab.kernel.invokeFunction('convertToInteractive',\n",
              "                                                     [key], {});\n",
              "          if (!dataTable) return;\n",
              "\n",
              "          const docLinkHtml = 'Like what you see? Visit the ' +\n",
              "            '<a target=\"_blank\" href=https://colab.research.google.com/notebooks/data_table.ipynb>data table notebook</a>'\n",
              "            + ' to learn more about interactive tables.';\n",
              "          element.innerHTML = '';\n",
              "          dataTable['output_type'] = 'display_data';\n",
              "          await google.colab.output.renderOutput(dataTable, element);\n",
              "          const docLink = document.createElement('div');\n",
              "          docLink.innerHTML = docLinkHtml;\n",
              "          element.appendChild(docLink);\n",
              "        }\n",
              "      </script>\n",
              "    </div>\n",
              "  </div>\n",
              "  "
            ],
            "text/plain": [
              "             Appliances    lights        T1  ...  Tdewpoint       rv1       rv2\n",
              "Appliances     1.000000  0.197278  0.055447  ...   0.015353 -0.011145 -0.011145\n",
              "lights         0.197278  1.000000 -0.023528  ...  -0.036322  0.000521  0.000521\n",
              "T1             0.055447 -0.023528  1.000000  ...   0.571309 -0.006203 -0.006203\n",
              "RH_1           0.086031  0.106968  0.164006  ...   0.639106 -0.000699 -0.000699\n",
              "T2             0.120073 -0.005622  0.836834  ...   0.582602 -0.011087 -0.011087\n",
              "RH_2          -0.060465  0.050985 -0.002509  ...   0.499152  0.006275  0.006275\n",
              "T3             0.085060 -0.097393  0.892402  ...   0.645886 -0.005194 -0.005194\n",
              "RH_3           0.036292  0.131161 -0.028550  ...   0.414387 -0.000477 -0.000477\n",
              "T4             0.040281 -0.008859  0.877001  ...   0.519471 -0.001815 -0.001815\n",
              "RH_4           0.016965  0.114936  0.097861  ...   0.616509 -0.001787 -0.001787\n",
              "T5             0.019760 -0.078745  0.885247  ...   0.588362 -0.005490 -0.005490\n",
              "RH_5           0.006955  0.141233 -0.014782  ...   0.078175 -0.011056 -0.011056\n",
              "T6             0.117638 -0.079029  0.654769  ...   0.764242 -0.015086 -0.015086\n",
              "RH_6          -0.083178  0.153756 -0.615045  ...  -0.260417  0.011671  0.011671\n",
              "T7             0.025801 -0.135347  0.838705  ...   0.466625 -0.003900 -0.003900\n",
              "RH_7          -0.055642  0.035069  0.135182  ...   0.641857  0.001820  0.001820\n",
              "T8             0.039572 -0.071458  0.825413  ...   0.391810 -0.003210 -0.003210\n",
              "RH_8          -0.094039  0.012915 -0.006441  ...   0.501775  0.004480  0.004480\n",
              "T9             0.010010 -0.157592  0.844777  ...   0.581483 -0.001227 -0.001227\n",
              "RH_9          -0.051462 -0.008766  0.071756  ...   0.540328 -0.002955 -0.002955\n",
              "T_out          0.099155 -0.074424  0.682846  ...   0.790661 -0.015216 -0.015216\n",
              "Press_mm_hg   -0.034885 -0.010576 -0.150574  ...  -0.244098  0.000699  0.000699\n",
              "RH_out        -0.152282  0.068543 -0.345481  ...   0.036506  0.020441  0.020441\n",
              "Windspeed      0.087122  0.060281 -0.087654  ...   0.125972 -0.011342 -0.011342\n",
              "Visibility     0.000230  0.020038 -0.076210  ...  -0.042190 -0.005889 -0.005889\n",
              "Tdewpoint      0.015353 -0.036322  0.571309  ...   1.000000 -0.003943 -0.003943\n",
              "rv1           -0.011145  0.000521 -0.006203  ...  -0.003943  1.000000  1.000000\n",
              "rv2           -0.011145  0.000521 -0.006203  ...  -0.003943  1.000000  1.000000\n",
              "\n",
              "[28 rows x 28 columns]"
            ]
          },
          "metadata": {},
          "execution_count": 6
        }
      ]
    },
    {
      "cell_type": "code",
      "source": [
        "df['date'] = pd.to_datetime( df['date'], infer_datetime_format=True) "
      ],
      "metadata": {
        "id": "rai-khNmzir5"
      },
      "execution_count": null,
      "outputs": []
    },
    {
      "cell_type": "code",
      "source": [
        "df.set_index('date')['T_out'].plot()"
      ],
      "metadata": {
        "id": "xnPvnwCO0oAW",
        "colab": {
          "base_uri": "https://localhost:8080/",
          "height": 526
        },
        "outputId": "3f6109db-1678-4220-fa1f-3aed9d877e12"
      },
      "execution_count": null,
      "outputs": [
        {
          "output_type": "execute_result",
          "data": {
            "text/plain": [
              "<matplotlib.axes._subplots.AxesSubplot at 0x7f314c6a41d0>"
            ]
          },
          "metadata": {},
          "execution_count": 8
        },
        {
          "output_type": "display_data",
          "data": {
            "image/png": "[encoded data removed]",
            "text/plain": [
              "<Figure size 720x576 with 1 Axes>"
            ]
          },
          "metadata": {
            "needs_background": "light"
          }
        }
      ]
    },
    {
      "cell_type": "code",
      "source": [
        "df.columns"
      ],
      "metadata": {
        "id": "uVS0icJi1IQX",
        "colab": {
          "base_uri": "https://localhost:8080/"
        },
        "outputId": "344aecf6-bced-45e5-dc84-80cc1d121121"
      },
      "execution_count": null,
      "outputs": [
        {
          "output_type": "execute_result",
          "data": {
            "text/plain": [
              "Index(['date', 'Appliances', 'lights', 'T1', 'RH_1', 'T2', 'RH_2', 'T3',\n",
              "       'RH_3', 'T4', 'RH_4', 'T5', 'RH_5', 'T6', 'RH_6', 'T7', 'RH_7', 'T8',\n",
              "       'RH_8', 'T9', 'RH_9', 'T_out', 'Press_mm_hg', 'RH_out', 'Windspeed',\n",
              "       'Visibility', 'Tdewpoint', 'rv1', 'rv2'],\n",
              "      dtype='object')"
            ]
          },
          "metadata": {},
          "execution_count": 9
        }
      ]
    },
    {
      "cell_type": "code",
      "source": [
        "df.set_index('date')[['T_out','RH_2','Appliances','lights']].plot(subplots=True)"
      ],
      "metadata": {
        "id": "qLoSTqUx00vW",
        "colab": {
          "base_uri": "https://localhost:8080/",
          "height": 598
        },
        "outputId": "9a59586b-3a2e-41b5-f44b-5b0bcd99ae39"
      },
      "execution_count": null,
      "outputs": [
        {
          "output_type": "execute_result",
          "data": {
            "text/plain": [
              "array([<matplotlib.axes._subplots.AxesSubplot object at 0x7f314c96b4d0>,\n",
              "       <matplotlib.axes._subplots.AxesSubplot object at 0x7f314c8e3f90>,\n",
              "       <matplotlib.axes._subplots.AxesSubplot object at 0x7f314c8a7310>,\n",
              "       <matplotlib.axes._subplots.AxesSubplot object at 0x7f314c860650>],\n",
              "      dtype=object)"
            ]
          },
          "metadata": {},
          "execution_count": 10
        },
        {
          "output_type": "display_data",
          "data": {
            "image/png": "[encoded data removed]",
            "text/plain": [
              "<Figure size 720x576 with 4 Axes>"
            ]
          },
          "metadata": {
            "needs_background": "light"
          }
        }
      ]
    },
    {
      "cell_type": "code",
      "source": [
        "features = df[['Appliances','T_out','RH_2']].to_numpy().tolist()\n",
        "target = df['Appliances'].tolist()\n",
        "              \n"
      ],
      "metadata": {
        "id": "KxxWMsfM4ATp"
      },
      "execution_count": null,
      "outputs": []
    },
    {
      "cell_type": "code",
      "source": [
        "features[0:11]"
      ],
      "metadata": {
        "colab": {
          "base_uri": "https://localhost:8080/"
        },
        "id": "Lkh_fjYF4jfz",
        "outputId": "fd91859c-58bf-4c69-8bc3-b6d0f1e6223f"
      },
      "execution_count": null,
      "outputs": [
        {
          "output_type": "execute_result",
          "data": {
            "text/plain": [
              "[[60.0, 6.6, 44.79],\n",
              " [60.0, 6.48333333333333, 44.7225],\n",
              " [50.0, 6.36666666666667, 44.6266666666667],\n",
              " [50.0, 6.25, 44.59],\n",
              " [60.0, 6.133333333333329, 44.53],\n",
              " [50.0, 6.01666666666667, 44.5],\n",
              " [60.0, 5.9, 44.5],\n",
              " [60.0, 5.91666666666667, 44.5],\n",
              " [60.0, 5.93333333333333, 44.433333333333294],\n",
              " [70.0, 5.95, 44.4],\n",
              " [230.0, 5.96666666666667, 44.4]]"
            ]
          },
          "metadata": {},
          "execution_count": 12
        }
      ]
    },
    {
      "cell_type": "code",
      "source": [
        "target[0:11]"
      ],
      "metadata": {
        "colab": {
          "base_uri": "https://localhost:8080/"
        },
        "id": "keNIe8025a6F",
        "outputId": "dbcfd4ad-e1ed-416c-9ff2-195832a40ee5"
      },
      "execution_count": null,
      "outputs": [
        {
          "output_type": "execute_result",
          "data": {
            "text/plain": [
              "[60, 60, 50, 50, 60, 50, 60, 60, 60, 70, 230]"
            ]
          },
          "metadata": {},
          "execution_count": 13
        }
      ]
    },
    {
      "cell_type": "code",
      "source": [
        "display (Image('raw_window_1h.png'))\n",
        "display (Image('split_window1.png'))"
      ],
      "metadata": {
        "colab": {
          "base_uri": "https://localhost:8080/",
          "height": 52
        },
        "id": "80c0CJhu5fbW",
        "outputId": "ec86df74-794d-4e7a-9628-695cd96c3ff3"
      },
      "execution_count": null,
      "outputs": [
        {
          "output_type": "display_data",
          "data": {
            "image/png": "raw_window_1h.png",
            "text/plain": [
              "<IPython.core.display.Image object>"
            ]
          },
          "metadata": {}
        },
        {
          "output_type": "display_data",
          "data": {
            "image/png": "split_window1.png",
            "text/plain": [
              "<IPython.core.display.Image object>"
            ]
          },
          "metadata": {}
        }
      ]
    },
    {
      "cell_type": "code",
      "source": [
        "len(features)"
      ],
      "metadata": {
        "colab": {
          "base_uri": "https://localhost:8080/"
        },
        "id": "mtEXl_zP1IFE",
        "outputId": "e5bba7ed-c5d0-434f-90ce-495a92590489"
      },
      "execution_count": null,
      "outputs": [
        {
          "output_type": "execute_result",
          "data": {
            "text/plain": [
              "19735"
            ]
          },
          "metadata": {},
          "execution_count": 15
        }
      ]
    },
    {
      "cell_type": "code",
      "source": [
        "len (target)"
      ],
      "metadata": {
        "colab": {
          "base_uri": "https://localhost:8080/"
        },
        "id": "pUV5F19H1RpG",
        "outputId": "76fc4bf6-d6e7-4780-f2f4-bec7ff65b6d2"
      },
      "execution_count": null,
      "outputs": [
        {
          "output_type": "execute_result",
          "data": {
            "text/plain": [
              "19735"
            ]
          },
          "metadata": {},
          "execution_count": 16
        }
      ]
    },
    {
      "cell_type": "code",
      "source": [
        "ts_generator = TimeseriesGenerator(features, target,length=6,sampling_rate=6, batch_size =1)"
      ],
      "metadata": {
        "id": "QxlA6afx6bHQ"
      },
      "execution_count": null,
      "outputs": []
    },
    {
      "cell_type": "code",
      "source": [
        "ts_generator[0]"
      ],
      "metadata": {
        "colab": {
          "base_uri": "https://localhost:8080/"
        },
        "id": "9eKPLIpTtd8-",
        "outputId": "34bd4d2d-0493-46ae-a8b2-2837ce143526"
      },
      "execution_count": null,
      "outputs": [
        {
          "output_type": "execute_result",
          "data": {
            "text/plain": [
              "(array([[[60.  ,  6.6 , 44.79]]]), array([60]))"
            ]
          },
          "metadata": {},
          "execution_count": 18
        }
      ]
    },
    {
      "cell_type": "code",
      "source": [
        "ts_generator[0][0][0].shape"
      ],
      "metadata": {
        "colab": {
          "base_uri": "https://localhost:8080/"
        },
        "id": "GOaD-gMluDMs",
        "outputId": "91a20fbc-c0ac-4c1b-ed6f-355fd636a338"
      },
      "execution_count": null,
      "outputs": [
        {
          "output_type": "execute_result",
          "data": {
            "text/plain": [
              "(1, 3)"
            ]
          },
          "metadata": {},
          "execution_count": 19
        }
      ]
    },
    {
      "cell_type": "code",
      "source": [
        "ts_generator[1]"
      ],
      "metadata": {
        "colab": {
          "base_uri": "https://localhost:8080/"
        },
        "id": "o11wkLZNuM5c",
        "outputId": "4bc0bb7f-4c40-49b8-af68-08553ae907e7"
      },
      "execution_count": null,
      "outputs": [
        {
          "output_type": "execute_result",
          "data": {
            "text/plain": [
              "(array([[[60.        ,  6.48333333, 44.7225    ]]]), array([60]))"
            ]
          },
          "metadata": {},
          "execution_count": 20
        }
      ]
    },
    {
      "cell_type": "code",
      "source": [
        "ts_generator[2]"
      ],
      "metadata": {
        "colab": {
          "base_uri": "https://localhost:8080/"
        },
        "id": "GCBt0AvguPgo",
        "outputId": "8d1db9b2-83cc-4a6c-9772-49a8fb387a93"
      },
      "execution_count": null,
      "outputs": [
        {
          "output_type": "execute_result",
          "data": {
            "text/plain": [
              "(array([[[50.        ,  6.36666667, 44.62666667]]]), array([60]))"
            ]
          },
          "metadata": {},
          "execution_count": 21
        }
      ]
    },
    {
      "cell_type": "code",
      "source": [
        "len(ts_generator)"
      ],
      "metadata": {
        "colab": {
          "base_uri": "https://localhost:8080/"
        },
        "id": "CrFKGBUeuSdb",
        "outputId": "71d8bab7-501c-4131-9c72-fb23631da2b6"
      },
      "execution_count": null,
      "outputs": [
        {
          "output_type": "execute_result",
          "data": {
            "text/plain": [
              "19729"
            ]
          },
          "metadata": {},
          "execution_count": 22
        }
      ]
    },
    {
      "cell_type": "markdown",
      "source": [
        "<p> Input - 1,2,3,4,5,6,7,8,9 </p>\n",
        "\n",
        "<p>Slide window (window size 3,stride 1) - 1,2,3  2,3,4, 3,4,5 ,4,5,6</p>\n",
        "<p>Slide window (window size 3,stride 2) - 1,2,3  3,4,5 5,6,7 ,7,8,9</p>\n",
        "<p>Tumbling window (window size 3)  - 1,2,3 4,5,6 ,7,8,9 </p>"
      ],
      "metadata": {
        "id": "E-kEUO0VvdR5"
      }
    },
    {
      "cell_type": "code",
      "source": [
        "pd.concat ([df['Appliances'],df['Appliances'].shift(-1),df['Appliances'].shift(-2)],axis=1)"
      ],
      "metadata": {
        "colab": {
          "base_uri": "https://localhost:8080/",
          "height": 423
        },
        "id": "2RSk8R7RuU7G",
        "outputId": "a5cae360-a721-46c5-b61c-95c44497c44a"
      },
      "execution_count": null,
      "outputs": [
        {
          "output_type": "execute_result",
          "data": {
            "text/html": [
              "\n",
              "  <div id=\"df-0a8c52e7-9281-4435-9b31-07ccf5e9142b\">\n",
              "    <div class=\"colab-df-container\">\n",
              "      <div>\n",
              "<style scoped>\n",
              "    .dataframe tbody tr th:only-of-type {\n",
              "        vertical-align: middle;\n",
              "    }\n",
              "\n",
              "    .dataframe tbody tr th {\n",
              "        vertical-align: top;\n",
              "    }\n",
              "\n",
              "    .dataframe thead th {\n",
              "        text-align: right;\n",
              "    }\n",
              "</style>\n",
              "<table border=\"1\" class=\"dataframe\">\n",
              "  <thead>\n",
              "    <tr style=\"text-align: right;\">\n",
              "      <th></th>\n",
              "      <th>Appliances</th>\n",
              "      <th>Appliances</th>\n",
              "      <th>Appliances</th>\n",
              "    </tr>\n",
              "  </thead>\n",
              "  <tbody>\n",
              "    <tr>\n",
              "      <th>0</th>\n",
              "      <td>60</td>\n",
              "      <td>60.0</td>\n",
              "      <td>50.0</td>\n",
              "    </tr>\n",
              "    <tr>\n",
              "      <th>1</th>\n",
              "      <td>60</td>\n",
              "      <td>50.0</td>\n",
              "      <td>50.0</td>\n",
              "    </tr>\n",
              "    <tr>\n",
              "      <th>2</th>\n",
              "      <td>50</td>\n",
              "      <td>50.0</td>\n",
              "      <td>60.0</td>\n",
              "    </tr>\n",
              "    <tr>\n",
              "      <th>3</th>\n",
              "      <td>50</td>\n",
              "      <td>60.0</td>\n",
              "      <td>50.0</td>\n",
              "    </tr>\n",
              "    <tr>\n",
              "      <th>4</th>\n",
              "      <td>60</td>\n",
              "      <td>50.0</td>\n",
              "      <td>60.0</td>\n",
              "    </tr>\n",
              "    <tr>\n",
              "      <th>...</th>\n",
              "      <td>...</td>\n",
              "      <td>...</td>\n",
              "      <td>...</td>\n",
              "    </tr>\n",
              "    <tr>\n",
              "      <th>19730</th>\n",
              "      <td>100</td>\n",
              "      <td>90.0</td>\n",
              "      <td>270.0</td>\n",
              "    </tr>\n",
              "    <tr>\n",
              "      <th>19731</th>\n",
              "      <td>90</td>\n",
              "      <td>270.0</td>\n",
              "      <td>420.0</td>\n",
              "    </tr>\n",
              "    <tr>\n",
              "      <th>19732</th>\n",
              "      <td>270</td>\n",
              "      <td>420.0</td>\n",
              "      <td>430.0</td>\n",
              "    </tr>\n",
              "    <tr>\n",
              "      <th>19733</th>\n",
              "      <td>420</td>\n",
              "      <td>430.0</td>\n",
              "      <td>NaN</td>\n",
              "    </tr>\n",
              "    <tr>\n",
              "      <th>19734</th>\n",
              "      <td>430</td>\n",
              "      <td>NaN</td>\n",
              "      <td>NaN</td>\n",
              "    </tr>\n",
              "  </tbody>\n",
              "</table>\n",
              "<p>19735 rows × 3 columns</p>\n",
              "</div>\n",
              "      <button class=\"colab-df-convert\" onclick=\"convertToInteractive('df-0a8c52e7-9281-4435-9b31-07ccf5e9142b')\"\n",
              "              title=\"Convert this dataframe to an interactive table.\"\n",
              "              style=\"display:none;\">\n",
              "        \n",
              "  <svg xmlns=\"http://www.w3.org/2000/svg\" height=\"24px\"viewBox=\"0 0 24 24\"\n",
              "       width=\"24px\">\n",
              "    <path d=\"M0 0h24v24H0V0z\" fill=\"none\"/>\n",
              "    <path d=\"M18.56 5.44l.94 2.06.94-2.06 2.06-.94-2.06-.94-.94-2.06-.94 2.06-2.06.94zm-11 1L8.5 8.5l.94-2.06 2.06-.94-2.06-.94L8.5 2.5l-.94 2.06-2.06.94zm10 10l.94 2.06.94-2.06 2.06-.94-2.06-.94-.94-2.06-.94 2.06-2.06.94z\"/><path d=\"M17.41 7.96l-1.37-1.37c-.4-.4-.92-.59-1.43-.59-.52 0-1.04.2-1.43.59L10.3 9.45l-7.72 7.72c-.78.78-.78 2.05 0 2.83L4 21.41c.39.39.9.59 1.41.59.51 0 1.02-.2 1.41-.59l7.78-7.78 2.81-2.81c.8-.78.8-2.07 0-2.86zM5.41 20L4 18.59l7.72-7.72 1.47 1.35L5.41 20z\"/>\n",
              "  </svg>\n",
              "      </button>\n",
              "      \n",
              "  <style>\n",
              "    .colab-df-container {\n",
              "      display:flex;\n",
              "      flex-wrap:wrap;\n",
              "      gap: 12px;\n",
              "    }\n",
              "\n",
              "    .colab-df-convert {\n",
              "      background-color: #E8F0FE;\n",
              "      border: none;\n",
              "      border-radius: 50%;\n",
              "      cursor: pointer;\n",
              "      display: none;\n",
              "      fill: #1967D2;\n",
              "      height: 32px;\n",
              "      padding: 0 0 0 0;\n",
              "      width: 32px;\n",
              "    }\n",
              "\n",
              "    .colab-df-convert:hover {\n",
              "      background-color: #E2EBFA;\n",
              "      box-shadow: 0px 1px 2px rgba(60, 64, 67, 0.3), 0px 1px 3px 1px rgba(60, 64, 67, 0.15);\n",
              "      fill: #174EA6;\n",
              "    }\n",
              "\n",
              "    [theme=dark] .colab-df-convert {\n",
              "      background-color: #3B4455;\n",
              "      fill: #D2E3FC;\n",
              "    }\n",
              "\n",
              "    [theme=dark] .colab-df-convert:hover {\n",
              "      background-color: #434B5C;\n",
              "      box-shadow: 0px 1px 3px 1px rgba(0, 0, 0, 0.15);\n",
              "      filter: drop-shadow(0px 1px 2px rgba(0, 0, 0, 0.3));\n",
              "      fill: #FFFFFF;\n",
              "    }\n",
              "  </style>\n",
              "\n",
              "      <script>\n",
              "        const buttonEl =\n",
              "          document.querySelector('#df-0a8c52e7-9281-4435-9b31-07ccf5e9142b button.colab-df-convert');\n",
              "        buttonEl.style.display =\n",
              "          google.colab.kernel.accessAllowed ? 'block' : 'none';\n",
              "\n",
              "        async function convertToInteractive(key) {\n",
              "          const element = document.querySelector('#df-0a8c52e7-9281-4435-9b31-07ccf5e9142b');\n",
              "          const dataTable =\n",
              "            await google.colab.kernel.invokeFunction('convertToInteractive',\n",
              "                                                     [key], {});\n",
              "          if (!dataTable) return;\n",
              "\n",
              "          const docLinkHtml = 'Like what you see? Visit the ' +\n",
              "            '<a target=\"_blank\" href=https://colab.research.google.com/notebooks/data_table.ipynb>data table notebook</a>'\n",
              "            + ' to learn more about interactive tables.';\n",
              "          element.innerHTML = '';\n",
              "          dataTable['output_type'] = 'display_data';\n",
              "          await google.colab.output.renderOutput(dataTable, element);\n",
              "          const docLink = document.createElement('div');\n",
              "          docLink.innerHTML = docLinkHtml;\n",
              "          element.appendChild(docLink);\n",
              "        }\n",
              "      </script>\n",
              "    </div>\n",
              "  </div>\n",
              "  "
            ],
            "text/plain": [
              "       Appliances  Appliances  Appliances\n",
              "0              60        60.0        50.0\n",
              "1              60        50.0        50.0\n",
              "2              50        50.0        60.0\n",
              "3              50        60.0        50.0\n",
              "4              60        50.0        60.0\n",
              "...           ...         ...         ...\n",
              "19730         100        90.0       270.0\n",
              "19731          90       270.0       420.0\n",
              "19732         270       420.0       430.0\n",
              "19733         420       430.0         NaN\n",
              "19734         430         NaN         NaN\n",
              "\n",
              "[19735 rows x 3 columns]"
            ]
          },
          "metadata": {},
          "execution_count": 23
        }
      ]
    },
    {
      "cell_type": "code",
      "source": [
        "multi_target=pd.concat ([df['Appliances'],df['Appliances'].shift(-1),df['Appliances'].shift(-2)],axis=1).dropna().to_numpy().tolist()"
      ],
      "metadata": {
        "id": "W7Z4mJu_x5FN"
      },
      "execution_count": null,
      "outputs": []
    },
    {
      "cell_type": "code",
      "source": [
        "multi_target[0:13]"
      ],
      "metadata": {
        "colab": {
          "base_uri": "https://localhost:8080/"
        },
        "id": "ff2kTcr8yrnV",
        "outputId": "6c3d451b-93da-44db-e4f5-880b8e0ae484"
      },
      "execution_count": null,
      "outputs": [
        {
          "output_type": "execute_result",
          "data": {
            "text/plain": [
              "[[60.0, 60.0, 50.0],\n",
              " [60.0, 50.0, 50.0],\n",
              " [50.0, 50.0, 60.0],\n",
              " [50.0, 60.0, 50.0],\n",
              " [60.0, 50.0, 60.0],\n",
              " [50.0, 60.0, 60.0],\n",
              " [60.0, 60.0, 60.0],\n",
              " [60.0, 60.0, 70.0],\n",
              " [60.0, 70.0, 230.0],\n",
              " [70.0, 230.0, 580.0],\n",
              " [230.0, 580.0, 430.0],\n",
              " [580.0, 430.0, 250.0],\n",
              " [430.0, 250.0, 100.0]]"
            ]
          },
          "metadata": {},
          "execution_count": 25
        }
      ]
    },
    {
      "cell_type": "code",
      "source": [
        "features_2 = features[:-2]"
      ],
      "metadata": {
        "id": "edkBaeME2Ka8"
      },
      "execution_count": null,
      "outputs": []
    },
    {
      "cell_type": "code",
      "source": [
        "len (features_2)"
      ],
      "metadata": {
        "colab": {
          "base_uri": "https://localhost:8080/"
        },
        "id": "y84w7TUi15zH",
        "outputId": "d867c546-16cd-41a2-e043-3b3aa8f950ed"
      },
      "execution_count": null,
      "outputs": [
        {
          "output_type": "execute_result",
          "data": {
            "text/plain": [
              "19733"
            ]
          },
          "metadata": {},
          "execution_count": 27
        }
      ]
    },
    {
      "cell_type": "code",
      "source": [
        "ts_generator = TimeseriesGenerator(features_2, multi_target, length=6, sampling_rate=1, batch_size =1,stride=6)"
      ],
      "metadata": {
        "id": "zy_SQr-Ny-JR"
      },
      "execution_count": null,
      "outputs": []
    },
    {
      "cell_type": "code",
      "source": [
        "ts_generator[0]"
      ],
      "metadata": {
        "colab": {
          "base_uri": "https://localhost:8080/"
        },
        "id": "ZOLtU6wAzcUE",
        "outputId": "8038f139-f0ca-44cd-a303-14b15f861166"
      },
      "execution_count": null,
      "outputs": [
        {
          "output_type": "execute_result",
          "data": {
            "text/plain": [
              "(array([[[60.        ,  6.6       , 44.79      ],\n",
              "         [60.        ,  6.48333333, 44.7225    ],\n",
              "         [50.        ,  6.36666667, 44.62666667],\n",
              "         [50.        ,  6.25      , 44.59      ],\n",
              "         [60.        ,  6.13333333, 44.53      ],\n",
              "         [50.        ,  6.01666667, 44.5       ]]]), array([[60., 60., 60.]]))"
            ]
          },
          "metadata": {},
          "execution_count": 29
        }
      ]
    },
    {
      "cell_type": "code",
      "source": [
        "ts_generator[1]"
      ],
      "metadata": {
        "colab": {
          "base_uri": "https://localhost:8080/"
        },
        "id": "JmD7Rwx22XbX",
        "outputId": "9f827e23-52a2-4035-db13-a4303cb3cc1e"
      },
      "execution_count": null,
      "outputs": [
        {
          "output_type": "execute_result",
          "data": {
            "text/plain": [
              "(array([[[ 60.        ,   5.9       ,  44.5       ],\n",
              "         [ 60.        ,   5.91666667,  44.5       ],\n",
              "         [ 60.        ,   5.93333333,  44.43333333],\n",
              "         [ 70.        ,   5.95      ,  44.4       ],\n",
              "         [230.        ,   5.96666667,  44.4       ],\n",
              "         [580.        ,   5.98333333,  44.4       ]]]),\n",
              " array([[430., 250., 100.]]))"
            ]
          },
          "metadata": {},
          "execution_count": 30
        }
      ]
    },
    {
      "cell_type": "code",
      "source": [
        "df_input= df[['Appliances','T_out','RH_2','Visibility']]"
      ],
      "metadata": {
        "id": "NalFxlIB2Z8Z"
      },
      "execution_count": null,
      "outputs": []
    },
    {
      "cell_type": "code",
      "source": [
        "df_input.describe()"
      ],
      "metadata": {
        "colab": {
          "base_uri": "https://localhost:8080/",
          "height": 300
        },
        "id": "7FZVhOFMblCN",
        "outputId": "0a9b7191-6df4-4363-a8c6-768ff3576ca5"
      },
      "execution_count": null,
      "outputs": [
        {
          "output_type": "execute_result",
          "data": {
            "text/html": [
              "\n",
              "  <div id=\"df-daa89035-171a-4494-9224-5ff444b46d7d\">\n",
              "    <div class=\"colab-df-container\">\n",
              "      <div>\n",
              "<style scoped>\n",
              "    .dataframe tbody tr th:only-of-type {\n",
              "        vertical-align: middle;\n",
              "    }\n",
              "\n",
              "    .dataframe tbody tr th {\n",
              "        vertical-align: top;\n",
              "    }\n",
              "\n",
              "    .dataframe thead th {\n",
              "        text-align: right;\n",
              "    }\n",
              "</style>\n",
              "<table border=\"1\" class=\"dataframe\">\n",
              "  <thead>\n",
              "    <tr style=\"text-align: right;\">\n",
              "      <th></th>\n",
              "      <th>Appliances</th>\n",
              "      <th>T_out</th>\n",
              "      <th>RH_2</th>\n",
              "      <th>Visibility</th>\n",
              "    </tr>\n",
              "  </thead>\n",
              "  <tbody>\n",
              "    <tr>\n",
              "      <th>count</th>\n",
              "      <td>19735.000000</td>\n",
              "      <td>19735.000000</td>\n",
              "      <td>19735.000000</td>\n",
              "      <td>19735.000000</td>\n",
              "    </tr>\n",
              "    <tr>\n",
              "      <th>mean</th>\n",
              "      <td>97.694958</td>\n",
              "      <td>7.411665</td>\n",
              "      <td>40.420420</td>\n",
              "      <td>38.330834</td>\n",
              "    </tr>\n",
              "    <tr>\n",
              "      <th>std</th>\n",
              "      <td>102.524891</td>\n",
              "      <td>5.317409</td>\n",
              "      <td>4.069813</td>\n",
              "      <td>11.794719</td>\n",
              "    </tr>\n",
              "    <tr>\n",
              "      <th>min</th>\n",
              "      <td>10.000000</td>\n",
              "      <td>-5.000000</td>\n",
              "      <td>20.463333</td>\n",
              "      <td>1.000000</td>\n",
              "    </tr>\n",
              "    <tr>\n",
              "      <th>25%</th>\n",
              "      <td>50.000000</td>\n",
              "      <td>3.666667</td>\n",
              "      <td>37.900000</td>\n",
              "      <td>29.000000</td>\n",
              "    </tr>\n",
              "    <tr>\n",
              "      <th>50%</th>\n",
              "      <td>60.000000</td>\n",
              "      <td>6.916667</td>\n",
              "      <td>40.500000</td>\n",
              "      <td>40.000000</td>\n",
              "    </tr>\n",
              "    <tr>\n",
              "      <th>75%</th>\n",
              "      <td>100.000000</td>\n",
              "      <td>10.408333</td>\n",
              "      <td>43.260000</td>\n",
              "      <td>40.000000</td>\n",
              "    </tr>\n",
              "    <tr>\n",
              "      <th>max</th>\n",
              "      <td>1080.000000</td>\n",
              "      <td>26.100000</td>\n",
              "      <td>56.026667</td>\n",
              "      <td>66.000000</td>\n",
              "    </tr>\n",
              "  </tbody>\n",
              "</table>\n",
              "</div>\n",
              "      <button class=\"colab-df-convert\" onclick=\"convertToInteractive('df-daa89035-171a-4494-9224-5ff444b46d7d')\"\n",
              "              title=\"Convert this dataframe to an interactive table.\"\n",
              "              style=\"display:none;\">\n",
              "        \n",
              "  <svg xmlns=\"http://www.w3.org/2000/svg\" height=\"24px\"viewBox=\"0 0 24 24\"\n",
              "       width=\"24px\">\n",
              "    <path d=\"M0 0h24v24H0V0z\" fill=\"none\"/>\n",
              "    <path d=\"M18.56 5.44l.94 2.06.94-2.06 2.06-.94-2.06-.94-.94-2.06-.94 2.06-2.06.94zm-11 1L8.5 8.5l.94-2.06 2.06-.94-2.06-.94L8.5 2.5l-.94 2.06-2.06.94zm10 10l.94 2.06.94-2.06 2.06-.94-2.06-.94-.94-2.06-.94 2.06-2.06.94z\"/><path d=\"M17.41 7.96l-1.37-1.37c-.4-.4-.92-.59-1.43-.59-.52 0-1.04.2-1.43.59L10.3 9.45l-7.72 7.72c-.78.78-.78 2.05 0 2.83L4 21.41c.39.39.9.59 1.41.59.51 0 1.02-.2 1.41-.59l7.78-7.78 2.81-2.81c.8-.78.8-2.07 0-2.86zM5.41 20L4 18.59l7.72-7.72 1.47 1.35L5.41 20z\"/>\n",
              "  </svg>\n",
              "      </button>\n",
              "      \n",
              "  <style>\n",
              "    .colab-df-container {\n",
              "      display:flex;\n",
              "      flex-wrap:wrap;\n",
              "      gap: 12px;\n",
              "    }\n",
              "\n",
              "    .colab-df-convert {\n",
              "      background-color: #E8F0FE;\n",
              "      border: none;\n",
              "      border-radius: 50%;\n",
              "      cursor: pointer;\n",
              "      display: none;\n",
              "      fill: #1967D2;\n",
              "      height: 32px;\n",
              "      padding: 0 0 0 0;\n",
              "      width: 32px;\n",
              "    }\n",
              "\n",
              "    .colab-df-convert:hover {\n",
              "      background-color: #E2EBFA;\n",
              "      box-shadow: 0px 1px 2px rgba(60, 64, 67, 0.3), 0px 1px 3px 1px rgba(60, 64, 67, 0.15);\n",
              "      fill: #174EA6;\n",
              "    }\n",
              "\n",
              "    [theme=dark] .colab-df-convert {\n",
              "      background-color: #3B4455;\n",
              "      fill: #D2E3FC;\n",
              "    }\n",
              "\n",
              "    [theme=dark] .colab-df-convert:hover {\n",
              "      background-color: #434B5C;\n",
              "      box-shadow: 0px 1px 3px 1px rgba(0, 0, 0, 0.15);\n",
              "      filter: drop-shadow(0px 1px 2px rgba(0, 0, 0, 0.3));\n",
              "      fill: #FFFFFF;\n",
              "    }\n",
              "  </style>\n",
              "\n",
              "      <script>\n",
              "        const buttonEl =\n",
              "          document.querySelector('#df-daa89035-171a-4494-9224-5ff444b46d7d button.colab-df-convert');\n",
              "        buttonEl.style.display =\n",
              "          google.colab.kernel.accessAllowed ? 'block' : 'none';\n",
              "\n",
              "        async function convertToInteractive(key) {\n",
              "          const element = document.querySelector('#df-daa89035-171a-4494-9224-5ff444b46d7d');\n",
              "          const dataTable =\n",
              "            await google.colab.kernel.invokeFunction('convertToInteractive',\n",
              "                                                     [key], {});\n",
              "          if (!dataTable) return;\n",
              "\n",
              "          const docLinkHtml = 'Like what you see? Visit the ' +\n",
              "            '<a target=\"_blank\" href=https://colab.research.google.com/notebooks/data_table.ipynb>data table notebook</a>'\n",
              "            + ' to learn more about interactive tables.';\n",
              "          element.innerHTML = '';\n",
              "          dataTable['output_type'] = 'display_data';\n",
              "          await google.colab.output.renderOutput(dataTable, element);\n",
              "          const docLink = document.createElement('div');\n",
              "          docLink.innerHTML = docLinkHtml;\n",
              "          element.appendChild(docLink);\n",
              "        }\n",
              "      </script>\n",
              "    </div>\n",
              "  </div>\n",
              "  "
            ],
            "text/plain": [
              "         Appliances         T_out          RH_2    Visibility\n",
              "count  19735.000000  19735.000000  19735.000000  19735.000000\n",
              "mean      97.694958      7.411665     40.420420     38.330834\n",
              "std      102.524891      5.317409      4.069813     11.794719\n",
              "min       10.000000     -5.000000     20.463333      1.000000\n",
              "25%       50.000000      3.666667     37.900000     29.000000\n",
              "50%       60.000000      6.916667     40.500000     40.000000\n",
              "75%      100.000000     10.408333     43.260000     40.000000\n",
              "max     1080.000000     26.100000     56.026667     66.000000"
            ]
          },
          "metadata": {},
          "execution_count": 32
        }
      ]
    },
    {
      "cell_type": "code",
      "source": [
        "df_input.dtypes\n"
      ],
      "metadata": {
        "colab": {
          "base_uri": "https://localhost:8080/"
        },
        "id": "bU2UPg0leG3R",
        "outputId": "31140b7c-04f5-4dfc-ea8c-6d94bff95a16"
      },
      "execution_count": null,
      "outputs": [
        {
          "output_type": "execute_result",
          "data": {
            "text/plain": [
              "Appliances      int64\n",
              "T_out         float64\n",
              "RH_2          float64\n",
              "Visibility    float64\n",
              "dtype: object"
            ]
          },
          "metadata": {},
          "execution_count": 33
        }
      ]
    },
    {
      "cell_type": "code",
      "source": [
        "df_input.hist()"
      ],
      "metadata": {
        "colab": {
          "base_uri": "https://localhost:8080/",
          "height": 589
        },
        "id": "JP-I8syfbtqA",
        "outputId": "157ddaef-41c1-4bdc-9d60-938ee479cf90"
      },
      "execution_count": null,
      "outputs": [
        {
          "output_type": "execute_result",
          "data": {
            "text/plain": [
              "array([[<matplotlib.axes._subplots.AxesSubplot object at 0x7f3149711950>,\n",
              "        <matplotlib.axes._subplots.AxesSubplot object at 0x7f31497373d0>],\n",
              "       [<matplotlib.axes._subplots.AxesSubplot object at 0x7f314a007410>,\n",
              "        <matplotlib.axes._subplots.AxesSubplot object at 0x7f3149694790>]],\n",
              "      dtype=object)"
            ]
          },
          "metadata": {},
          "execution_count": 34
        },
        {
          "output_type": "display_data",
          "data": {
            "image/png": "[encoded data removed]",
            "text/plain": [
              "<Figure size 720x576 with 4 Axes>"
            ]
          },
          "metadata": {
            "needs_background": "light"
          }
        }
      ]
    },
    {
      "cell_type": "code",
      "source": [
        "df_input.query (\"Appliances > 500\") # outlier"
      ],
      "metadata": {
        "colab": {
          "base_uri": "https://localhost:8080/",
          "height": 423
        },
        "id": "oqGbiL21a472",
        "outputId": "8c946eca-91b7-4b17-ecc9-e8e0df95ba9c"
      },
      "execution_count": null,
      "outputs": [
        {
          "output_type": "execute_result",
          "data": {
            "text/html": [
              "\n",
              "  <div id=\"df-80a1cdce-9473-43aa-915c-33e1e2154542\">\n",
              "    <div class=\"colab-df-container\">\n",
              "      <div>\n",
              "<style scoped>\n",
              "    .dataframe tbody tr th:only-of-type {\n",
              "        vertical-align: middle;\n",
              "    }\n",
              "\n",
              "    .dataframe tbody tr th {\n",
              "        vertical-align: top;\n",
              "    }\n",
              "\n",
              "    .dataframe thead th {\n",
              "        text-align: right;\n",
              "    }\n",
              "</style>\n",
              "<table border=\"1\" class=\"dataframe\">\n",
              "  <thead>\n",
              "    <tr style=\"text-align: right;\">\n",
              "      <th></th>\n",
              "      <th>Appliances</th>\n",
              "      <th>T_out</th>\n",
              "      <th>RH_2</th>\n",
              "      <th>Visibility</th>\n",
              "    </tr>\n",
              "  </thead>\n",
              "  <tbody>\n",
              "    <tr>\n",
              "      <th>11</th>\n",
              "      <td>580</td>\n",
              "      <td>5.983333</td>\n",
              "      <td>44.400000</td>\n",
              "      <td>40.000000</td>\n",
              "    </tr>\n",
              "    <tr>\n",
              "      <th>314</th>\n",
              "      <td>520</td>\n",
              "      <td>2.900000</td>\n",
              "      <td>40.900000</td>\n",
              "      <td>36.333333</td>\n",
              "    </tr>\n",
              "    <tr>\n",
              "      <th>392</th>\n",
              "      <td>550</td>\n",
              "      <td>2.033333</td>\n",
              "      <td>42.090000</td>\n",
              "      <td>40.000000</td>\n",
              "    </tr>\n",
              "    <tr>\n",
              "      <th>393</th>\n",
              "      <td>690</td>\n",
              "      <td>2.100000</td>\n",
              "      <td>42.060000</td>\n",
              "      <td>40.000000</td>\n",
              "    </tr>\n",
              "    <tr>\n",
              "      <th>394</th>\n",
              "      <td>620</td>\n",
              "      <td>2.166667</td>\n",
              "      <td>41.726667</td>\n",
              "      <td>40.000000</td>\n",
              "    </tr>\n",
              "    <tr>\n",
              "      <th>...</th>\n",
              "      <td>...</td>\n",
              "      <td>...</td>\n",
              "      <td>...</td>\n",
              "      <td>...</td>\n",
              "    </tr>\n",
              "    <tr>\n",
              "      <th>19586</th>\n",
              "      <td>600</td>\n",
              "      <td>20.833333</td>\n",
              "      <td>37.528571</td>\n",
              "      <td>40.000000</td>\n",
              "    </tr>\n",
              "    <tr>\n",
              "      <th>19587</th>\n",
              "      <td>520</td>\n",
              "      <td>20.900000</td>\n",
              "      <td>37.120000</td>\n",
              "      <td>40.000000</td>\n",
              "    </tr>\n",
              "    <tr>\n",
              "      <th>19684</th>\n",
              "      <td>580</td>\n",
              "      <td>15.900000</td>\n",
              "      <td>43.472000</td>\n",
              "      <td>61.000000</td>\n",
              "    </tr>\n",
              "    <tr>\n",
              "      <th>19685</th>\n",
              "      <td>660</td>\n",
              "      <td>16.100000</td>\n",
              "      <td>42.595714</td>\n",
              "      <td>61.000000</td>\n",
              "    </tr>\n",
              "    <tr>\n",
              "      <th>19695</th>\n",
              "      <td>620</td>\n",
              "      <td>19.100000</td>\n",
              "      <td>39.567143</td>\n",
              "      <td>64.000000</td>\n",
              "    </tr>\n",
              "  </tbody>\n",
              "</table>\n",
              "<p>288 rows × 4 columns</p>\n",
              "</div>\n",
              "      <button class=\"colab-df-convert\" onclick=\"convertToInteractive('df-80a1cdce-9473-43aa-915c-33e1e2154542')\"\n",
              "              title=\"Convert this dataframe to an interactive table.\"\n",
              "              style=\"display:none;\">\n",
              "        \n",
              "  <svg xmlns=\"http://www.w3.org/2000/svg\" height=\"24px\"viewBox=\"0 0 24 24\"\n",
              "       width=\"24px\">\n",
              "    <path d=\"M0 0h24v24H0V0z\" fill=\"none\"/>\n",
              "    <path d=\"M18.56 5.44l.94 2.06.94-2.06 2.06-.94-2.06-.94-.94-2.06-.94 2.06-2.06.94zm-11 1L8.5 8.5l.94-2.06 2.06-.94-2.06-.94L8.5 2.5l-.94 2.06-2.06.94zm10 10l.94 2.06.94-2.06 2.06-.94-2.06-.94-.94-2.06-.94 2.06-2.06.94z\"/><path d=\"M17.41 7.96l-1.37-1.37c-.4-.4-.92-.59-1.43-.59-.52 0-1.04.2-1.43.59L10.3 9.45l-7.72 7.72c-.78.78-.78 2.05 0 2.83L4 21.41c.39.39.9.59 1.41.59.51 0 1.02-.2 1.41-.59l7.78-7.78 2.81-2.81c.8-.78.8-2.07 0-2.86zM5.41 20L4 18.59l7.72-7.72 1.47 1.35L5.41 20z\"/>\n",
              "  </svg>\n",
              "      </button>\n",
              "      \n",
              "  <style>\n",
              "    .colab-df-container {\n",
              "      display:flex;\n",
              "      flex-wrap:wrap;\n",
              "      gap: 12px;\n",
              "    }\n",
              "\n",
              "    .colab-df-convert {\n",
              "      background-color: #E8F0FE;\n",
              "      border: none;\n",
              "      border-radius: 50%;\n",
              "      cursor: pointer;\n",
              "      display: none;\n",
              "      fill: #1967D2;\n",
              "      height: 32px;\n",
              "      padding: 0 0 0 0;\n",
              "      width: 32px;\n",
              "    }\n",
              "\n",
              "    .colab-df-convert:hover {\n",
              "      background-color: #E2EBFA;\n",
              "      box-shadow: 0px 1px 2px rgba(60, 64, 67, 0.3), 0px 1px 3px 1px rgba(60, 64, 67, 0.15);\n",
              "      fill: #174EA6;\n",
              "    }\n",
              "\n",
              "    [theme=dark] .colab-df-convert {\n",
              "      background-color: #3B4455;\n",
              "      fill: #D2E3FC;\n",
              "    }\n",
              "\n",
              "    [theme=dark] .colab-df-convert:hover {\n",
              "      background-color: #434B5C;\n",
              "      box-shadow: 0px 1px 3px 1px rgba(0, 0, 0, 0.15);\n",
              "      filter: drop-shadow(0px 1px 2px rgba(0, 0, 0, 0.3));\n",
              "      fill: #FFFFFF;\n",
              "    }\n",
              "  </style>\n",
              "\n",
              "      <script>\n",
              "        const buttonEl =\n",
              "          document.querySelector('#df-80a1cdce-9473-43aa-915c-33e1e2154542 button.colab-df-convert');\n",
              "        buttonEl.style.display =\n",
              "          google.colab.kernel.accessAllowed ? 'block' : 'none';\n",
              "\n",
              "        async function convertToInteractive(key) {\n",
              "          const element = document.querySelector('#df-80a1cdce-9473-43aa-915c-33e1e2154542');\n",
              "          const dataTable =\n",
              "            await google.colab.kernel.invokeFunction('convertToInteractive',\n",
              "                                                     [key], {});\n",
              "          if (!dataTable) return;\n",
              "\n",
              "          const docLinkHtml = 'Like what you see? Visit the ' +\n",
              "            '<a target=\"_blank\" href=https://colab.research.google.com/notebooks/data_table.ipynb>data table notebook</a>'\n",
              "            + ' to learn more about interactive tables.';\n",
              "          element.innerHTML = '';\n",
              "          dataTable['output_type'] = 'display_data';\n",
              "          await google.colab.output.renderOutput(dataTable, element);\n",
              "          const docLink = document.createElement('div');\n",
              "          docLink.innerHTML = docLinkHtml;\n",
              "          element.appendChild(docLink);\n",
              "        }\n",
              "      </script>\n",
              "    </div>\n",
              "  </div>\n",
              "  "
            ],
            "text/plain": [
              "       Appliances      T_out       RH_2  Visibility\n",
              "11            580   5.983333  44.400000   40.000000\n",
              "314           520   2.900000  40.900000   36.333333\n",
              "392           550   2.033333  42.090000   40.000000\n",
              "393           690   2.100000  42.060000   40.000000\n",
              "394           620   2.166667  41.726667   40.000000\n",
              "...           ...        ...        ...         ...\n",
              "19586         600  20.833333  37.528571   40.000000\n",
              "19587         520  20.900000  37.120000   40.000000\n",
              "19684         580  15.900000  43.472000   61.000000\n",
              "19685         660  16.100000  42.595714   61.000000\n",
              "19695         620  19.100000  39.567143   64.000000\n",
              "\n",
              "[288 rows x 4 columns]"
            ]
          },
          "metadata": {},
          "execution_count": 35
        }
      ]
    },
    {
      "cell_type": "code",
      "source": [
        "from sklearn.preprocessing import MinMaxScaler, StandardScaler\n"
      ],
      "metadata": {
        "id": "jblMMnRgbdk0"
      },
      "execution_count": null,
      "outputs": []
    },
    {
      "cell_type": "code",
      "source": [
        "scaler = MinMaxScaler ()"
      ],
      "metadata": {
        "id": "wQ5moaOVjbW0"
      },
      "execution_count": null,
      "outputs": []
    },
    {
      "cell_type": "code",
      "source": [
        "data_scaled = scaler.fit_transform(df_input)"
      ],
      "metadata": {
        "id": "IP0RvX0ujusG"
      },
      "execution_count": null,
      "outputs": []
    },
    {
      "cell_type": "code",
      "source": [
        "data_scaled"
      ],
      "metadata": {
        "colab": {
          "base_uri": "https://localhost:8080/"
        },
        "id": "MA_qEIn-jxBg",
        "outputId": "2cfa88cf-dcd5-4fdf-9c2b-81d1286ec33f"
      },
      "execution_count": null,
      "outputs": [
        {
          "output_type": "execute_result",
          "data": {
            "text/plain": [
              "array([[0.04672897, 0.37299035, 0.68403787, 0.95384615],\n",
              "       [0.04672897, 0.36923901, 0.68213984, 0.89487179],\n",
              "       [0.03738318, 0.36548767, 0.67944512, 0.83589744],\n",
              "       ...,\n",
              "       [0.24299065, 0.88317256, 0.62719762, 0.37435897],\n",
              "       [0.38317757, 0.87888532, 0.63471741, 0.38717949],\n",
              "       [0.39252336, 0.87459807, 0.63290173, 0.4       ]])"
            ]
          },
          "metadata": {},
          "execution_count": 39
        }
      ]
    },
    {
      "cell_type": "code",
      "source": [
        "features=data_scaled\n"
      ],
      "metadata": {
        "id": "5aYEkeJVkTQI"
      },
      "execution_count": null,
      "outputs": []
    },
    {
      "cell_type": "code",
      "source": [
        "features.size"
      ],
      "metadata": {
        "colab": {
          "base_uri": "https://localhost:8080/"
        },
        "id": "iC_ikSCUrNT6",
        "outputId": "2b8a3e58-b4f8-4e19-ca13-5b2b89720fcf"
      },
      "execution_count": null,
      "outputs": [
        {
          "output_type": "execute_result",
          "data": {
            "text/plain": [
              "78940"
            ]
          },
          "metadata": {},
          "execution_count": 41
        }
      ]
    },
    {
      "cell_type": "code",
      "source": [
        "target = data_scaled[:,0]"
      ],
      "metadata": {
        "id": "YdTLc1HNpnwW"
      },
      "execution_count": null,
      "outputs": []
    },
    {
      "cell_type": "code",
      "source": [
        "target"
      ],
      "metadata": {
        "colab": {
          "base_uri": "https://localhost:8080/"
        },
        "id": "p58r7vsxvUkO",
        "outputId": "5c8dbf37-cabb-4b14-846b-34c20028e711"
      },
      "execution_count": null,
      "outputs": [
        {
          "output_type": "execute_result",
          "data": {
            "text/plain": [
              "array([0.04672897, 0.04672897, 0.03738318, ..., 0.24299065, 0.38317757,\n",
              "       0.39252336])"
            ]
          },
          "metadata": {},
          "execution_count": 43
        }
      ]
    },
    {
      "cell_type": "code",
      "source": [
        "target.size"
      ],
      "metadata": {
        "colab": {
          "base_uri": "https://localhost:8080/"
        },
        "id": "7xj9T9TFprcO",
        "outputId": "0873d630-ff0f-4ca6-c7ba-7eed3633461a"
      },
      "execution_count": null,
      "outputs": [
        {
          "output_type": "execute_result",
          "data": {
            "text/plain": [
              "19735"
            ]
          },
          "metadata": {},
          "execution_count": 44
        }
      ]
    },
    {
      "cell_type": "code",
      "source": [
        "TimeseriesGenerator(features, target,length=2,sampling_rate=1, batch_size =1)[0]"
      ],
      "metadata": {
        "colab": {
          "base_uri": "https://localhost:8080/"
        },
        "id": "xgcrbgdun2QM",
        "outputId": "6777672e-0822-484d-c809-bf1fb5336687"
      },
      "execution_count": null,
      "outputs": [
        {
          "output_type": "execute_result",
          "data": {
            "text/plain": [
              "(array([[[0.04672897, 0.37299035, 0.68403787, 0.95384615],\n",
              "         [0.04672897, 0.36923901, 0.68213984, 0.89487179]]]),\n",
              " array([0.03738318]))"
            ]
          },
          "metadata": {},
          "execution_count": 45
        }
      ]
    },
    {
      "cell_type": "code",
      "source": [
        "X_train,X_test,y_train,y_test = train_test_split (features,target,test_size=.20,random_state=123,shuffle = False)"
      ],
      "metadata": {
        "id": "CW3WsH5QoI3Z"
      },
      "execution_count": null,
      "outputs": []
    },
    {
      "cell_type": "code",
      "source": [
        "X_train.shape"
      ],
      "metadata": {
        "colab": {
          "base_uri": "https://localhost:8080/"
        },
        "id": "HEA6UMWxqOv7",
        "outputId": "cfe377a7-cd6f-486c-9885-4bda91f2201d"
      },
      "execution_count": null,
      "outputs": [
        {
          "output_type": "execute_result",
          "data": {
            "text/plain": [
              "(15788, 4)"
            ]
          },
          "metadata": {},
          "execution_count": 47
        }
      ]
    },
    {
      "cell_type": "code",
      "source": [
        "X_test.shape"
      ],
      "metadata": {
        "colab": {
          "base_uri": "https://localhost:8080/"
        },
        "id": "Cp5nAxpHwCc7",
        "outputId": "3ddffb8f-2167-418f-ffb9-5e1f8b173f59"
      },
      "execution_count": null,
      "outputs": [
        {
          "output_type": "execute_result",
          "data": {
            "text/plain": [
              "(3947, 4)"
            ]
          },
          "metadata": {},
          "execution_count": 48
        }
      ]
    },
    {
      "cell_type": "code",
      "source": [
        "win_length = 720\n",
        "batch_size = 32 \n",
        "num_features = 4\n",
        "train_generator = TimeseriesGenerator(X_train,y_train,length=win_length,sampling_rate=1,batch_size=batch_size)\n",
        "test_generator = TimeseriesGenerator(X_test,y_test,length=win_length,sampling_rate=1,batch_size=batch_size)"
      ],
      "metadata": {
        "id": "9nvuQfERwLI3"
      },
      "execution_count": null,
      "outputs": []
    },
    {
      "cell_type": "code",
      "source": [
        "len (train_generator)"
      ],
      "metadata": {
        "colab": {
          "base_uri": "https://localhost:8080/"
        },
        "id": "0gae1AigPnai",
        "outputId": "aa62bfee-ea2c-4599-d747-070ebd304bb2"
      },
      "execution_count": null,
      "outputs": [
        {
          "output_type": "execute_result",
          "data": {
            "text/plain": [
              "471"
            ]
          },
          "metadata": {},
          "execution_count": 50
        }
      ]
    },
    {
      "cell_type": "code",
      "source": [
        "model = tf.keras.Sequential()"
      ],
      "metadata": {
        "id": "2QauYAIbPrCd"
      },
      "execution_count": null,
      "outputs": []
    },
    {
      "cell_type": "code",
      "source": [
        "model.add (tf.keras.layers.LSTM(128,input_shape=(win_length,num_features),return_sequences=True))\n",
        "model.add (tf.keras.layers.LeakyReLU(alpha=0.5))\n",
        "model.add (tf.keras.layers.LSTM(128,return_sequences=True))\n",
        "model.add (tf.keras.layers.LeakyReLU(alpha=0.5))\n",
        "model.add (tf.keras.layers.Dropout(0.3))\n",
        "model.add (tf.keras.layers.LSTM(64,return_sequences=True))\n",
        "model.add (tf.keras.layers.Dropout(0.3))\n",
        "model.add (tf.keras.layers.Dense(1))\n"
      ],
      "metadata": {
        "id": "r649SztsRQOJ"
      },
      "execution_count": null,
      "outputs": []
    },
    {
      "cell_type": "code",
      "source": [
        "model.summary()"
      ],
      "metadata": {
        "colab": {
          "base_uri": "https://localhost:8080/"
        },
        "id": "4QLTCVFESkv2",
        "outputId": "f1793c46-f2e2-4a68-f7fb-6098e1e87ac7"
      },
      "execution_count": null,
      "outputs": [
        {
          "output_type": "stream",
          "name": "stdout",
          "text": [
            "Model: \"sequential\"\n",
            "_________________________________________________________________\n",
            " Layer (type)                Output Shape              Param #   \n",
            "=================================================================\n",
            " lstm (LSTM)                 (None, 720, 128)          68096     \n",
            "                                                                 \n",
            " leaky_re_lu (LeakyReLU)     (None, 720, 128)          0         \n",
            "                                                                 \n",
            " lstm_1 (LSTM)               (None, 720, 128)          131584    \n",
            "                                                                 \n",
            " leaky_re_lu_1 (LeakyReLU)   (None, 720, 128)          0         \n",
            "                                                                 \n",
            " dropout (Dropout)           (None, 720, 128)          0         \n",
            "                                                                 \n",
            " lstm_2 (LSTM)               (None, 720, 64)           49408     \n",
            "                                                                 \n",
            " dropout_1 (Dropout)         (None, 720, 64)           0         \n",
            "                                                                 \n",
            " dense (Dense)               (None, 720, 1)            65        \n",
            "                                                                 \n",
            "=================================================================\n",
            "Total params: 249,153\n",
            "Trainable params: 249,153\n",
            "Non-trainable params: 0\n",
            "_________________________________________________________________\n"
          ]
        }
      ]
    },
    {
      "cell_type": "code",
      "source": [
        "early_stopping = tf.keras.callbacks.EarlyStopping(monitor='vol_loss',patience=2,mode='min')\n",
        "model.compile(loss=tf.losses.MeanSquaredError(), optimizer=tf.optimizers.Adam(),metrics=[tf.metrics.MeanAbsoluteError()])\n",
        "history = model.fit_generator(train_generator,epochs=50,validation_data=test_generator, shuffle=False, callbacks=[early_stopping])"
      ],
      "metadata": {
        "colab": {
          "base_uri": "https://localhost:8080/"
        },
        "id": "W96tV-g1S8fB",
        "outputId": "5a049e8a-6f10-4bb4-8328-1331ec20d09c"
      },
      "execution_count": null,
      "outputs": [
        {
          "metadata": {
            "tags": null
          },
          "name": "stdout",
          "output_type": "stream",
          "text": [
            "Epoch 1/50\n"
          ]
        },
        {
          "metadata": {
            "tags": null
          },
          "name": "stderr",
          "output_type": "stream",
          "text": [
            "/usr/local/lib/python3.7/dist-packages/ipykernel_launcher.py:3: UserWarning: `Model.fit_generator` is deprecated and will be removed in a future version. Please use `Model.fit`, which supports generators.\n",
            "  This is separate from the ipykernel package so we can avoid doing imports until\n"
          ]
        },
        {
          "output_type": "stream",
          "name": "stdout",
          "text": [
            "471/471 [==============================] - ETA: 0s - loss: 0.0103 - mean_absolute_error: 0.0588WARNING:tensorflow:Early stopping conditioned on metric `vol_loss` which is not available. Available metrics are: loss,mean_absolute_error,val_loss,val_mean_absolute_error\n",
            "471/471 [==============================] - 928s 2s/step - loss: 0.0103 - mean_absolute_error: 0.0588 - val_loss: 0.0072 - val_mean_absolute_error: 0.0447\n",
            "Epoch 2/50\n",
            "471/471 [==============================] - ETA: 0s - loss: 0.0098 - mean_absolute_error: 0.0583WARNING:tensorflow:Early stopping conditioned on metric `vol_loss` which is not available. Available metrics are: loss,mean_absolute_error,val_loss,val_mean_absolute_error\n",
            "471/471 [==============================] - 920s 2s/step - loss: 0.0098 - mean_absolute_error: 0.0583 - val_loss: 0.0072 - val_mean_absolute_error: 0.0446\n",
            "Epoch 3/50\n",
            "471/471 [==============================] - ETA: 0s - loss: 0.0097 - mean_absolute_error: 0.0579WARNING:tensorflow:Early stopping conditioned on metric `vol_loss` which is not available. Available metrics are: loss,mean_absolute_error,val_loss,val_mean_absolute_error\n",
            "471/471 [==============================] - 916s 2s/step - loss: 0.0097 - mean_absolute_error: 0.0579 - val_loss: 0.0072 - val_mean_absolute_error: 0.0447\n",
            "Epoch 4/50\n",
            "471/471 [==============================] - ETA: 0s - loss: 0.0097 - mean_absolute_error: 0.0578WARNING:tensorflow:Early stopping conditioned on metric `vol_loss` which is not available. Available metrics are: loss,mean_absolute_error,val_loss,val_mean_absolute_error\n",
            "471/471 [==============================] - 920s 2s/step - loss: 0.0097 - mean_absolute_error: 0.0578 - val_loss: 0.0072 - val_mean_absolute_error: 0.0449\n",
            "Epoch 5/50\n",
            "471/471 [==============================] - ETA: 0s - loss: 0.0096 - mean_absolute_error: 0.0578WARNING:tensorflow:Early stopping conditioned on metric `vol_loss` which is not available. Available metrics are: loss,mean_absolute_error,val_loss,val_mean_absolute_error\n",
            "471/471 [==============================] - 920s 2s/step - loss: 0.0096 - mean_absolute_error: 0.0578 - val_loss: 0.0072 - val_mean_absolute_error: 0.0452\n",
            "Epoch 6/50\n",
            "471/471 [==============================] - ETA: 0s - loss: 0.0096 - mean_absolute_error: 0.0578WARNING:tensorflow:Early stopping conditioned on metric `vol_loss` which is not available. Available metrics are: loss,mean_absolute_error,val_loss,val_mean_absolute_error\n",
            "471/471 [==============================] - 916s 2s/step - loss: 0.0096 - mean_absolute_error: 0.0578 - val_loss: 0.0072 - val_mean_absolute_error: 0.0454\n",
            "Epoch 7/50\n",
            "471/471 [==============================] - ETA: 0s - loss: 0.0096 - mean_absolute_error: 0.0577WARNING:tensorflow:Early stopping conditioned on metric `vol_loss` which is not available. Available metrics are: loss,mean_absolute_error,val_loss,val_mean_absolute_error\n",
            "471/471 [==============================] - 915s 2s/step - loss: 0.0096 - mean_absolute_error: 0.0577 - val_loss: 0.0072 - val_mean_absolute_error: 0.0453\n",
            "Epoch 8/50\n",
            "471/471 [==============================] - ETA: 0s - loss: 0.0096 - mean_absolute_error: 0.0578WARNING:tensorflow:Early stopping conditioned on metric `vol_loss` which is not available. Available metrics are: loss,mean_absolute_error,val_loss,val_mean_absolute_error\n",
            "471/471 [==============================] - 922s 2s/step - loss: 0.0096 - mean_absolute_error: 0.0578 - val_loss: 0.0072 - val_mean_absolute_error: 0.0460\n",
            "Epoch 9/50\n",
            "471/471 [==============================] - ETA: 0s - loss: 0.0096 - mean_absolute_error: 0.0577WARNING:tensorflow:Early stopping conditioned on metric `vol_loss` which is not available. Available metrics are: loss,mean_absolute_error,val_loss,val_mean_absolute_error\n",
            "471/471 [==============================] - 934s 2s/step - loss: 0.0096 - mean_absolute_error: 0.0577 - val_loss: 0.0072 - val_mean_absolute_error: 0.0462\n",
            "Epoch 10/50\n",
            "471/471 [==============================] - ETA: 0s - loss: 0.0096 - mean_absolute_error: 0.0577WARNING:tensorflow:Early stopping conditioned on metric `vol_loss` which is not available. Available metrics are: loss,mean_absolute_error,val_loss,val_mean_absolute_error\n",
            "471/471 [==============================] - 934s 2s/step - loss: 0.0096 - mean_absolute_error: 0.0577 - val_loss: 0.0072 - val_mean_absolute_error: 0.0464\n",
            "Epoch 11/50\n",
            "471/471 [==============================] - ETA: 0s - loss: 0.0096 - mean_absolute_error: 0.0577WARNING:tensorflow:Early stopping conditioned on metric `vol_loss` which is not available. Available metrics are: loss,mean_absolute_error,val_loss,val_mean_absolute_error\n",
            "471/471 [==============================] - 932s 2s/step - loss: 0.0096 - mean_absolute_error: 0.0577 - val_loss: 0.0072 - val_mean_absolute_error: 0.0461\n",
            "Epoch 12/50\n",
            "439/471 [==========================>...] - ETA: 1:00 - loss: 0.0099 - mean_absolute_error: 0.0587"
          ]
        }
      ]
    },
    {
      "cell_type": "code",
      "source": [
        "model.evaluate_generator (test_generator,verbose=0)\n"
      ],
      "metadata": {
        "id": "2NowKQlaVnqb"
      },
      "execution_count": null,
      "outputs": []
    },
    {
      "cell_type": "code",
      "source": [
        "predictions = model.predict_generator(test_generator)"
      ],
      "metadata": {
        "id": "9DxKXIncV7dX"
      },
      "execution_count": null,
      "outputs": []
    },
    {
      "cell_type": "code",
      "source": [
        "predictions.shape[0]"
      ],
      "metadata": {
        "id": "zs6qY1KBWNuS"
      },
      "execution_count": null,
      "outputs": []
    },
    {
      "cell_type": "code",
      "source": [
        "predictions"
      ],
      "metadata": {
        "id": "sx4ycZl4YXPf"
      },
      "execution_count": null,
      "outputs": []
    },
    {
      "cell_type": "code",
      "source": [
        "y_test"
      ],
      "metadata": {
        "id": "3mpMGBxJYgN3"
      },
      "execution_count": null,
      "outputs": []
    },
    {
      "cell_type": "code",
      "source": [
        "X_test[:,1:][win_length:]"
      ],
      "metadata": {
        "id": "IBuldORCYi6B"
      },
      "execution_count": null,
      "outputs": []
    },
    {
      "cell_type": "code",
      "source": [
        "df_pred=pd.concat([pd.DataFrame(predictions),pd.DataFrame(X_test[;,1:][win_length:])],axis=1)"
      ],
      "metadata": {
        "id": "APvnSoRykO0K"
      },
      "execution_count": null,
      "outputs": []
    },
    {
      "cell_type": "code",
      "source": [
        "rev_trans=scaler.inverse_transform(df_pred)"
      ],
      "metadata": {
        "id": "KB_V97fOkPfp"
      },
      "execution_count": null,
      "outputs": []
    },
    {
      "cell_type": "code",
      "source": [
        "rev_trans"
      ],
      "metadata": {
        "id": "GjtlZeeSliV2"
      },
      "execution_count": null,
      "outputs": []
    },
    {
      "cell_type": "code",
      "source": [
        "df_final = df_input[predictions.shape[0]*-1:]"
      ],
      "metadata": {
        "id": "edLfAYFklmyo"
      },
      "execution_count": null,
      "outputs": []
    },
    {
      "cell_type": "code",
      "source": [
        "df_final.count()"
      ],
      "metadata": {
        "id": "8VWIR5YQl6Jg"
      },
      "execution_count": null,
      "outputs": []
    },
    {
      "cell_type": "code",
      "source": [
        "df_final['App_pred']=rev_trans[:,0]"
      ],
      "metadata": {
        "id": "SS_Gmdikl-Fj"
      },
      "execution_count": null,
      "outputs": []
    },
    {
      "cell_type": "code",
      "source": [
        "df_final"
      ],
      "metadata": {
        "id": "GLkuttMumTx_"
      },
      "execution_count": null,
      "outputs": []
    },
    {
      "cell_type": "code",
      "source": [
        "df_final['Appliances','App_pred',].plot()"
      ],
      "metadata": {
        "id": "po40eaAGmVf_"
      },
      "execution_count": null,
      "outputs": []
    }
  ],
  "metadata": {
    "interpreter": {
      "hash": "6cc6f1ff2b5b3e7d30373767f06362abe3160939d7e590e7f082113e6464908a"
    },
    "kernelspec": {
      "display_name": "Python 3.9.7 64-bit (system)",
      "language": "python",
      "name": "python3"
    },
    "language_info": {
      "codemirror_mode": {
        "name": "ipython",
        "version": 3
      },
      "file_extension": ".py",
      "mimetype": "text/x-python",
      "name": "python",
      "nbconvert_exporter": "python",
      "pygments_lexer": "ipython3",
      "version": "3.9.7"
    },
    "orig_nbformat": 4,
    "colab": {
      "name": "Data Preparation for Time Series with Sequncing.ipynb",
      "provenance": [],
      "collapsed_sections": []
    }
  },
  "nbformat": 4,
  "nbformat_minor": 0
}