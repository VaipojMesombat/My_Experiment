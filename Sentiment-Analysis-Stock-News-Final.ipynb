{
 "cells": [
  {
   "cell_type": "markdown",
   "metadata": {},
   "source": [
    "### Youtube \"https://www.youtube.com/watch?v=o-zM8onpQZY&t=870s\""
   ]
  },
  {
   "cell_type": "markdown",
   "metadata": {},
   "source": [
    "<p> Source NLTK : \"https://www.nltk.org/_modules/nltk/sentiment/vader.html\" </p>"
   ]
  },
  {
   "cell_type": "code",
   "execution_count": 14,
   "metadata": {},
   "outputs": [
    {
     "name": "stdout",
     "output_type": "stream",
     "text": [
      "Requirement already satisfied: bs4 in c:\\users\\vaipoj mesombat\\appdata\\local\\programs\\python\\python39\\lib\\site-packages (0.0.1)\n",
      "Requirement already satisfied: beautifulsoup4 in c:\\users\\vaipoj mesombat\\appdata\\local\\programs\\python\\python39\\lib\\site-packages (from bs4) (4.10.0)\n",
      "Requirement already satisfied: soupsieve>1.2 in c:\\users\\vaipoj mesombat\\appdata\\local\\programs\\python\\python39\\lib\\site-packages (from beautifulsoup4->bs4) (2.3)\n",
      "Note: you may need to restart the kernel to use updated packages.\n"
     ]
    }
   ],
   "source": [
    "%pip install bs4"
   ]
  },
  {
   "cell_type": "code",
   "execution_count": 2,
   "metadata": {},
   "outputs": [
    {
     "name": "stdout",
     "output_type": "stream",
     "text": [
      "Collecting nltk\n",
      "  Downloading nltk-3.6.7-py3-none-any.whl (1.5 MB)\n",
      "Requirement already satisfied: click in c:\\users\\vaipoj mesombat\\appdata\\local\\programs\\python\\python39\\lib\\site-packages (from nltk) (8.0.3)\n",
      "Requirement already satisfied: tqdm in c:\\users\\vaipoj mesombat\\appdata\\local\\programs\\python\\python39\\lib\\site-packages (from nltk) (4.62.3)\n",
      "Collecting regex>=2021.8.3\n",
      "  Downloading regex-2021.11.10-cp39-cp39-win_amd64.whl (273 kB)\n",
      "Requirement already satisfied: joblib in c:\\users\\vaipoj mesombat\\appdata\\local\\programs\\python\\python39\\lib\\site-packages (from nltk) (1.0.1)\n",
      "Requirement already satisfied: colorama in c:\\users\\vaipoj mesombat\\appdata\\local\\programs\\python\\python39\\lib\\site-packages (from click->nltk) (0.4.4)\n",
      "Installing collected packages: regex, nltk\n",
      "Successfully installed nltk-3.6.7 regex-2021.11.10\n",
      "Note: you may need to restart the kernel to use updated packages.\n"
     ]
    }
   ],
   "source": [
    "%pip install nltk"
   ]
  },
  {
   "cell_type": "code",
   "execution_count": 2,
   "metadata": {},
   "outputs": [],
   "source": [
    "from urllib.request import urlopen, Request\n",
    "from bs4 import BeautifulSoup\n",
    "from nltk.sentiment.vader import SentimentIntensityAnalyzer\n",
    "import pandas as pd\n",
    "import matplotlib.pyplot as plt\n",
    "\n"
   ]
  },
  {
   "cell_type": "code",
   "execution_count": 3,
   "metadata": {},
   "outputs": [],
   "source": [
    "finviz_url = 'https://finviz.com/quote.ashx?t='\n",
    "tickers = ['AMZN', 'GOOG', 'FB']"
   ]
  },
  {
   "cell_type": "code",
   "execution_count": 32,
   "metadata": {},
   "outputs": [],
   "source": [
    "news_tables = {}\n",
    "for ticker in tickers:\n",
    "    url = finviz_url + ticker\n",
    "\n",
    "    req = Request(url=url, headers={'user-agent': 'my-app'})\n",
    "    response = urlopen(req)\n",
    "\n",
    "    html = BeautifulSoup(response, 'html')\n",
    "    news_table = html.find(id='news-table')\n",
    "    news_tables[ticker] = news_table\n",
    "    \n",
    "    \n"
   ]
  },
  {
   "cell_type": "code",
   "execution_count": 33,
   "metadata": {},
   "outputs": [],
   "source": [
    "amzn_data = news_tables ['AMZN']\n",
    "amzn_rows = amzn_data.findAll ('tr')\n",
    "#print (amzn_rows)"
   ]
  },
  {
   "cell_type": "code",
   "execution_count": 34,
   "metadata": {},
   "outputs": [
    {
     "name": "stdout",
     "output_type": "stream",
     "text": [
      "Jan-17-22 01:01PM   11 Best Delivery Stocks To Buy Now\n",
      "11:58AM   835 Reasons to Invest in Netflix Stock Right Now\n",
      "10:46AM   Amazon reverses decision to ban customers from using Visa credit cards\n",
      "10:45AM   Amazon will continue to accept Visa credit cards in the UKfor now\n",
      "09:47AM   VPN deals for January: Pay less for privacy with discounts on ExpressVPN, NordVPN and more\n",
      "08:48AM   Fundsmith LLP: The Purchase of Amazon (AMZN) has Attracted a Lot of Attention\n",
      "08:45AM   Should You Consider Investing in Amazon (AMZN)?\n",
      "08:45AM   Here's an Under-the-Radar Strategy for Picking Winning Retail Real Estate Investment Trusts\n",
      "08:25AM   Tech Stocks Roundup: Well-Known Value Investor Likes Google, Meta, Netflix\n",
      "07:58AM   Amazon Scraps Plan to Stop Accepting Visas U.K. Credit Card\n",
      "07:09AM   Musk and Bezos among world's 10 richest men who doubled their wealth in pandemic\n",
      "07:00AM   4 Robots That Can Shape the Future of Amazon's Fulfillment Centers\n",
      "06:35AM   Reversing stance, Amazon says it will keep accepting Visa credit cards in the U.K.\n",
      "06:30AM   Can 2021's Best-Performing FAANG Stock Do It Again in 2022?\n",
      "06:15AM   2 Top Bargain Stocks Ready for a Bull Run\n",
      "06:10AM   Rivian Stock Just Fell Below its IPO Price of $78 Per Share: Time to Buy?\n",
      "06:02AM   Amazon U-turns on decision to scrap Visa credit cards in UK\n",
      "05:52AM   3 Unstoppable Stocks That Can Beat Bitcoin in 2022\n",
      "Jan-16-22 08:40AM   $15 minimum wage opposition 'doesn't make any sense to me,' Labor Secretary Walsh says\n",
      "08:00AM   Now Is a Great Buying Opportunity for This Giant Fintech Stock\n",
      "07:53AM   Amazon Challenges SpaceX in Space\n",
      "07:47AM   3 Top E-Commerce Stocks to Buy in January\n",
      "07:17AM   MercadoLibre Stock: Bear vs. Bull\n",
      "Jan-15-22 07:06PM   Whole Foods Stands By Decision to Ban Employees From Wearing BLM Masks While At Work\n",
      "09:15AM   The AI Stock That Should Be High on Your 2022 Watch List\n",
      "09:15AM   My Top Fintech Stock to Buy in 2022\n",
      "08:45AM   2 Top Tech Stocks to Buy for the Long Haul\n",
      "08:32AM   Better Buy Now: Lucid Up 20% or Rivian Down 20%?\n",
      "08:15AM   Should You Invest in the Metaverse or Is This an Overhyped Buzzword to Avoid?\n",
      "07:45AM   Buy This Stock, Not That One: 2022 Edition\n",
      "07:30AM   Is This Tech Stock the Square of Cloud Computing?\n",
      "06:37AM   After an IPO-Day Rocket Ride, Can Hour Loop Maintain Its Mojo?\n",
      "Jan-14-22 05:54PM   Why DigitalOcean Stock Tanked 9% Today\n",
      "05:09PM   'Scream' hits theaters, Netflix raises prices\n",
      "04:17PM   Crypto job openings surge 395% in a year, with Miami, Austin and Denver emerging as new hubs\n",
      "02:42PM   E-Commerce Startup Bolt Nearly Doubles Valuation to $11 Billion\n",
      "02:42PM   TBJ Plus: Raleigh rates high for friendliness; Shortages slam Chapel Hill's Sutton's; Girl Scout cookies ahead\n",
      "01:38PM   HighTower Trust Services, LTA Buys Amazon. ...\n",
      "12:27PM   Market check: Stocks choppy in intraday trading, tech stocks turn green\n",
      "12:05PM   Data-driven digital business is in its first chapter, NetApp CEO says\n",
      "11:30AM   Should You Buy Chewy Stock Before It Goes Back Up?\n",
      "11:05AM   Is Amazon Stock A Buy Right Now As Epic Battle With Walmart Escalates\n",
      "09:38AM   Access Financial Services, Inc. Buys BTC iShares U.S. ...\n",
      "09:38AM   BKD Wealth Advisors, LLC Buys PIMCO Enhanced Short Maturity Active Exchange-Trad, Kimball ...\n",
      "08:58AM   2 Stocks I Bought for 2022\n",
      "08:30AM   Amazon's Big Plan to Win the Labor War\n",
      "08:15AM   DXC to Help Lloyd's & London Market to Digitalize Process\n",
      "07:36AM   Prediction: Amazon Stock Will Be Worth More Than Apple in 10 Years\n",
      "07:20AM   Amazon Stock: What to Expect in 2022 and Beyond\n",
      "06:21AM   3 Cheap Stocks to Buy Right Now\n",
      "05:45AM   3 Reasons to Dip Into Crypto in 2022 -- and 2 Reasons Not To\n",
      "03:10AM   Indian electric van maker for Amazon raises funds\n",
      "Jan-13-22 10:24PM   Amazon Brand Startup Thrasio Launches $500 Million India Push\n",
      "05:51PM   Why Cloudflare Tanked by More Than 13% Today\n",
      "05:38PM   Canandaigua National Corp Buys Amazon.com Inc, American Express Co, S&P Global Inc, Sells ...\n",
      "04:45PM   Why Omicron is a big risk in 2022\n",
      "04:44PM   Amazon is 'hunting three big whales in its retail business': analyst\n",
      "04:00PM   Netflix Needs New Subscribers. Its Korean Playbook Is Its Secret Weapon.\n",
      "03:59PM   Labor Secretary on Amazon union vote: Workers should be able to organize without any interference\n",
      "03:34PM   Why Amazon Stock Traded Lower on Thursday\n",
      "03:18PM   Market check: Nasdaq poised to end three-day streak, tech and health care lag\n",
      "01:56PM   Why Shares of Sea Limited Tanked 8% Today\n",
      "01:38PM   Marotta Asset Management Buys General Dynamics Corp, iShares iBoxx USD Investment Grade ...\n",
      "01:38PM   BlueSky Wealth Advisors, LLC Buys Schwab U.S. ...\n",
      "01:38PM   McGuire Investment Group, LLC Buys SPDR Bloomberg 1-3 Month T-Bill ETF, WisdomTree Floating ...\n",
      "01:38PM   Burt Wealth Advisors Buys iShares MSCI Emerging Markets Asia Index Fund, WisdomTree Yield ...\n",
      "01:17PM   Labor market may soon be flush with workers\n",
      "12:49PM   Earnings: Margins are going to be under attack in Q1, strategist says\n",
      "12:47PM   3 mega-cap tech stocks that will gain big as interest rates rise: analyst\n",
      "12:19PM   Kohl's is 'another show-me story': analyst\n",
      "10:21AM   Should Companies Approach the Buy Now, Pay Later Craze With Caution?\n",
      "10:13AM   Workers should be able to organize without any interference: U.S. Labor Secretary\n",
      "10:12AM   Would You Give a Stock as a Gift?\n",
      "10:10AM   Amazon is hunting three big whales in its retail business: Analyst\n",
      "09:52AM   Better Buy: Tesla or Equal Parts of Lucid, Rivian, Nio, and Ford?\n",
      "09:10AM   Is Snowflake Stock A Buy Amid Software Sector Volatility?\n",
      "09:00AM   4 Reasons to Invest in Nvidia's AI in 2022\n",
      "08:30AM   Down 55% From Its High, Is UiPath Stock a Smart Buy?\n",
      "07:26AM   MasterCard and Visa fee rises unwarranted, says UK Treasury\n",
      "07:05AM   Better Buy: Microsoft vs. Alphabet\n",
      "06:10AM   Where Will Zoom Video Communications Be in 3 Years?\n",
      "06:01AM   Heres why a star fund manager just sold his entire stake in Amazon.com\n",
      "05:30AM   3 Investments You'll Thank Yourself for by the End of 2022\n",
      "Jan-12-22 09:38PM   Mountain Capital Investment Advisors, Inc Buys BTC iShares MSCI EAFE Value ETF, BTC iShares ...\n",
      "07:42PM   Why HubSpot Gained 66.3% in 2021\n",
      "07:14PM   These Stocks Would Make Great Gifts\n",
      "07:01PM   Facebook and Twitter failing to tackle fake review factories, says Which?\n",
      "05:38PM   Bridge Creek Capital Management LLC Buys Amazon. ...\n",
      "05:37PM   Amazon elevates cloud division cybersecurity chief to elite 'S-team'\n",
      "04:52PM   Here's What Investors Need to Know About Amazon's Acquisition of MGM Studios\n",
      "04:38PM   This year you could see equity market vigilantes reining in the Fed: Comerica CIO\n",
      "03:59PM   Retailers' digital transformations are moving from scrappy to scale,' Salesforce VP explains\n",
      "02:49PM   Microsoft Hires Key Apple Engineer to Work on Custom Chips\n",
      "02:38PM   The Best Drone Stocks For Today  And The Future\n",
      "01:38PM   Town & Country Bank & Trust CO dba First Bankers T Buys Danaher Corp, iShares Core 1-5 ...\n",
      "01:38PM   Heartwood Wealth Advisors LLC Buys SPDR Portfolio S&P 500 High Dividend ETF, iShares MSCI ...\n",
      "01:14PM   Amazon must improve this if it wants the stock price to go up: analyst\n",
      "11:46AM   7 best VPN services for streaming securely in 2022\n",
      "10:55AM   Shark Tanks Kevin OLeary thinks 2022 is the year of NFTs\n",
      "10:25AM   Why grocery stores are struggling to fill empty shelves\n"
     ]
    }
   ],
   "source": [
    "for index, row in enumerate (amzn_rows):\n",
    "    title = row.a.text \n",
    "    Timestamp = row.td.text\n",
    "    print (Timestamp + \" \" + title)"
   ]
  },
  {
   "cell_type": "code",
   "execution_count": 35,
   "metadata": {},
   "outputs": [],
   "source": [
    "parsed_data = []"
   ]
  },
  {
   "cell_type": "code",
   "execution_count": 36,
   "metadata": {},
   "outputs": [
    {
     "name": "stdout",
     "output_type": "stream",
     "text": [
      "[['AMZN', 'Jan-17-22', '01:01PM\\xa0\\xa0', '11 Best Delivery Stocks To Buy Now'], ['AMZN', 'Jan-17-22', '11:58AM\\xa0\\xa0', '835 Reasons to Invest in Netflix Stock Right Now'], ['AMZN', 'Jan-17-22', '10:46AM\\xa0\\xa0', 'Amazon reverses decision to ban customers from using Visa credit cards'], ['AMZN', 'Jan-17-22', '10:45AM\\xa0\\xa0', 'Amazon will continue to accept Visa credit cards in the UKfor now'], ['AMZN', 'Jan-17-22', '09:47AM\\xa0\\xa0', 'VPN deals for January: Pay less for privacy with discounts on ExpressVPN, NordVPN and more'], ['AMZN', 'Jan-17-22', '08:48AM\\xa0\\xa0', 'Fundsmith LLP: The Purchase of Amazon (AMZN) has Attracted a Lot of Attention'], ['AMZN', 'Jan-17-22', '08:45AM\\xa0\\xa0', 'Should You Consider Investing in Amazon (AMZN)?'], ['AMZN', 'Jan-17-22', '08:45AM\\xa0\\xa0', \"Here's an Under-the-Radar Strategy for Picking Winning Retail Real Estate Investment Trusts\"], ['AMZN', 'Jan-17-22', '08:25AM\\xa0\\xa0', 'Tech Stocks Roundup: Well-Known Value Investor Likes Google, Meta, Netflix'], ['AMZN', 'Jan-17-22', '07:58AM\\xa0\\xa0', 'Amazon Scraps Plan to Stop Accepting Visas U.K. Credit Card'], ['AMZN', 'Jan-17-22', '07:09AM\\xa0\\xa0', \"Musk and Bezos among world's 10 richest men who doubled their wealth in pandemic\"], ['AMZN', 'Jan-17-22', '07:00AM\\xa0\\xa0', \"4 Robots That Can Shape the Future of Amazon's Fulfillment Centers\"], ['AMZN', 'Jan-17-22', '06:35AM\\xa0\\xa0', 'Reversing stance, Amazon says it will keep accepting Visa credit cards in the U.K.'], ['AMZN', 'Jan-17-22', '06:30AM\\xa0\\xa0', \"Can 2021's Best-Performing FAANG Stock Do It Again in 2022?\"], ['AMZN', 'Jan-17-22', '06:15AM\\xa0\\xa0', '2 Top Bargain Stocks Ready for a Bull Run'], ['AMZN', 'Jan-17-22', '06:10AM\\xa0\\xa0', 'Rivian Stock Just Fell Below its IPO Price of $78 Per Share: Time to Buy?'], ['AMZN', 'Jan-17-22', '06:02AM\\xa0\\xa0', 'Amazon U-turns on decision to scrap Visa credit cards in UK'], ['AMZN', 'Jan-17-22', '05:52AM\\xa0\\xa0', '3 Unstoppable Stocks That Can Beat Bitcoin in 2022'], ['AMZN', 'Jan-16-22', '08:40AM\\xa0\\xa0', \"$15 minimum wage opposition 'doesn't make any sense to me,' Labor Secretary Walsh says\"], ['AMZN', 'Jan-16-22', '08:00AM\\xa0\\xa0', 'Now Is a Great Buying Opportunity for This Giant Fintech Stock'], ['AMZN', 'Jan-16-22', '07:53AM\\xa0\\xa0', 'Amazon Challenges SpaceX in Space'], ['AMZN', 'Jan-16-22', '07:47AM\\xa0\\xa0', '3 Top E-Commerce Stocks to Buy in January'], ['AMZN', 'Jan-16-22', '07:17AM\\xa0\\xa0', 'MercadoLibre Stock: Bear vs. Bull'], ['AMZN', 'Jan-15-22', '07:06PM\\xa0\\xa0', 'Whole Foods Stands By Decision to Ban Employees From Wearing BLM Masks While At Work'], ['AMZN', 'Jan-15-22', '09:15AM\\xa0\\xa0', 'The AI Stock That Should Be High on Your 2022 Watch List'], ['AMZN', 'Jan-15-22', '09:15AM\\xa0\\xa0', 'My Top Fintech Stock to Buy in 2022'], ['AMZN', 'Jan-15-22', '08:45AM\\xa0\\xa0', '2 Top Tech Stocks to Buy for the Long Haul'], ['AMZN', 'Jan-15-22', '08:32AM\\xa0\\xa0', 'Better Buy Now: Lucid Up 20% or Rivian Down 20%?'], ['AMZN', 'Jan-15-22', '08:15AM\\xa0\\xa0', 'Should You Invest in the Metaverse or Is This an Overhyped Buzzword to Avoid?'], ['AMZN', 'Jan-15-22', '07:45AM\\xa0\\xa0', 'Buy This Stock, Not That One: 2022 Edition'], ['AMZN', 'Jan-15-22', '07:30AM\\xa0\\xa0', 'Is This Tech Stock the Square of Cloud Computing?'], ['AMZN', 'Jan-15-22', '06:37AM\\xa0\\xa0', 'After an IPO-Day Rocket Ride, Can Hour Loop Maintain Its Mojo?'], ['AMZN', 'Jan-14-22', '05:54PM\\xa0\\xa0', 'Why DigitalOcean Stock Tanked 9% Today'], ['AMZN', 'Jan-14-22', '05:09PM\\xa0\\xa0', \"'Scream' hits theaters, Netflix raises prices\"], ['AMZN', 'Jan-14-22', '04:17PM\\xa0\\xa0', 'Crypto job openings surge 395% in a year, with Miami, Austin and Denver emerging as new hubs'], ['AMZN', 'Jan-14-22', '02:42PM\\xa0\\xa0', 'E-Commerce Startup Bolt Nearly Doubles Valuation to $11 Billion'], ['AMZN', 'Jan-14-22', '02:42PM\\xa0\\xa0', \"TBJ Plus: Raleigh rates high for friendliness; Shortages slam Chapel Hill's Sutton's; Girl Scout cookies ahead\"], ['AMZN', 'Jan-14-22', '01:38PM\\xa0\\xa0', 'HighTower Trust Services, LTA Buys Amazon. ...'], ['AMZN', 'Jan-14-22', '12:27PM\\xa0\\xa0', 'Market check: Stocks choppy in intraday trading, tech stocks turn green'], ['AMZN', 'Jan-14-22', '12:05PM\\xa0\\xa0', 'Data-driven digital business is in its first chapter, NetApp CEO says'], ['AMZN', 'Jan-14-22', '11:30AM\\xa0\\xa0', 'Should You Buy Chewy Stock Before It Goes Back Up?'], ['AMZN', 'Jan-14-22', '11:05AM\\xa0\\xa0', 'Is Amazon Stock A Buy Right Now As Epic Battle With Walmart Escalates'], ['AMZN', 'Jan-14-22', '09:38AM\\xa0\\xa0', 'Access Financial Services, Inc. Buys BTC iShares U.S. ...'], ['AMZN', 'Jan-14-22', '09:38AM\\xa0\\xa0', 'BKD Wealth Advisors, LLC Buys PIMCO Enhanced Short Maturity Active Exchange-Trad, Kimball ...'], ['AMZN', 'Jan-14-22', '08:58AM\\xa0\\xa0', '2 Stocks I Bought for 2022'], ['AMZN', 'Jan-14-22', '08:30AM\\xa0\\xa0', \"Amazon's Big Plan to Win the Labor War\"], ['AMZN', 'Jan-14-22', '08:15AM\\xa0\\xa0', \"DXC to Help Lloyd's & London Market to Digitalize Process\"], ['AMZN', 'Jan-14-22', '07:36AM\\xa0\\xa0', 'Prediction: Amazon Stock Will Be Worth More Than Apple in 10 Years'], ['AMZN', 'Jan-14-22', '07:20AM\\xa0\\xa0', 'Amazon Stock: What to Expect in 2022 and Beyond'], ['AMZN', 'Jan-14-22', '06:21AM\\xa0\\xa0', '3 Cheap Stocks to Buy Right Now'], ['AMZN', 'Jan-14-22', '05:45AM\\xa0\\xa0', '3 Reasons to Dip Into Crypto in 2022 -- and 2 Reasons Not To'], ['AMZN', 'Jan-14-22', '03:10AM\\xa0\\xa0', 'Indian electric van maker for Amazon raises funds'], ['AMZN', 'Jan-13-22', '10:24PM\\xa0\\xa0', 'Amazon Brand Startup Thrasio Launches $500 Million India Push'], ['AMZN', 'Jan-13-22', '05:51PM\\xa0\\xa0', 'Why Cloudflare Tanked by More Than 13% Today'], ['AMZN', 'Jan-13-22', '05:38PM\\xa0\\xa0', 'Canandaigua National Corp Buys Amazon.com Inc, American Express Co, S&P Global Inc, Sells ...'], ['AMZN', 'Jan-13-22', '04:45PM\\xa0\\xa0', 'Why Omicron is a big risk in 2022'], ['AMZN', 'Jan-13-22', '04:44PM\\xa0\\xa0', \"Amazon is 'hunting three big whales in its retail business': analyst\"], ['AMZN', 'Jan-13-22', '04:00PM\\xa0\\xa0', 'Netflix Needs New Subscribers. Its Korean Playbook Is Its Secret Weapon.'], ['AMZN', 'Jan-13-22', '03:59PM\\xa0\\xa0', 'Labor Secretary on Amazon union vote: Workers should be able to organize without any interference'], ['AMZN', 'Jan-13-22', '03:34PM\\xa0\\xa0', 'Why Amazon Stock Traded Lower on Thursday'], ['AMZN', 'Jan-13-22', '03:18PM\\xa0\\xa0', 'Market check: Nasdaq poised to end three-day streak, tech and health care lag'], ['AMZN', 'Jan-13-22', '01:56PM\\xa0\\xa0', 'Why Shares of Sea Limited Tanked 8% Today'], ['AMZN', 'Jan-13-22', '01:38PM\\xa0\\xa0', 'Marotta Asset Management Buys General Dynamics Corp, iShares iBoxx USD Investment Grade ...'], ['AMZN', 'Jan-13-22', '01:38PM\\xa0\\xa0', 'BlueSky Wealth Advisors, LLC Buys Schwab U.S. ...'], ['AMZN', 'Jan-13-22', '01:38PM\\xa0\\xa0', 'McGuire Investment Group, LLC Buys SPDR Bloomberg 1-3 Month T-Bill ETF, WisdomTree Floating ...'], ['AMZN', 'Jan-13-22', '01:38PM\\xa0\\xa0', 'Burt Wealth Advisors Buys iShares MSCI Emerging Markets Asia Index Fund, WisdomTree Yield ...'], ['AMZN', 'Jan-13-22', '01:17PM\\xa0\\xa0', 'Labor market may soon be flush with workers'], ['AMZN', 'Jan-13-22', '12:49PM\\xa0\\xa0', 'Earnings: Margins are going to be under attack in Q1, strategist says'], ['AMZN', 'Jan-13-22', '12:47PM\\xa0\\xa0', '3 mega-cap tech stocks that will gain big as interest rates rise: analyst'], ['AMZN', 'Jan-13-22', '12:19PM\\xa0\\xa0', \"Kohl's is 'another show-me story': analyst\"], ['AMZN', 'Jan-13-22', '10:21AM\\xa0\\xa0', 'Should Companies Approach the Buy Now, Pay Later Craze With Caution?'], ['AMZN', 'Jan-13-22', '10:13AM\\xa0\\xa0', 'Workers should be able to organize without any interference: U.S. Labor Secretary'], ['AMZN', 'Jan-13-22', '10:12AM\\xa0\\xa0', 'Would You Give a Stock as a Gift?'], ['AMZN', 'Jan-13-22', '10:10AM\\xa0\\xa0', 'Amazon is hunting three big whales in its retail business: Analyst'], ['AMZN', 'Jan-13-22', '09:52AM\\xa0\\xa0', 'Better Buy: Tesla or Equal Parts of Lucid, Rivian, Nio, and Ford?'], ['AMZN', 'Jan-13-22', '09:10AM\\xa0\\xa0', 'Is Snowflake Stock A Buy Amid Software Sector Volatility?'], ['AMZN', 'Jan-13-22', '09:00AM\\xa0\\xa0', \"4 Reasons to Invest in Nvidia's AI in 2022\"], ['AMZN', 'Jan-13-22', '08:30AM\\xa0\\xa0', 'Down 55% From Its High, Is UiPath Stock a Smart Buy?'], ['AMZN', 'Jan-13-22', '07:26AM\\xa0\\xa0', 'MasterCard and Visa fee rises unwarranted, says UK Treasury'], ['AMZN', 'Jan-13-22', '07:05AM\\xa0\\xa0', 'Better Buy: Microsoft vs. Alphabet'], ['AMZN', 'Jan-13-22', '06:10AM\\xa0\\xa0', 'Where Will Zoom Video Communications Be in 3 Years?'], ['AMZN', 'Jan-13-22', '06:01AM\\xa0\\xa0', 'Heres why a star fund manager just sold his entire stake in Amazon.com'], ['AMZN', 'Jan-13-22', '05:30AM\\xa0\\xa0', \"3 Investments You'll Thank Yourself for by the End of 2022\"], ['AMZN', 'Jan-12-22', '09:38PM\\xa0\\xa0', 'Mountain Capital Investment Advisors, Inc Buys BTC iShares MSCI EAFE Value ETF, BTC iShares ...'], ['AMZN', 'Jan-12-22', '07:42PM\\xa0\\xa0', 'Why HubSpot Gained 66.3% in 2021'], ['AMZN', 'Jan-12-22', '07:14PM\\xa0\\xa0', 'These Stocks Would Make Great Gifts'], ['AMZN', 'Jan-12-22', '07:01PM\\xa0\\xa0', 'Facebook and Twitter failing to tackle fake review factories, says Which?'], ['AMZN', 'Jan-12-22', '05:38PM\\xa0\\xa0', 'Bridge Creek Capital Management LLC Buys Amazon. ...'], ['AMZN', 'Jan-12-22', '05:37PM\\xa0\\xa0', \"Amazon elevates cloud division cybersecurity chief to elite 'S-team'\"], ['AMZN', 'Jan-12-22', '04:52PM\\xa0\\xa0', \"Here's What Investors Need to Know About Amazon's Acquisition of MGM Studios\"], ['AMZN', 'Jan-12-22', '04:38PM\\xa0\\xa0', 'This year you could see equity market vigilantes reining in the Fed: Comerica CIO'], ['AMZN', 'Jan-12-22', '03:59PM\\xa0\\xa0', \"Retailers' digital transformations are moving from scrappy to scale,' Salesforce VP explains\"], ['AMZN', 'Jan-12-22', '02:49PM\\xa0\\xa0', 'Microsoft Hires Key Apple Engineer to Work on Custom Chips'], ['AMZN', 'Jan-12-22', '02:38PM\\xa0\\xa0', 'The Best Drone Stocks For Today  And The Future'], ['AMZN', 'Jan-12-22', '01:38PM\\xa0\\xa0', 'Town & Country Bank & Trust CO dba First Bankers T Buys Danaher Corp, iShares Core 1-5 ...'], ['AMZN', 'Jan-12-22', '01:38PM\\xa0\\xa0', 'Heartwood Wealth Advisors LLC Buys SPDR Portfolio S&P 500 High Dividend ETF, iShares MSCI ...'], ['AMZN', 'Jan-12-22', '01:14PM\\xa0\\xa0', 'Amazon must improve this if it wants the stock price to go up: analyst'], ['AMZN', 'Jan-12-22', '11:46AM\\xa0\\xa0', '7 best VPN services for streaming securely in 2022'], ['AMZN', 'Jan-12-22', '10:55AM\\xa0\\xa0', 'Shark Tanks Kevin OLeary thinks 2022 is the year of NFTs'], ['AMZN', 'Jan-12-22', '10:25AM\\xa0\\xa0', 'Why grocery stores are struggling to fill empty shelves'], ['GOOG', 'Jan-17-22', '04:00PM\\xa0\\xa0', 'Jefferies: 3 top internet stocks for 2022 with as much as 40% upside'], ['GOOG', 'Jan-17-22', '11:34AM\\xa0\\xa0', '10 Cryptocurrencies Reddit is Buying for the Next Bull Run'], ['GOOG', 'Jan-17-22', '09:27AM\\xa0\\xa0', 'J.B. Hunt (JBHT)-Waymo Ink Deal, Aim to Fully Automate Trucks'], ['GOOG', 'Jan-17-22', '08:25AM\\xa0\\xa0', 'Tech Stocks Roundup: Well-Known Value Investor Likes Google, Meta, Netflix'], ['GOOG', 'Jan-17-22', '07:16AM\\xa0\\xa0', '6 best outdoor security cameras: Weatherproof devices for the ultimate peace of mind'], ['GOOG', 'Jan-17-22', '07:09AM\\xa0\\xa0', \"Musk and Bezos among world's 10 richest men who doubled their wealth in pandemic\"], ['GOOG', 'Jan-17-22', '06:45AM\\xa0\\xa0', \"3 Stocks I'm Buying During a Tech Stock Correction\"], ['GOOG', 'Jan-17-22', '06:30AM\\xa0\\xa0', \"Can 2021's Best-Performing FAANG Stock Do It Again in 2022?\"], ['GOOG', 'Jan-17-22', '04:45AM\\xa0\\xa0', 'Russia fines Google for not deleting banned content'], ['GOOG', 'Jan-17-22', '04:38AM\\xa0\\xa0', 'Russia fines Google for not deleting banned content'], ['GOOG', 'Jan-16-22', '07:00PM\\xa0\\xa0', 'Betty Whites 100th Birthday Celebrated by Google With Search Easter Egg'], ['GOOG', 'Jan-16-22', '08:13AM\\xa0\\xa0', 'Could Nvidia Be a Great Stock to Buy in 2022?'], ['GOOG', 'Jan-15-22', '08:15AM\\xa0\\xa0', 'Even After Big Price Cuts, These Tech Stocks Are No Bargains'], ['GOOG', 'Jan-14-22', '09:38PM\\xa0\\xa0', 'Gateway Advisory, LLC Buys BTC BlackRock Ultra Short-Term Bond ETF, Invesco DWA Momentum ETF, ...'], ['GOOG', 'Jan-14-22', '07:18PM\\xa0\\xa0', 'Google and Facebook CEOs colluded in online-ad sales scheme, unredacted antitrust lawsuit alleges'], ['GOOG', 'Jan-14-22', '06:18PM\\xa0\\xa0', 'Google is mandating temporary Covid-19 testing at its U.S. offices'], ['GOOG', 'Jan-14-22', '05:49PM\\xa0\\xa0', 'UPDATE 1-Google mandates weekly COVID-19 tests for people entering U.S. offices'], ['GOOG', 'Jan-14-22', '05:38PM\\xa0\\xa0', 'Butensky & Cohen Financial Security, Inc Buys Atmos Energy Corp, Micron Technology Inc, MSC ...'], ['GOOG', 'Jan-14-22', '05:38PM\\xa0\\xa0', 'Garrett Investment Advisors LLC Buys Vanguard Total Stock Market ETF, Vanguard FTSE Developed ...'], ['GOOG', 'Jan-14-22', '05:27PM\\xa0\\xa0', 'Google mandates weekly COVID-19 tests for people entering U.S. offices'], ['GOOG', 'Jan-14-22', '05:21PM\\xa0\\xa0', 'Spotify Pressured by 270 Scientists, Medical Professionals Over Joe Rogan Episode'], ['GOOG', 'Jan-14-22', '04:50PM\\xa0\\xa0', 'Google Misled Publishers and Advertisers, Unredacted Lawsuit Alleges'], ['GOOG', 'Jan-14-22', '03:05PM\\xa0\\xa0', 'Google CEO Approved Illegal Ad Deal With Facebook, States Claim'], ['GOOG', 'Jan-14-22', '02:31PM\\xa0\\xa0', 'Metas Oculus Unit Faces FTC-Led Probe of Competition Practices'], ['GOOG', 'Jan-14-22', '01:38PM\\xa0\\xa0', 'John W. Brooker & Co., CPAs Buys Vanguard Ultra-Short Bond ETF, iShares MSCI ACWI Index ...'], ['GOOG', 'Jan-14-22', '12:44PM\\xa0\\xa0', 'Jan. 6 committee subpoenas Google, Facebook, Twitter, Reddit'], ['GOOG', 'Jan-14-22', '12:36PM\\xa0\\xa0', 'Waymo and Trucker J.B. Hunt Partner Up. This Isnt Just About Self-Driving Vehicles.'], ['GOOG', 'Jan-14-22', '12:31PM\\xa0\\xa0', 'UPDATE 2-Facebook, Google CEOs aware of formal advertising market deal -- court filing'], ['GOOG', 'Jan-14-22', '12:29PM\\xa0\\xa0', 'Waymo, J.B. Hunt Sign Deal for Self-Driving Trucks in Texas'], ['GOOG', 'Jan-14-22', '12:27PM\\xa0\\xa0', 'Market check: Stocks choppy in intraday trading, tech stocks turn green'], ['GOOG', 'Jan-14-22', '12:05PM\\xa0\\xa0', 'Data-driven digital business is in its first chapter, NetApp CEO says'], ['GOOG', 'Jan-14-22', '11:23AM\\xa0\\xa0', 'Facebook, Google CEOs aware of formal advertising market deal -- court filing'], ['GOOG', 'Jan-14-22', '11:01AM\\xa0\\xa0', 'Apples New VR/AR Headset Risks Being Delayed Until 2023'], ['GOOG', 'Jan-14-22', '11:01AM\\xa0\\xa0', 'Top 10 Stock Picks of John Armitages Egerton Capital'], ['GOOG', 'Jan-14-22', '10:48AM\\xa0\\xa0', 'Is Google About to Accelerate Development of the Quantum Computing Industry?'], ['GOOG', 'Jan-14-22', '09:09AM\\xa0\\xa0', 'Waymo, J.B. Hunt expand tie-up to commercialize autonomous trucking technology'], ['GOOG', 'Jan-14-22', '09:01AM\\xa0\\xa0', 'Senator John Hickenlooper Latest Portfolio: 8 Stocks to Watch'], ['GOOG', 'Jan-14-22', '09:00AM\\xa0\\xa0', 'Waymo, J.B. Hunt expand tie-up to commercialize autonomous trucking technology'], ['GOOG', 'Jan-14-22', '08:49AM\\xa0\\xa0', 'Is Alphabet (GOOG) A Great Stock Pick for the Long-Term?'], ['GOOG', 'Jan-14-22', '08:18AM\\xa0\\xa0', 'House select committee investigating Capitol riot subpoenas Google, Facebook, Twitter, Reddit'], ['GOOG', 'Jan-14-22', '08:09AM\\xa0\\xa0', 'Can Spotify Become the Next Google?'], ['GOOG', 'Jan-14-22', '07:36AM\\xa0\\xa0', 'Prediction: Amazon Stock Will Be Worth More Than Apple in 10 Years'], ['GOOG', 'Jan-14-22', '07:27AM\\xa0\\xa0', 'Types of Stocks'], ['GOOG', 'Jan-14-22', '07:05AM\\xa0\\xa0', '2 Monster Metaverse Stocks to Buy for the Long Haul'], ['GOOG', 'Jan-14-22', '07:00AM\\xa0\\xa0', '4 Reasons Meta Platforms Is Poised to Grow in 2022'], ['GOOG', 'Jan-14-22', '03:33AM\\xa0\\xa0', 'UPDATE 1-Google shows faith in office with $1 billion London deal'], ['GOOG', 'Jan-14-22', '02:52AM\\xa0\\xa0', 'Google shows faith in office with $1 billion London deal'], ['GOOG', 'Jan-14-22', '02:48AM\\xa0\\xa0', 'Google buys London site for $1 billion'], ['GOOG', 'Jan-14-22', '12:05AM\\xa0\\xa0', 'Oakmark Funds: We See a Strong Analogy to Netflix (NFLX) Today'], ['GOOG', 'Jan-13-22', '08:25PM\\xa0\\xa0', 'Twitter, Meta Among Companies Subpoenaed in House Riot Probe'], ['GOOG', 'Jan-13-22', '08:18PM\\xa0\\xa0', 'Google announces £762m investment to buy UK office site'], ['GOOG', 'Jan-13-22', '04:06PM\\xa0\\xa0', \"Gamestop and AMC up to 2022 'greatest win in retail trading history': 40 Finance host\"], ['GOOG', 'Jan-13-22', '03:46PM\\xa0\\xa0', 'Jan. 6 Committee Subpoenas Facebook, Twitter, Google and Reddit'], ['GOOG', 'Jan-13-22', '03:18PM\\xa0\\xa0', 'Market check: Nasdaq poised to end three-day streak, tech and health care lag'], ['GOOG', 'Jan-13-22', '02:39PM\\xa0\\xa0', 'Why Shopify Stock Cratered on Thursday'], ['GOOG', 'Jan-13-22', '01:38PM\\xa0\\xa0', 'Several Pittsburgh companies make 2022 JUST Capital rankings'], ['GOOG', 'Jan-13-22', '12:49PM\\xa0\\xa0', 'Earnings: Margins are going to be under attack in Q1, strategist says'], ['GOOG', 'Jan-13-22', '12:47PM\\xa0\\xa0', '3 mega-cap tech stocks that will gain big as interest rates rise: analyst'], ['GOOG', 'Jan-13-22', '12:06PM\\xa0\\xa0', '10 Energy Dividend Stocks to Buy According to Billionaire Jim Simons Portfolio'], ['GOOG', 'Jan-13-22', '11:03AM\\xa0\\xa0', 'S&P 500 Slides as Tech Rally Fizzles'], ['GOOG', 'Jan-13-22', '10:50AM\\xa0\\xa0', 'S&P 500 Stumbles as Tech Wreck Resumes'], ['GOOG', 'Jan-13-22', '10:13AM\\xa0\\xa0', 'Workers should be able to organize without any interference: U.S. Labor Secretary'], ['GOOG', 'Jan-13-22', '09:30AM\\xa0\\xa0', 'Is Salesforce Stock A Buy? Software Growth Stocks Under Pressure'], ['GOOG', 'Jan-13-22', '09:20AM\\xa0\\xa0', 'Is Google Stock A Buy As Nasdaq, Technology Sector Struggle?'], ['GOOG', 'Jan-13-22', '09:15AM\\xa0\\xa0', 'Heres Why You Should Think About Investing in Alphabet (GOOG)'], ['GOOG', 'Jan-13-22', '09:10AM\\xa0\\xa0', 'Is Snowflake Stock A Buy Amid Software Sector Volatility?'], ['GOOG', 'Jan-13-22', '09:00AM\\xa0\\xa0', \"4 Reasons to Invest in Nvidia's AI in 2022\"], ['GOOG', 'Jan-13-22', '08:00AM\\xa0\\xa0', '7 Amazing Companies to Watch in 2022'], ['GOOG', 'Jan-13-22', '07:05AM\\xa0\\xa0', 'Better Buy: Microsoft vs. Alphabet'], ['GOOG', 'Jan-13-22', '06:10AM\\xa0\\xa0', 'Where Will Zoom Video Communications Be in 3 Years?'], ['GOOG', 'Jan-13-22', '05:06AM\\xa0\\xa0', 'Google will finally make smart watches better for left-handed people - but only if you buy a new one'], ['GOOG', 'Jan-13-22', '05:02AM\\xa0\\xa0', 'White House will meet execs from Apple, Amazon, IBM to discuss software security'], ['GOOG', 'Jan-12-22', '08:29PM\\xa0\\xa0', 'House Leaders Near Agreement on Stalled China Competition Bill'], ['GOOG', 'Jan-12-22', '08:10PM\\xa0\\xa0', 'YouTube allows misinformation to thrive, fact-checkers say'], ['GOOG', 'Jan-12-22', '05:38PM\\xa0\\xa0', 'Stonnington Group, Llc Buys Microsoft Corp, The Home Depot Inc, UnitedHealth Group Inc, Sells ...'], ['GOOG', 'Jan-12-22', '05:38PM\\xa0\\xa0', 'White Lighthouse Investment Management Inc. ...'], ['GOOG', 'Jan-12-22', '03:52PM\\xa0\\xa0', 'Alphabet (GOOGL) Boosts Workspace Efforts with New Updates'], ['GOOG', 'Jan-12-22', '03:13PM\\xa0\\xa0', 'Video Highlights  Big Data, Privacy & Advertising: System1 Founder & CEO in Fireside Chat'], ['GOOG', 'Jan-12-22', '02:49PM\\xa0\\xa0', 'Microsoft Hires Key Apple Engineer to Work on Custom Chips'], ['GOOG', 'Jan-12-22', '02:38PM\\xa0\\xa0', 'The Best Drone Stocks For Today  And The Future'], ['GOOG', 'Jan-12-22', '02:31PM\\xa0\\xa0', 'Nancy Pelosi Latest Portfolio: 5 Stocks to Watch'], ['GOOG', 'Jan-12-22', '01:38PM\\xa0\\xa0', 'Eastover Investment Advisors LLC Buys Royal Dutch Shell PLC, iShares Core U.S. ...'], ['GOOG', 'Jan-12-22', '01:14PM\\xa0\\xa0', 'Amazon must improve this if it wants the stock price to go up: analyst'], ['GOOG', 'Jan-12-22', '11:01AM\\xa0\\xa0', '10 Stocks to Buy According to David Fears Thunderbird Partners'], ['GOOG', 'Jan-12-22', '10:55AM\\xa0\\xa0', 'Shark Tanks Kevin OLeary thinks 2022 is the year of NFTs'], ['GOOG', 'Jan-12-22', '09:51AM\\xa0\\xa0', '10 Tech Stocks to Buy According to Select Equity Group'], ['GOOG', 'Jan-12-22', '09:38AM\\xa0\\xa0', 'Hikari Power Ltd Buys Alphabet Inc, Vanguard Health Care ETF, Bristol-Myers Squibb Co, Sells ...'], ['GOOG', 'Jan-12-22', '08:00AM\\xa0\\xa0', 'How To Trade Stocks: Breakout From Bottoming Base Yielded Ideal Entry For This FANG Stock'], ['GOOG', 'Jan-12-22', '08:00AM\\xa0\\xa0', 'Magic Leap Goes After Medical Customers With Augmented Reality Headset'], ['GOOG', 'Jan-12-22', '08:00AM\\xa0\\xa0', 'CrowdStrike Stock: Bear vs. Bull'], ['GOOG', 'Jan-12-22', '07:41AM\\xa0\\xa0', 'UPDATE 1-Watchdog says Google offers to exclude Showcase from general searches in Germany'], ['GOOG', 'Jan-12-22', '05:52AM\\xa0\\xa0', '2 Cryptocurrencies That Have Trounced Bitcoin and Shiba Inu During the Crypto Crash'], ['GOOG', 'Jan-12-22', '04:56AM\\xa0\\xa0', 'Watchdog says Google offers to exclude Showcase from general searches in Germany'], ['GOOG', 'Jan-12-22', '03:37AM\\xa0\\xa0', '10 best wifi boosters and extenders for a reliable connection throughout your home'], ['GOOG', 'Jan-11-22', '08:00PM\\xa0\\xa0', \"Investor Highlights: Square's Acquisition of Afterpay\"], ['GOOG', 'Jan-11-22', '05:51PM\\xa0\\xa0', 'These Are The Best Robinhood Stocks To Buy Or Watch Now'], ['GOOG', 'Jan-11-22', '05:46PM\\xa0\\xa0', 'Googles Staff Get Pricey Fast Covid Tests While Contractors Wait'], ['GOOG', 'Jan-11-22', '04:28PM\\xa0\\xa0', 'Market check: Nasdaq stocks stage comeback, Dow and S&P 500 close near all-time highs'], ['GOOG', 'Jan-11-22', '03:18PM\\xa0\\xa0', 'Amazon (AMZN) Boosts AWS Portfolio with New EC2 Instances'], ['GOOG', 'Jan-11-22', '02:29PM\\xa0\\xa0', 'Market strategist: The issue with tech stocks is simply one of valuation'], ['FB', 'Jan-17-22', '04:00PM\\xa0\\xa0', 'Jefferies: 3 top internet stocks for 2022 with as much as 40% upside'], ['FB', 'Jan-17-22', '10:10AM\\xa0\\xa0', 'These Are The 5 Best Stocks To Buy And Watch Now'], ['FB', 'Jan-17-22', '08:25AM\\xa0\\xa0', 'Tech Stocks Roundup: Well-Known Value Investor Likes Google, Meta, Netflix'], ['FB', 'Jan-17-22', '07:09AM\\xa0\\xa0', \"Musk and Bezos among world's 10 richest men who doubled their wealth in pandemic\"], ['FB', 'Jan-17-22', '06:30AM\\xa0\\xa0', \"Can 2021's Best-Performing FAANG Stock Do It Again in 2022?\"], ['FB', 'Jan-16-22', '06:22PM\\xa0\\xa0', 'Rescued Texas rabbi says hostage-taker was increasingly belligerent'], ['FB', 'Jan-16-22', '07:45AM\\xa0\\xa0', \"3 Top Metaverse Stocks I'd Buy Right Now Without Any Hesitation\"], ['FB', 'Jan-15-22', '08:15AM\\xa0\\xa0', 'Should You Invest in the Metaverse or Is This an Overhyped Buzzword to Avoid?'], ['FB', 'Jan-15-22', '07:45AM\\xa0\\xa0', 'Buy This Stock, Not That One: 2022 Edition'], ['FB', 'Jan-14-22', '09:38PM\\xa0\\xa0', 'Powell Investment Advisors, LLC Buys SVF Investment Corp, Meta Platforms Inc, Vanguard Large ...'], ['FB', 'Jan-14-22', '07:32PM\\xa0\\xa0', \"48 state AGs appeal court's dismissal of their Facebook antitrust suit\"], ['FB', 'Jan-14-22', '07:18PM\\xa0\\xa0', 'Google and Facebook CEOs colluded in online-ad sales scheme, unredacted antitrust lawsuit alleges'], ['FB', 'Jan-14-22', '07:03PM\\xa0\\xa0', \"Facebook's VR Oculus business probed by U.S. states\"], ['FB', 'Jan-14-22', '06:04PM\\xa0\\xa0', 'Note to Zuckerberg: META Stock Ticker Will Soon Be Available'], ['FB', 'Jan-14-22', '05:38PM\\xa0\\xa0', 'Santori & Peters, Inc. Buys SPDR Portfolio S&P 500 ETF, Procter & Gamble Co, Schwab ...'], ['FB', 'Jan-14-22', '05:38PM\\xa0\\xa0', 'Baxter Bros Inc Buys Meta Platforms Inc, Activision Blizzard Inc, Chevron Corp, Sells Adobe ...'], ['FB', 'Jan-14-22', '05:38PM\\xa0\\xa0', 'Beam Wealth Advisors, Inc. Buys JPMorgan Short Duration Core Plus ETF, Glacier Bancorp Inc, ...'], ['FB', 'Jan-14-22', '05:21PM\\xa0\\xa0', 'Spotify Pressured by 270 Scientists, Medical Professionals Over Joe Rogan Episode'], ['FB', 'Jan-14-22', '05:09PM\\xa0\\xa0', \"Creator who worked with Beyonce wants 'a metaverse your grandmother can understand'\"], ['FB', 'Jan-14-22', '04:17PM\\xa0\\xa0', 'Crypto job openings surge 395% in a year, with Miami, Austin and Denver emerging as new hubs'], ['FB', 'Jan-14-22', '04:01PM\\xa0\\xa0', 'UPDATE 3-States ask U.S. court to reinstate Facebook antitrust lawsuit'], ['FB', 'Jan-14-22', '03:42PM\\xa0\\xa0', 'States ask U.S. court to reinstate Facebook antitrust lawsuit'], ['FB', 'Jan-14-22', '02:53PM\\xa0\\xa0', 'Jan. 6 Panel Zeros In on Big\\xa0Tech'], ['FB', 'Jan-14-22', '02:31PM\\xa0\\xa0', 'Metas Oculus Unit Faces FTC-Led Probe of Competition Practices'], ['FB', 'Jan-14-22', '01:38PM\\xa0\\xa0', 'Strategy Asset Managers Llc Buys Meta Platforms Inc, Broadcom Inc, Cognizant Technology ...'], ['FB', 'Jan-14-22', '12:46PM\\xa0\\xa0', 'Is Roblox Stock A Buy Right Now After Reporting Key November Metrics?'], ['FB', 'Jan-14-22', '12:44PM\\xa0\\xa0', 'Jan. 6 committee subpoenas Google, Facebook, Twitter, Reddit'], ['FB', 'Jan-14-22', '12:31PM\\xa0\\xa0', 'UPDATE 2-Facebook, Google CEOs aware of formal advertising market deal -- court filing'], ['FB', 'Jan-14-22', '11:23AM\\xa0\\xa0', 'Facebook, Google CEOs aware of formal advertising market deal -- court filing'], ['FB', 'Jan-14-22', '11:01AM\\xa0\\xa0', 'Apples New VR/AR Headset Risks Being Delayed Until 2023'], ['FB', 'Jan-14-22', '10:25AM\\xa0\\xa0', 'Meta Platforms (FB) Faces Multibillion-Pound Legal Claim in UK'], ['FB', 'Jan-14-22', '08:18AM\\xa0\\xa0', 'House select committee investigating Capitol riot subpoenas Google, Facebook, Twitter, Reddit'], ['FB', 'Jan-14-22', '07:00AM\\xa0\\xa0', '4 Reasons Meta Platforms Is Poised to Grow in 2022'], ['FB', 'Jan-14-22', '05:20AM\\xa0\\xa0', 'Facebook faces £2.3bn legal claim over social media dominance'], ['FB', 'Jan-13-22', '08:25PM\\xa0\\xa0', 'Twitter, Meta Among Companies Subpoenaed in House Riot Probe'], ['FB', 'Jan-13-22', '07:15PM\\xa0\\xa0', '3 Stocks That Underperformed in 2021'], ['FB', 'Jan-13-22', '07:05PM\\xa0\\xa0', 'Facebook faces $3.2 billion UK class action over market dominance'], ['FB', 'Jan-13-22', '07:01PM\\xa0\\xa0', 'Facebook legal action: 44 million UK users seek $3.2bn in compensation'], ['FB', 'Jan-13-22', '07:01PM\\xa0\\xa0', 'Legal action against Facebook seeks compensation for 44 million UK users'], ['FB', 'Jan-13-22', '07:00PM\\xa0\\xa0', 'Facebook faces $3.2 bln UK class action over market dominance'], ['FB', 'Jan-13-22', '04:45PM\\xa0\\xa0', '3 Bold Tech Predictions for 2022'], ['FB', 'Jan-13-22', '01:25PM\\xa0\\xa0', \"UPDATE 3-Facebook owner to 'assess feasibility' of human rights review on Ethiopia practices\"], ['FB', 'Jan-13-22', '01:19PM\\xa0\\xa0', \"Facebook owner to 'assess feasibility' of human rights review on Ethiopia practices\"], ['FB', 'Jan-13-22', '12:49PM\\xa0\\xa0', 'Earnings: Margins are going to be under attack in Q1, strategist says'], ['FB', 'Jan-13-22', '12:47PM\\xa0\\xa0', '3 mega-cap tech stocks that will gain big as interest rates rise: analyst'], ['FB', 'Jan-13-22', '11:14AM\\xa0\\xa0', 'Debt advice charity condemns misleading write-off ads on Facebook'], ['FB', 'Jan-13-22', '10:10AM\\xa0\\xa0', 'Amazon is hunting three big whales in its retail business: Analyst'], ['FB', 'Jan-13-22', '09:30AM\\xa0\\xa0', \"Are Meta's $90 Billion Expenses Risky for Investors?\"], ['FB', 'Jan-13-22', '09:30AM\\xa0\\xa0', '2 Dirt-Cheap Cryptocurrencies That Could Soar in 2022'], ['FB', 'Jan-13-22', '09:24AM\\xa0\\xa0', 'Barbara Corcoran: Metaverse real estate deals are half hype, half reality'], ['FB', 'Jan-13-22', '08:00AM\\xa0\\xa0', \"Investing in AI or VR Stocks? Don't Overlook Meta Platforms in 2022\"], ['FB', 'Jan-13-22', '06:45AM\\xa0\\xa0', 'My Favorite Metaverse Stock for 2022 Has 25% Upside'], ['FB', 'Jan-12-22', '07:01PM\\xa0\\xa0', 'Facebook and Twitter failing to tackle fake review factories, says Which?'], ['FB', 'Jan-12-22', '07:01PM\\xa0\\xa0', 'Facebook and Twitter failing to tackle fake review factories'], ['FB', 'Jan-12-22', '05:49PM\\xa0\\xa0', 'UPDATE 1-White House encouraged by rejection of Facebook request to dismiss antitrust lawsuit'], ['FB', 'Jan-12-22', '03:51PM\\xa0\\xa0', 'A new ruling on Meta antitrust accusations could mean selling Instagram and WhatsApp'], ['FB', 'Jan-12-22', '03:13PM\\xa0\\xa0', 'Video Highlights  Big Data, Privacy & Advertising: System1 Founder & CEO in Fireside Chat'], ['FB', 'Jan-12-22', '02:49PM\\xa0\\xa0', 'Microsoft Hires Key Apple Engineer to Work on Custom Chips'], ['FB', 'Jan-12-22', '01:53PM\\xa0\\xa0', 'Take-Twos $12.7 billion purchase of Zynga will combat Apples privacy changes'], ['FB', 'Jan-12-22', '01:30PM\\xa0\\xa0', 'Vast majority of companies to host hybrid events in 2022: Splash'], ['FB', 'Jan-12-22', '01:14PM\\xa0\\xa0', 'Amazon must improve this if it wants the stock price to go up: analyst'], ['FB', 'Jan-12-22', '12:58PM\\xa0\\xa0', \"Barbara Corcoran details 'the million-dollar question' for homebuyers right now\"], ['FB', 'Jan-12-22', '12:34PM\\xa0\\xa0', 'FTC antitrust lawsuit against Meta can proceed, judge rules'], ['FB', 'Jan-12-22', '12:20PM\\xa0\\xa0', \"Apple's (AAPL) Interests Lies in AR Than in the Metaverse\"], ['FB', 'Jan-12-22', '10:38AM\\xa0\\xa0', 'Meta Platforms adds DoorDash CEO Tony Xu to board of directors'], ['FB', 'Jan-12-22', '10:30AM\\xa0\\xa0', 'Meta Platforms Earnings: What to Watch'], ['FB', 'Jan-12-22', '10:30AM\\xa0\\xa0', 'How Meta Platforms Is Targeting These 2 Tech Giants'], ['FB', 'Jan-12-22', '10:12AM\\xa0\\xa0', \"BofA cuts overdraft fees, DoorDash CEO to join Meta's board, celebrities sued for alleged 'crypto scam'\"], ['FB', 'Jan-12-22', '09:38AM\\xa0\\xa0', 'Resource Planning Group Buys iShares MSCI Emerging Markets ex China ETF, SPDR MSCI USA ...'], ['FB', 'Jan-12-22', '09:38AM\\xa0\\xa0', 'DnB Asset Management AS Buys Check Point Software Technologies, Apple Inc, Accenture PLC, Sells ...'], ['FB', 'Jan-12-22', '09:38AM\\xa0\\xa0', 'Neumann Advisory Hong Kong Ltd Buys Elastic NV, Navitas Semiconductor Corp, Wolfspeed Inc, ...'], ['FB', 'Jan-12-22', '08:30AM\\xa0\\xa0', '2 Monster Stocks to Buy for 2022 That Are Practically Minting Money'], ['FB', 'Jan-12-22', '08:00AM\\xa0\\xa0', 'Magic Leap Goes After Medical Customers With Augmented Reality Headset'], ['FB', 'Jan-12-22', '06:21AM\\xa0\\xa0', 'Meta Platforms Stock Has Become a Bargain'], ['FB', 'Jan-12-22', '06:01AM\\xa0\\xa0', '6 Stocks to Buy According to Dan Jurans Rings Capital'], ['FB', 'Jan-12-22', '04:42AM\\xa0\\xa0', 'Meta-Facebook, Not A So Cool Place To Work Anymore'], ['FB', 'Jan-12-22', '01:43AM\\xa0\\xa0', 'FTC Gets Thumb Up to Sue Meta Over Antitrust Violations'], ['FB', 'Jan-11-22', '08:21PM\\xa0\\xa0', 'Report: Microsoft is losing members of its augmented reality team to Meta'], ['FB', 'Jan-11-22', '06:28PM\\xa0\\xa0', 'FTCs Facebook Antitrust Suit Can Move Forward, Judge Rules'], ['FB', 'Jan-11-22', '04:30PM\\xa0\\xa0', 'Facebook parent company Meta names DoorDash CEO Xu to board'], ['FB', 'Jan-11-22', '04:28PM\\xa0\\xa0', 'Market check: Nasdaq stocks stage comeback, Dow and S&P 500 close near all-time highs'], ['FB', 'Jan-11-22', '04:05PM\\xa0\\xa0', 'Facebook Parent Meta Names DoorDash CEO Tony Xu as a Director'], ['FB', 'Jan-11-22', '04:00PM\\xa0\\xa0', 'Federal judge rules FTC can proceed with antitrust suit against Facebook parent Meta'], ['FB', 'Jan-11-22', '03:34PM\\xa0\\xa0', 'UPDATE 3-U.S. judge rejects Facebook request to dismiss FTC antitrust lawsuit'], ['FB', 'Jan-11-22', '03:21PM\\xa0\\xa0', 'U.S. judge rejects Facebook request to dismiss FTC antitrust lawsuit'], ['FB', 'Jan-11-22', '02:29PM\\xa0\\xa0', 'Market strategist: The issue with tech stocks is simply one of valuation'], ['FB', 'Jan-11-22', '02:29PM\\xa0\\xa0', 'Corporate titans among top companies for remote work in 2022'], ['FB', 'Jan-11-22', '01:38PM\\xa0\\xa0', 'Centre Asset Management, LLC Buys BHP Group, Intel Corp, Coterra Energy Inc, Sells Meta ...'], ['FB', 'Jan-11-22', '12:10PM\\xa0\\xa0', 'Can Meta Platforms (FB) Keep the Earnings Surprise Streak Alive?'], ['FB', 'Jan-11-22', '11:55AM\\xa0\\xa0', \"Apple's Tim Cook made $98M in 2021  how that compares to other tech CEOs\"], ['FB', 'Jan-11-22', '11:13AM\\xa0\\xa0', 'Average investors are still big believers in stocks: Bank of America'], ['FB', 'Jan-11-22', '11:00AM\\xa0\\xa0', \"4 Stocks I'm Watching This Week as Potential Buys\"], ['FB', 'Jan-11-22', '10:31AM\\xa0\\xa0', 'Meta Platforms again pushes back return-to-office date, requires booster shots for workers who return'], ['FB', 'Jan-11-22', '10:14AM\\xa0\\xa0', 'Covid Hospitalizations Hit a Record High. Pfizers Omicron Vaccine Will Be Ready by March.'], ['FB', 'Jan-11-22', '09:38AM\\xa0\\xa0', 'Junson Asset Management (Hong Kong) Ltd Buys Smartsheet Inc, Meta Platforms Inc, Microsoft ...'], ['FB', 'Jan-11-22', '09:03AM\\xa0\\xa0', '2 Surefire Metaverse Stocks You Can Buy Right Now'], ['FB', 'Jan-11-22', '09:03AM\\xa0\\xa0', 'Omicron will end up being a good thing for the stock market: JPMorgan'], ['FB', 'Jan-11-22', '08:19AM\\xa0\\xa0', 'Billionaire James Dinan is Selling These 10 Stocks'], ['FB', 'Jan-11-22', '05:53AM\\xa0\\xa0', 'Pfizers Omicron Vaccine to Be Ready by March, Meta Delays Its Office Return'], ['FB', 'Jan-11-22', '05:30AM\\xa0\\xa0', 'World Economic Forum: Expect 3 more years of consistent volatility, uneven recovery']]\n"
     ]
    }
   ],
   "source": [
    "for ticker,news_table in news_tables.items() :\n",
    "    \n",
    "    for row in news_table.findAll('tr'):\n",
    "        title = row.a.get_text()\n",
    "        date_data = row.td.text.split (' ')\n",
    "\n",
    "        if len (date_data) == 1 :\n",
    "            time = date_data[0]\n",
    "        else:\n",
    "            date = date_data[0]\n",
    "            time = date_data[1]\n",
    "        \n",
    "        parsed_data.append ([ticker,date,time,title])\n",
    "\n",
    "print (parsed_data)\n",
    "        \n"
   ]
  },
  {
   "cell_type": "markdown",
   "metadata": {},
   "source": [
    "#### Command prompt\n",
    "<p> !pip install nltk </p>\n",
    "<p> nltk.download ('veder lexicon') <p>"
   ]
  },
  {
   "cell_type": "code",
   "execution_count": 37,
   "metadata": {},
   "outputs": [],
   "source": [
    "df = pd.DataFrame (parsed_data,columns = ['ticker','date','time','title'])"
   ]
  },
  {
   "cell_type": "code",
   "execution_count": 38,
   "metadata": {},
   "outputs": [
    {
     "data": {
      "text/html": [
       "<div>\n",
       "<style scoped>\n",
       "    .dataframe tbody tr th:only-of-type {\n",
       "        vertical-align: middle;\n",
       "    }\n",
       "\n",
       "    .dataframe tbody tr th {\n",
       "        vertical-align: top;\n",
       "    }\n",
       "\n",
       "    .dataframe thead th {\n",
       "        text-align: right;\n",
       "    }\n",
       "</style>\n",
       "<table border=\"1\" class=\"dataframe\">\n",
       "  <thead>\n",
       "    <tr style=\"text-align: right;\">\n",
       "      <th></th>\n",
       "      <th>ticker</th>\n",
       "      <th>date</th>\n",
       "      <th>time</th>\n",
       "      <th>title</th>\n",
       "    </tr>\n",
       "  </thead>\n",
       "  <tbody>\n",
       "    <tr>\n",
       "      <th>0</th>\n",
       "      <td>AMZN</td>\n",
       "      <td>Jan-17-22</td>\n",
       "      <td>01:01PM</td>\n",
       "      <td>11 Best Delivery Stocks To Buy Now</td>\n",
       "    </tr>\n",
       "    <tr>\n",
       "      <th>1</th>\n",
       "      <td>AMZN</td>\n",
       "      <td>Jan-17-22</td>\n",
       "      <td>11:58AM</td>\n",
       "      <td>835 Reasons to Invest in Netflix Stock Right Now</td>\n",
       "    </tr>\n",
       "    <tr>\n",
       "      <th>2</th>\n",
       "      <td>AMZN</td>\n",
       "      <td>Jan-17-22</td>\n",
       "      <td>10:46AM</td>\n",
       "      <td>Amazon reverses decision to ban customers from...</td>\n",
       "    </tr>\n",
       "    <tr>\n",
       "      <th>3</th>\n",
       "      <td>AMZN</td>\n",
       "      <td>Jan-17-22</td>\n",
       "      <td>10:45AM</td>\n",
       "      <td>Amazon will continue to accept Visa credit car...</td>\n",
       "    </tr>\n",
       "    <tr>\n",
       "      <th>4</th>\n",
       "      <td>AMZN</td>\n",
       "      <td>Jan-17-22</td>\n",
       "      <td>09:47AM</td>\n",
       "      <td>VPN deals for January: Pay less for privacy wi...</td>\n",
       "    </tr>\n",
       "  </tbody>\n",
       "</table>\n",
       "</div>"
      ],
      "text/plain": [
       "  ticker       date       time  \\\n",
       "0   AMZN  Jan-17-22  01:01PM     \n",
       "1   AMZN  Jan-17-22  11:58AM     \n",
       "2   AMZN  Jan-17-22  10:46AM     \n",
       "3   AMZN  Jan-17-22  10:45AM     \n",
       "4   AMZN  Jan-17-22  09:47AM     \n",
       "\n",
       "                                               title  \n",
       "0                 11 Best Delivery Stocks To Buy Now  \n",
       "1   835 Reasons to Invest in Netflix Stock Right Now  \n",
       "2  Amazon reverses decision to ban customers from...  \n",
       "3  Amazon will continue to accept Visa credit car...  \n",
       "4  VPN deals for January: Pay less for privacy wi...  "
      ]
     },
     "execution_count": 38,
     "metadata": {},
     "output_type": "execute_result"
    }
   ],
   "source": [
    "df.head()"
   ]
  },
  {
   "cell_type": "code",
   "execution_count": 39,
   "metadata": {},
   "outputs": [],
   "source": [
    "vader = SentimentIntensityAnalyzer()"
   ]
  },
  {
   "cell_type": "code",
   "execution_count": 40,
   "metadata": {},
   "outputs": [
    {
     "name": "stdout",
     "output_type": "stream",
     "text": [
      "{'neg': 0.179, 'neu': 0.821, 'pos': 0.0, 'compound': -0.3412}\n"
     ]
    }
   ],
   "source": [
    "print (vader.polarity_scores(\" I don't think Apple a good company. I think they will do poolry this quarter\"))"
   ]
  },
  {
   "cell_type": "code",
   "execution_count": 41,
   "metadata": {},
   "outputs": [
    {
     "name": "stdout",
     "output_type": "stream",
     "text": [
      "{'neg': 0.438, 'neu': 0.562, 'pos': 0.0, 'compound': -0.7906}\n"
     ]
    }
   ],
   "source": [
    "print (vader.polarity_scores(\" I think Apple is a bad company and they will fail this quarter\"))"
   ]
  },
  {
   "cell_type": "code",
   "execution_count": 42,
   "metadata": {},
   "outputs": [],
   "source": [
    "f = lambda title: vader.polarity_scores(title)['compound']"
   ]
  },
  {
   "cell_type": "code",
   "execution_count": 43,
   "metadata": {},
   "outputs": [],
   "source": [
    "df ['compound'] = df['title'].apply(f)"
   ]
  },
  {
   "cell_type": "code",
   "execution_count": 44,
   "metadata": {},
   "outputs": [
    {
     "data": {
      "text/html": [
       "<div>\n",
       "<style scoped>\n",
       "    .dataframe tbody tr th:only-of-type {\n",
       "        vertical-align: middle;\n",
       "    }\n",
       "\n",
       "    .dataframe tbody tr th {\n",
       "        vertical-align: top;\n",
       "    }\n",
       "\n",
       "    .dataframe thead th {\n",
       "        text-align: right;\n",
       "    }\n",
       "</style>\n",
       "<table border=\"1\" class=\"dataframe\">\n",
       "  <thead>\n",
       "    <tr style=\"text-align: right;\">\n",
       "      <th></th>\n",
       "      <th>ticker</th>\n",
       "      <th>date</th>\n",
       "      <th>time</th>\n",
       "      <th>title</th>\n",
       "      <th>compound</th>\n",
       "    </tr>\n",
       "  </thead>\n",
       "  <tbody>\n",
       "    <tr>\n",
       "      <th>0</th>\n",
       "      <td>AMZN</td>\n",
       "      <td>Jan-17-22</td>\n",
       "      <td>01:01PM</td>\n",
       "      <td>11 Best Delivery Stocks To Buy Now</td>\n",
       "      <td>0.6369</td>\n",
       "    </tr>\n",
       "    <tr>\n",
       "      <th>1</th>\n",
       "      <td>AMZN</td>\n",
       "      <td>Jan-17-22</td>\n",
       "      <td>11:58AM</td>\n",
       "      <td>835 Reasons to Invest in Netflix Stock Right Now</td>\n",
       "      <td>0.0000</td>\n",
       "    </tr>\n",
       "    <tr>\n",
       "      <th>2</th>\n",
       "      <td>AMZN</td>\n",
       "      <td>Jan-17-22</td>\n",
       "      <td>10:46AM</td>\n",
       "      <td>Amazon reverses decision to ban customers from...</td>\n",
       "      <td>-0.0772</td>\n",
       "    </tr>\n",
       "    <tr>\n",
       "      <th>3</th>\n",
       "      <td>AMZN</td>\n",
       "      <td>Jan-17-22</td>\n",
       "      <td>10:45AM</td>\n",
       "      <td>Amazon will continue to accept Visa credit car...</td>\n",
       "      <td>0.7096</td>\n",
       "    </tr>\n",
       "    <tr>\n",
       "      <th>4</th>\n",
       "      <td>AMZN</td>\n",
       "      <td>Jan-17-22</td>\n",
       "      <td>09:47AM</td>\n",
       "      <td>VPN deals for January: Pay less for privacy wi...</td>\n",
       "      <td>-0.1027</td>\n",
       "    </tr>\n",
       "  </tbody>\n",
       "</table>\n",
       "</div>"
      ],
      "text/plain": [
       "  ticker       date       time  \\\n",
       "0   AMZN  Jan-17-22  01:01PM     \n",
       "1   AMZN  Jan-17-22  11:58AM     \n",
       "2   AMZN  Jan-17-22  10:46AM     \n",
       "3   AMZN  Jan-17-22  10:45AM     \n",
       "4   AMZN  Jan-17-22  09:47AM     \n",
       "\n",
       "                                               title  compound  \n",
       "0                 11 Best Delivery Stocks To Buy Now    0.6369  \n",
       "1   835 Reasons to Invest in Netflix Stock Right Now    0.0000  \n",
       "2  Amazon reverses decision to ban customers from...   -0.0772  \n",
       "3  Amazon will continue to accept Visa credit car...    0.7096  \n",
       "4  VPN deals for January: Pay less for privacy wi...   -0.1027  "
      ]
     },
     "execution_count": 44,
     "metadata": {},
     "output_type": "execute_result"
    }
   ],
   "source": [
    "df.head()"
   ]
  },
  {
   "cell_type": "code",
   "execution_count": 45,
   "metadata": {},
   "outputs": [],
   "source": [
    "df['date'] = pd.to_datetime (df.date).dt.date"
   ]
  },
  {
   "cell_type": "code",
   "execution_count": 46,
   "metadata": {},
   "outputs": [
    {
     "data": {
      "text/plain": [
       "<Figure size 720x576 with 0 Axes>"
      ]
     },
     "execution_count": 46,
     "metadata": {},
     "output_type": "execute_result"
    },
    {
     "data": {
      "text/plain": [
       "<Figure size 720x576 with 0 Axes>"
      ]
     },
     "metadata": {},
     "output_type": "display_data"
    }
   ],
   "source": [
    "plt.figure (figsize=(10,8))"
   ]
  },
  {
   "cell_type": "code",
   "execution_count": 47,
   "metadata": {},
   "outputs": [],
   "source": [
    "mean_df = df.groupby (['ticker','date']).mean ()"
   ]
  },
  {
   "cell_type": "code",
   "execution_count": 48,
   "metadata": {},
   "outputs": [
    {
     "data": {
      "text/html": [
       "<div>\n",
       "<style scoped>\n",
       "    .dataframe tbody tr th:only-of-type {\n",
       "        vertical-align: middle;\n",
       "    }\n",
       "\n",
       "    .dataframe tbody tr th {\n",
       "        vertical-align: top;\n",
       "    }\n",
       "\n",
       "    .dataframe thead th {\n",
       "        text-align: right;\n",
       "    }\n",
       "</style>\n",
       "<table border=\"1\" class=\"dataframe\">\n",
       "  <thead>\n",
       "    <tr style=\"text-align: right;\">\n",
       "      <th></th>\n",
       "      <th></th>\n",
       "      <th>compound</th>\n",
       "    </tr>\n",
       "    <tr>\n",
       "      <th>ticker</th>\n",
       "      <th>date</th>\n",
       "      <th></th>\n",
       "    </tr>\n",
       "  </thead>\n",
       "  <tbody>\n",
       "    <tr>\n",
       "      <th rowspan=\"6\" valign=\"top\">AMZN</th>\n",
       "      <th>2022-01-12</th>\n",
       "      <td>0.197547</td>\n",
       "    </tr>\n",
       "    <tr>\n",
       "      <th>2022-01-13</th>\n",
       "      <td>0.140929</td>\n",
       "    </tr>\n",
       "    <tr>\n",
       "      <th>2022-01-14</th>\n",
       "      <td>0.107890</td>\n",
       "    </tr>\n",
       "    <tr>\n",
       "      <th>2022-01-15</th>\n",
       "      <td>-0.000933</td>\n",
       "    </tr>\n",
       "    <tr>\n",
       "      <th>2022-01-16</th>\n",
       "      <td>0.247360</td>\n",
       "    </tr>\n",
       "    <tr>\n",
       "      <th>2022-01-17</th>\n",
       "      <td>0.364294</td>\n",
       "    </tr>\n",
       "    <tr>\n",
       "      <th rowspan=\"7\" valign=\"top\">FB</th>\n",
       "      <th>2022-01-11</th>\n",
       "      <td>0.064087</td>\n",
       "    </tr>\n",
       "    <tr>\n",
       "      <th>2022-01-12</th>\n",
       "      <td>-0.131892</td>\n",
       "    </tr>\n",
       "    <tr>\n",
       "      <th>2022-01-13</th>\n",
       "      <td>0.027917</td>\n",
       "    </tr>\n",
       "    <tr>\n",
       "      <th>2022-01-14</th>\n",
       "      <td>-0.014804</td>\n",
       "    </tr>\n",
       "    <tr>\n",
       "      <th>2022-01-15</th>\n",
       "      <td>-0.148000</td>\n",
       "    </tr>\n",
       "    <tr>\n",
       "      <th>2022-01-16</th>\n",
       "      <td>0.403100</td>\n",
       "    </tr>\n",
       "    <tr>\n",
       "      <th>2022-01-17</th>\n",
       "      <td>0.448220</td>\n",
       "    </tr>\n",
       "    <tr>\n",
       "      <th rowspan=\"7\" valign=\"top\">GOOG</th>\n",
       "      <th>2022-01-11</th>\n",
       "      <td>0.182617</td>\n",
       "    </tr>\n",
       "    <tr>\n",
       "      <th>2022-01-12</th>\n",
       "      <td>0.087082</td>\n",
       "    </tr>\n",
       "    <tr>\n",
       "      <th>2022-01-13</th>\n",
       "      <td>0.109565</td>\n",
       "    </tr>\n",
       "    <tr>\n",
       "      <th>2022-01-14</th>\n",
       "      <td>0.058164</td>\n",
       "    </tr>\n",
       "    <tr>\n",
       "      <th>2022-01-15</th>\n",
       "      <td>-0.526700</td>\n",
       "    </tr>\n",
       "    <tr>\n",
       "      <th>2022-01-16</th>\n",
       "      <td>0.598400</td>\n",
       "    </tr>\n",
       "    <tr>\n",
       "      <th>2022-01-17</th>\n",
       "      <td>0.319610</td>\n",
       "    </tr>\n",
       "  </tbody>\n",
       "</table>\n",
       "</div>"
      ],
      "text/plain": [
       "                   compound\n",
       "ticker date                \n",
       "AMZN   2022-01-12  0.197547\n",
       "       2022-01-13  0.140929\n",
       "       2022-01-14  0.107890\n",
       "       2022-01-15 -0.000933\n",
       "       2022-01-16  0.247360\n",
       "       2022-01-17  0.364294\n",
       "FB     2022-01-11  0.064087\n",
       "       2022-01-12 -0.131892\n",
       "       2022-01-13  0.027917\n",
       "       2022-01-14 -0.014804\n",
       "       2022-01-15 -0.148000\n",
       "       2022-01-16  0.403100\n",
       "       2022-01-17  0.448220\n",
       "GOOG   2022-01-11  0.182617\n",
       "       2022-01-12  0.087082\n",
       "       2022-01-13  0.109565\n",
       "       2022-01-14  0.058164\n",
       "       2022-01-15 -0.526700\n",
       "       2022-01-16  0.598400\n",
       "       2022-01-17  0.319610"
      ]
     },
     "execution_count": 48,
     "metadata": {},
     "output_type": "execute_result"
    }
   ],
   "source": [
    "mean_df"
   ]
  },
  {
   "cell_type": "code",
   "execution_count": 49,
   "metadata": {},
   "outputs": [
    {
     "data": {
      "text/html": [
       "<div>\n",
       "<style scoped>\n",
       "    .dataframe tbody tr th:only-of-type {\n",
       "        vertical-align: middle;\n",
       "    }\n",
       "\n",
       "    .dataframe tbody tr th {\n",
       "        vertical-align: top;\n",
       "    }\n",
       "\n",
       "    .dataframe thead th {\n",
       "        text-align: right;\n",
       "    }\n",
       "</style>\n",
       "<table border=\"1\" class=\"dataframe\">\n",
       "  <thead>\n",
       "    <tr style=\"text-align: right;\">\n",
       "      <th>ticker</th>\n",
       "      <th>AMZN</th>\n",
       "      <th>FB</th>\n",
       "      <th>GOOG</th>\n",
       "    </tr>\n",
       "    <tr>\n",
       "      <th>date</th>\n",
       "      <th></th>\n",
       "      <th></th>\n",
       "      <th></th>\n",
       "    </tr>\n",
       "  </thead>\n",
       "  <tbody>\n",
       "    <tr>\n",
       "      <th>2022-01-11</th>\n",
       "      <td>NaN</td>\n",
       "      <td>0.064087</td>\n",
       "      <td>0.182617</td>\n",
       "    </tr>\n",
       "    <tr>\n",
       "      <th>2022-01-12</th>\n",
       "      <td>0.197547</td>\n",
       "      <td>-0.131892</td>\n",
       "      <td>0.087082</td>\n",
       "    </tr>\n",
       "    <tr>\n",
       "      <th>2022-01-13</th>\n",
       "      <td>0.140929</td>\n",
       "      <td>0.027917</td>\n",
       "      <td>0.109565</td>\n",
       "    </tr>\n",
       "    <tr>\n",
       "      <th>2022-01-14</th>\n",
       "      <td>0.107890</td>\n",
       "      <td>-0.014804</td>\n",
       "      <td>0.058164</td>\n",
       "    </tr>\n",
       "    <tr>\n",
       "      <th>2022-01-15</th>\n",
       "      <td>-0.000933</td>\n",
       "      <td>-0.148000</td>\n",
       "      <td>-0.526700</td>\n",
       "    </tr>\n",
       "    <tr>\n",
       "      <th>2022-01-16</th>\n",
       "      <td>0.247360</td>\n",
       "      <td>0.403100</td>\n",
       "      <td>0.598400</td>\n",
       "    </tr>\n",
       "    <tr>\n",
       "      <th>2022-01-17</th>\n",
       "      <td>0.364294</td>\n",
       "      <td>0.448220</td>\n",
       "      <td>0.319610</td>\n",
       "    </tr>\n",
       "  </tbody>\n",
       "</table>\n",
       "</div>"
      ],
      "text/plain": [
       "ticker          AMZN        FB      GOOG\n",
       "date                                    \n",
       "2022-01-11       NaN  0.064087  0.182617\n",
       "2022-01-12  0.197547 -0.131892  0.087082\n",
       "2022-01-13  0.140929  0.027917  0.109565\n",
       "2022-01-14  0.107890 -0.014804  0.058164\n",
       "2022-01-15 -0.000933 -0.148000 -0.526700\n",
       "2022-01-16  0.247360  0.403100  0.598400\n",
       "2022-01-17  0.364294  0.448220  0.319610"
      ]
     },
     "execution_count": 49,
     "metadata": {},
     "output_type": "execute_result"
    }
   ],
   "source": [
    "mean_df = mean_df.unstack()\n",
    "mean_df = mean_df.xs ('compound',axis=\"columns\").transpose()\n",
    "mean_df"
   ]
  },
  {
   "cell_type": "code",
   "execution_count": 51,
   "metadata": {},
   "outputs": [
    {
     "data": {
      "image/png": "[encoded data removed]",
      "text/plain": [
       "<Figure size 432x288 with 1 Axes>"
      ]
     },
     "metadata": {
      "needs_background": "light"
     },
     "output_type": "display_data"
    }
   ],
   "source": [
    "mean_df.plot (kind='bar')\n",
    "plt.show() "
   ]
  },
  {
   "cell_type": "code",
   "execution_count": null,
   "metadata": {},
   "outputs": [],
   "source": []
  }
 ],
 "metadata": {
  "interpreter": {
   "hash": "6cc6f1ff2b5b3e7d30373767f06362abe3160939d7e590e7f082113e6464908a"
  },
  "kernelspec": {
   "display_name": "Python 3.9.7 64-bit (system)",
   "language": "python",
   "name": "python3"
  },
  "language_info": {
   "codemirror_mode": {
    "name": "ipython",
    "version": 3
   },
   "file_extension": ".py",
   "mimetype": "text/x-python",
   "name": "python",
   "nbconvert_exporter": "python",
   "pygments_lexer": "ipython3",
   "version": "3.9.7"
  },
  "orig_nbformat": 4
 },
 "nbformat": 4,
 "nbformat_minor": 2
}
